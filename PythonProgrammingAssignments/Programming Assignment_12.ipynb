{
 "cells": [
  {
   "cell_type": "markdown",
   "metadata": {},
   "source": [
    "# Python Basic Programming Assignment 12\n",
    "-------------"
   ]
  },
  {
   "cell_type": "markdown",
   "metadata": {},
   "source": [
    "### 1. Write a Python program to Extract Unique values dictionary values?"
   ]
  },
  {
   "cell_type": "code",
   "execution_count": 9,
   "metadata": {},
   "outputs": [
    {
     "name": "stdout",
     "output_type": "stream",
     "text": [
      "abeg\n",
      "ashis\n",
      "ashik\n"
     ]
    }
   ],
   "source": [
    "def ExtractUiqueValue(my_dict):\n",
    "    my_set=set()\n",
    "    for i in my_dict.values():\n",
    "        my_set.add(i)\n",
    "    return my_set\n",
    "        \n",
    "    \n",
    "my_dict={1:\"abeg\",2:\"ashis\",3:\"ashik\",4:\"abeg\",5:\"ashik\"}\n",
    "for i in ExtractUiqueValue(my_dict):\n",
    "    print(i)"
   ]
  },
  {
   "cell_type": "markdown",
   "metadata": {},
   "source": [
    "### 2. Write a Python program to find the sum of all items in a dictionary?"
   ]
  },
  {
   "cell_type": "code",
   "execution_count": 12,
   "metadata": {},
   "outputs": [
    {
     "name": "stdout",
     "output_type": "stream",
     "text": [
      "The sum of ell items in a dictionay is :  1000\n"
     ]
    }
   ],
   "source": [
    "def sumvalDict(my_dict):\n",
    "    sum=0\n",
    "    for i in my_dict.values():\n",
    "        sum+=i\n",
    "    return sum\n",
    "    \n",
    "my_dict={'a':100,'b':400,'c':500}\n",
    "print(\"The sum of ell items in a dictionay is : \",sumvalDict(my_dict))"
   ]
  },
  {
   "cell_type": "markdown",
   "metadata": {},
   "source": [
    "### 3. Write a Python program to Merging two Dictionaries?"
   ]
  },
  {
   "cell_type": "code",
   "execution_count": 14,
   "metadata": {},
   "outputs": [
    {
     "name": "stdout",
     "output_type": "stream",
     "text": [
      "Merge of two dict is : {'a': 100, 'b': 400, 'c': 500, 'd': 900, 'e': 800, 'f': 600}\n"
     ]
    }
   ],
   "source": [
    "def mergeTwoDict(my_dict1,my_dict2):\n",
    "    my_dict1.update(my_dict2)\n",
    "    return my_dict1\n",
    "    \n",
    "dict1={'a':100,'b':400,'c':500}\n",
    "dict2={'d':900,'e':800,'f':600}\n",
    "print(\"Merge of two dict is :\",mergeTwoDict(dict1,dict2))"
   ]
  },
  {
   "cell_type": "markdown",
   "metadata": {},
   "source": [
    "### 4. Write a Python program to convert key-values list to flat dictionary?"
   ]
  },
  {
   "cell_type": "code",
   "execution_count": 17,
   "metadata": {},
   "outputs": [
    {
     "name": "stdout",
     "output_type": "stream",
     "text": [
      "Original dict is  {'day': [1, 2, 3, 4, 5, 6, 7], 'name': ['mon', 'Tue', 'Wed', 'Thu', 'Fri', 'Sat', 'Sun']}\n",
      "{1: 'mon', 2: 'Tue', 3: 'Wed', 4: 'Thu', 5: 'Fri', 6: 'Sat', 7: 'Sun'}\n"
     ]
    }
   ],
   "source": [
    "my_dict={\"day\":[1,2,3,4,5,6,7],\"name\":[\"mon\",\"Tue\",\"Wed\",\"Thu\",\"Fri\",\"Sat\",\"Sun\"]}\n",
    "print(\"Original dict is \",str(my_dict))\n",
    "val_list=list(my_dict.values())\n",
    "a=val_list[0]\n",
    "b=val_list[1]\n",
    "d=dict()\n",
    "for i in range(len(a)):\n",
    "    d[a[i]]=b[i]\n",
    "print(d)"
   ]
  },
  {
   "cell_type": "code",
   "execution_count": 19,
   "metadata": {},
   "outputs": [
    {
     "name": "stdout",
     "output_type": "stream",
     "text": [
      "Original dict is  {'day': [1, 2, 3, 4, 5, 6, 7], 'name': ['mon', 'Tue', 'Wed', 'Thu', 'Fri', 'Sat', 'Sun']}\n",
      "Flatten Dict is :  {1: 'mon', 2: 'Tue', 3: 'Wed', 4: 'Thu', 5: 'Fri', 6: 'Sat', 7: 'Sun'}\n"
     ]
    }
   ],
   "source": [
    "my_dict={\"day\":[1,2,3,4,5,6,7],\"name\":[\"mon\",\"Tue\",\"Wed\",\"Thu\",\"Fri\",\"Sat\",\"Sun\"]}\n",
    "print(\"Original dict is \",str(my_dict))\n",
    "f_dict=dict(zip(my_dict[\"day\"],my_dict[\"name\"]))\n",
    "print(\"Flatten Dict is : \",f_dict)"
   ]
  },
  {
   "cell_type": "markdown",
   "metadata": {},
   "source": [
    "### 5. Write a Python program to insertion at the beginning in OrderedDict?"
   ]
  },
  {
   "cell_type": "code",
   "execution_count": 21,
   "metadata": {},
   "outputs": [
    {
     "name": "stdout",
     "output_type": "stream",
     "text": [
      "OrderedDict([('D', '400'), ('A', '100'), ('B', '200'), ('C', '300')])\n"
     ]
    }
   ],
   "source": [
    "from collections import OrderedDict\n",
    "my_dic1 = OrderedDict([('A', '100'), ('B', '200'), ('C', '300')])\n",
    "my_dic1.update({'D':'400'})\n",
    "my_dic1.move_to_end('D',last=False)\n",
    "print(my_dic1)\n",
    "\n"
   ]
  },
  {
   "cell_type": "markdown",
   "metadata": {},
   "source": [
    "### 6. Write a Python program to check order of character in string using OrderedDict()?"
   ]
  },
  {
   "cell_type": "code",
   "execution_count": 33,
   "metadata": {},
   "outputs": [
    {
     "name": "stdout",
     "output_type": "stream",
     "text": [
      "abegpatel ---> ab = Order matched\n"
     ]
    }
   ],
   "source": [
    "from collections import OrderedDict\n",
    "def checkorder(string,pattern):\n",
    "    my_dict=OrderedDict.fromkeys(string)\n",
    "    ptrlen=0\n",
    "    for key in my_dict:\n",
    "        if key == pattern[ptrlen]:\n",
    "            ptrlen+=1\n",
    "        if(len(pattern)==ptrlen):\n",
    "            return \"Order matched\"\n",
    "    return \"Odere Unmatched\"\n",
    "string=\"abegpatel\"\n",
    "pattern=\"ab\"\n",
    "print(string + \" ---> \" + pattern + \" = \" + str(checkorder(string,pattern)))"
   ]
  },
  {
   "cell_type": "markdown",
   "metadata": {},
   "source": [
    "### 7. Write a Python program to sort Python Dictionaries by Key or Value?"
   ]
  },
  {
   "cell_type": "code",
   "execution_count": 35,
   "metadata": {},
   "outputs": [
    {
     "name": "stdout",
     "output_type": "stream",
     "text": [
      "(1, 900)\n",
      "(2, 200)\n",
      "(3, 300)\n",
      "(4, 400)\n",
      "(5, 600)\n",
      "(6, 700)\n",
      "(8, 100)\n",
      "(9, 500)\n",
      "None\n"
     ]
    }
   ],
   "source": [
    "def Sortkv(my_dict):\n",
    "    for k,v in sorted(my_dict.items()):\n",
    "        print((k,my_dict[k]))\n",
    "        \n",
    "    \n",
    "my_dict={2:200,3:300,4:400,5:600,8:100,1:900,9:500,6:700}\n",
    "print(Sortkv(my_dict))"
   ]
  },
  {
   "cell_type": "code",
   "execution_count": null,
   "metadata": {},
   "outputs": [],
   "source": []
  },
  {
   "cell_type": "code",
   "execution_count": null,
   "metadata": {},
   "outputs": [],
   "source": []
  },
  {
   "cell_type": "code",
   "execution_count": null,
   "metadata": {},
   "outputs": [],
   "source": []
  },
  {
   "cell_type": "code",
   "execution_count": null,
   "metadata": {},
   "outputs": [],
   "source": []
  }
 ],
 "metadata": {
  "kernelspec": {
   "display_name": "Python 3",
   "language": "python",
   "name": "python3"
  },
  "language_info": {
   "codemirror_mode": {
    "name": "ipython",
    "version": 3
   },
   "file_extension": ".py",
   "mimetype": "text/x-python",
   "name": "python",
   "nbconvert_exporter": "python",
   "pygments_lexer": "ipython3",
   "version": "3.8.3"
  }
 },
 "nbformat": 4,
 "nbformat_minor": 5
}
