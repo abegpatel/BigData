{
 "cells": [
  {
   "cell_type": "markdown",
   "metadata": {},
   "source": [
    "## Programming Assignment_4\n",
    "----------------"
   ]
  },
  {
   "cell_type": "markdown",
   "metadata": {},
   "source": [
    "### 1. Write a Python Program to Find the Factorial of a Number?\n",
    "##### Sol."
   ]
  },
  {
   "cell_type": "code",
   "execution_count": 3,
   "metadata": {},
   "outputs": [
    {
     "name": "stdout",
     "output_type": "stream",
     "text": [
      "Enter the no.5\n",
      "120\n"
     ]
    }
   ],
   "source": [
    "n=int(input(\"Enter the no.\"))\n",
    "f=1\n",
    "for i in range(1,n+1):\n",
    "    f=f*i\n",
    "print(f)"
   ]
  },
  {
   "cell_type": "markdown",
   "metadata": {},
   "source": [
    "### 2. Write a Python Program to Display the multiplication Table?\n",
    "##### Sol."
   ]
  },
  {
   "cell_type": "code",
   "execution_count": 7,
   "metadata": {},
   "outputs": [
    {
     "name": "stdout",
     "output_type": "stream",
     "text": [
      "Enter the no2\n",
      "2 * 1 = 2\n",
      "2 * 2 = 4\n",
      "2 * 3 = 6\n",
      "2 * 4 = 8\n",
      "2 * 5 = 10\n",
      "2 * 6 = 12\n",
      "2 * 7 = 14\n",
      "2 * 8 = 16\n",
      "2 * 9 = 18\n",
      "2 * 10 = 20\n"
     ]
    }
   ],
   "source": [
    "n=int(input(\"Enter the no\"))\n",
    "for i in range(1,11):\n",
    "    print(\"{} * {} = {}\".format(n,i,n*i))\n",
    "    "
   ]
  },
  {
   "cell_type": "markdown",
   "metadata": {},
   "source": [
    "### 3. Write a Python Program to Print the Fibonacci sequence?\n",
    "##### Sol."
   ]
  },
  {
   "cell_type": "code",
   "execution_count": 17,
   "metadata": {},
   "outputs": [
    {
     "name": "stdout",
     "output_type": "stream",
     "text": [
      "Enter the no of seqence you want to print : 10\n",
      "0\n",
      "1\n",
      "1\n",
      "2\n",
      "3\n",
      "5\n",
      "8\n",
      "13\n",
      "21\n",
      "34\n",
      "None\n"
     ]
    }
   ],
   "source": [
    "def FiboSeq(n):\n",
    "    a=-1\n",
    "    b=1\n",
    "    if n<=0:\n",
    "        print(\"Please Enter a positive no\")\n",
    "    elif n==1:\n",
    "        return 1\n",
    "    else:\n",
    "        for i in range(1,n+1):\n",
    "            c=a+b\n",
    "            print(c)\n",
    "            a=b\n",
    "            b=c\n",
    "            \n",
    "n=int(input(\"Enter the no of seqence you want to print : \"))    \n",
    "print(FiboSeq(n))"
   ]
  },
  {
   "cell_type": "markdown",
   "metadata": {},
   "source": [
    "### 4. Write a Python Program to Check Armstrong Number?\n",
    "##### Sol. "
   ]
  },
  {
   "cell_type": "code",
   "execution_count": 20,
   "metadata": {},
   "outputs": [
    {
     "name": "stdout",
     "output_type": "stream",
     "text": [
      "Enter the no : 407\n",
      "It is a Armstrong Number\n"
     ]
    }
   ],
   "source": [
    "n=int(input(\"Enter the no : \"))\n",
    "s=0\n",
    "temp=n\n",
    "while(temp>0):\n",
    "    d=temp%10\n",
    "    d=d*d*d\n",
    "    s=s+d\n",
    "    temp=temp//10\n",
    "if(s==n):\n",
    "    print(\"It is a Armstrong Number\")\n",
    "else:\n",
    "    print(\"It is not a Armstrong Number\")\n",
    "    \n",
    "    "
   ]
  },
  {
   "cell_type": "markdown",
   "metadata": {},
   "source": [
    "### 5. Write a Python Program to Find Armstrong Number in an Interval?\n",
    "##### Sol."
   ]
  },
  {
   "cell_type": "code",
   "execution_count": 24,
   "metadata": {},
   "outputs": [
    {
     "name": "stdout",
     "output_type": "stream",
     "text": [
      "Enter the lower bound: 100\n",
      "Enter the upper bound: 1000\n",
      "Armstrong Numbers are: \n",
      "153\n",
      "370\n",
      "371\n",
      "407\n"
     ]
    }
   ],
   "source": [
    "lw=int(input(\"Enter the lower bound: \"))\n",
    "up=int(input(\"Enter the upper bound: \"))\n",
    "print(\"Armstrong Numbers are: \")\n",
    "for i in range(lw,up+1):\n",
    "    temp=i\n",
    "    s=0\n",
    "    while(temp>0):\n",
    "        d=temp%10\n",
    "        d=d*d*d\n",
    "        s=s+d\n",
    "        temp=temp//10\n",
    "    if(s==i):\n",
    "        print(i)"
   ]
  },
  {
   "cell_type": "markdown",
   "metadata": {},
   "source": [
    "### 6. Write a Python Program to Find the Sum of Natural Numbers?\n",
    "##### Sol."
   ]
  },
  {
   "cell_type": "code",
   "execution_count": 29,
   "metadata": {},
   "outputs": [
    {
     "name": "stdout",
     "output_type": "stream",
     "text": [
      "Enter the no : 4\n",
      "The sum of natural no is  10\n"
     ]
    }
   ],
   "source": [
    "n=int(input(\"Enter the no : \"))\n",
    "print(\"The sum of natural no is \",n*(n+1)//2)"
   ]
  },
  {
   "cell_type": "code",
   "execution_count": 33,
   "metadata": {},
   "outputs": [
    {
     "name": "stdout",
     "output_type": "stream",
     "text": [
      "Enter the No : 16\n",
      "136\n"
     ]
    }
   ],
   "source": [
    "s=0\n",
    "n=int(input(\"Enter the No : \"))\n",
    "for i in range(1,n+1):\n",
    "    s+=i\n",
    "print(s)"
   ]
  },
  {
   "cell_type": "code",
   "execution_count": null,
   "metadata": {},
   "outputs": [],
   "source": []
  }
 ],
 "metadata": {
  "kernelspec": {
   "display_name": "Python 3",
   "language": "python",
   "name": "python3"
  },
  "language_info": {
   "codemirror_mode": {
    "name": "ipython",
    "version": 3
   },
   "file_extension": ".py",
   "mimetype": "text/x-python",
   "name": "python",
   "nbconvert_exporter": "python",
   "pygments_lexer": "ipython3",
   "version": "3.8.3"
  }
 },
 "nbformat": 4,
 "nbformat_minor": 5
}
