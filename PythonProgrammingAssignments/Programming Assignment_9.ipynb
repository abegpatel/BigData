{
 "cells": [
  {
   "cell_type": "markdown",
   "metadata": {},
   "source": [
    "## Programming Assignment_9\n",
    "----------------"
   ]
  },
  {
   "cell_type": "markdown",
   "metadata": {},
   "source": [
    "### 1. Write a Python program to check if the given number is a Disarium Number?\n",
    "##### ans:"
   ]
  },
  {
   "cell_type": "code",
   "execution_count": 15,
   "metadata": {},
   "outputs": [
    {
     "name": "stdout",
     "output_type": "stream",
     "text": [
      "Enter the number135\n",
      "135 is a Disarium Number\n"
     ]
    }
   ],
   "source": [
    "#1^1 + 3^2 + 5^3 = 135\n",
    "def DisariumNumber(num):\n",
    "    temp,count,sum=num,len(str(num)),0\n",
    "    while(temp>0):\n",
    "        d=temp%10\n",
    "        sum=sum+d**count\n",
    "        temp=temp//10\n",
    "        count-=1\n",
    "    if(sum==num):\n",
    "        flag=True\n",
    "    else:\n",
    "        flag=False\n",
    "    return flag\n",
    "    \n",
    "num=int(input(\"Enter the number\"))\n",
    "if DisariumNumber(num):\n",
    "    print(num,\"is a Disarium Number\")\n",
    "else:\n",
    "    print(num,\"is not a Disarium Number\")"
   ]
  },
  {
   "cell_type": "markdown",
   "metadata": {},
   "source": [
    "---------------------------\n",
    "### 2. Write a Python program to print all disarium numbers between 1 to 100?\n",
    "##### ans:"
   ]
  },
  {
   "cell_type": "code",
   "execution_count": 10,
   "metadata": {},
   "outputs": [
    {
     "name": "stdout",
     "output_type": "stream",
     "text": [
      "[1, 2, 3, 4, 5, 6, 7, 8, 9, 89]\n"
     ]
    }
   ],
   "source": [
    "temp,count,sum=num,len(str(num)),0\n",
    "lw=1\n",
    "up=100\n",
    "disarum_lst=[]\n",
    "for i in range(lw,up+1):\n",
    "    temp,count,sum=i,len(str(i)),0\n",
    "    while(temp>0):\n",
    "        d=temp%10\n",
    "        sum=sum+d**count\n",
    "        temp=temp//10\n",
    "        count-=1\n",
    "    if(sum==i):\n",
    "        disarum_lst.append(i)\n",
    "print(disarum_lst)\n",
    "    "
   ]
  },
  {
   "cell_type": "markdown",
   "metadata": {},
   "source": [
    "---------------------------\n",
    "### 3. Write a Python program to check if the given number is Happy Number?\n",
    "##### ans:"
   ]
  },
  {
   "cell_type": "code",
   "execution_count": 34,
   "metadata": {},
   "outputs": [
    {
     "name": "stdout",
     "output_type": "stream",
     "text": [
      "Enter the Number19\n",
      "19 is a happy number\n"
     ]
    }
   ],
   "source": [
    "#19 is Happy Number,\n",
    "#ends with 1 and 4 each digit 2 reduced upto 1 or 4\n",
    "def isHappyNumber(num):    \n",
    "    rem = sum = 0;    \n",
    "    while(num > 0):    \n",
    "        rem = num%10;    \n",
    "        sum = sum + (rem*rem);    \n",
    "        num = num//10;    \n",
    "    return sum;    \n",
    "        \n",
    "num = int(input(\"Enter the Number\"))   \n",
    "result = num;    \n",
    "while(result != 1 and result !=4):    \n",
    "    result = isHappyNumber(result);    \n",
    "if(result == 1):    \n",
    "    print(str(num) + \" is a happy number\");"
   ]
  },
  {
   "cell_type": "markdown",
   "metadata": {},
   "source": [
    "---------------------------\n",
    "### 4. Write a Python program to print all happy numbers between 1 and 100?\n",
    "##### ans:"
   ]
  },
  {
   "cell_type": "code",
   "execution_count": 44,
   "metadata": {},
   "outputs": [
    {
     "name": "stdout",
     "output_type": "stream",
     "text": [
      "List of happy numbers between 1 and 100: \n",
      "1\n",
      "\n",
      "7\n",
      "\n",
      "10\n",
      "\n",
      "13\n",
      "\n",
      "19\n",
      "\n",
      "23\n",
      "\n",
      "28\n",
      "\n",
      "31\n",
      "\n",
      "32\n",
      "\n",
      "44\n",
      "\n",
      "49\n",
      "\n",
      "68\n",
      "\n",
      "70\n",
      "\n",
      "79\n",
      "\n",
      "82\n",
      "\n",
      "86\n",
      "\n",
      "91\n",
      "\n",
      "94\n",
      "\n",
      "97\n",
      "\n",
      "100\n",
      "\n"
     ]
    }
   ],
   "source": [
    "def isHappyNumber(num):    \n",
    "    rem = sum = 0;    \n",
    "    while(num > 0):    \n",
    "        rem = num%10;    \n",
    "        sum = sum + (rem*rem);    \n",
    "        num = num//10;    \n",
    "    return sum;    \n",
    "print(\"List of happy numbers between 1 and 100: \");    \n",
    "for i in range(1, 101):    \n",
    "    result = i;     \n",
    "    while(result != 1 and result != 4):    \n",
    "        result = isHappyNumber(result);    \n",
    "    if(result == 1):\n",
    "        print(i),    \n",
    "        print(\"\"),    "
   ]
  },
  {
   "cell_type": "markdown",
   "metadata": {},
   "source": [
    "---------------------------\n",
    "### 5. Write a Python program to determine whether the given number is a Harshad Number?\n",
    "##### ans:"
   ]
  },
  {
   "cell_type": "code",
   "execution_count": 42,
   "metadata": {},
   "outputs": [
    {
     "name": "stdout",
     "output_type": "stream",
     "text": [
      "Enter a No : 54\n",
      "54 is a harshad Number\n"
     ]
    }
   ],
   "source": [
    "#If a number is divisible by the sum of its digits, then it will be known as a Harshad Number.\n",
    "num=int(input(\"Enter a No : \"))\n",
    "rem,sum=0,0\n",
    "temp=num\n",
    "while(temp>0):\n",
    "    rem=temp%10\n",
    "    sum=sum+rem\n",
    "    temp=temp//10\n",
    "if(num%sum==0):\n",
    "    print(str(num)+\" is a harshad Number\")\n",
    "else:\n",
    "    print(str(num)+\" is not a harshad Number\")"
   ]
  },
  {
   "cell_type": "markdown",
   "metadata": {},
   "source": [
    "---------------------------\n",
    "### 6. Write a Python program to print all pronic numbers between 1 and 100?\n",
    "##### ans:"
   ]
  },
  {
   "cell_type": "code",
   "execution_count": 43,
   "metadata": {},
   "outputs": [
    {
     "name": "stdout",
     "output_type": "stream",
     "text": [
      "2\n",
      "\n",
      "6\n",
      "\n",
      "12\n",
      "\n",
      "20\n",
      "\n",
      "30\n",
      "\n",
      "42\n",
      "\n",
      "56\n",
      "\n",
      "72\n",
      "\n",
      "90\n",
      "\n"
     ]
    }
   ],
   "source": [
    "def FindPronic(num):\n",
    "    flag=False\n",
    "    for i in range(1,num+1):\n",
    "        if(i*(i+1)==num):\n",
    "            flag=True\n",
    "    return flag\n",
    "    \n",
    "    \n",
    "for i in range(1,101):\n",
    "    result=i\n",
    "    if FindPronic(result)==True:\n",
    "        print(result)\n",
    "        print(\"\")\n",
    "    "
   ]
  }
 ],
 "metadata": {
  "kernelspec": {
   "display_name": "Python 3",
   "language": "python",
   "name": "python3"
  },
  "language_info": {
   "codemirror_mode": {
    "name": "ipython",
    "version": 3
   },
   "file_extension": ".py",
   "mimetype": "text/x-python",
   "name": "python",
   "nbconvert_exporter": "python",
   "pygments_lexer": "ipython3",
   "version": "3.8.3"
  }
 },
 "nbformat": 4,
 "nbformat_minor": 5
}
