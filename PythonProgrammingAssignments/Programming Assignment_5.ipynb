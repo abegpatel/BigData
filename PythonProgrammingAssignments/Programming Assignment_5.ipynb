{
 "cells": [
  {
   "cell_type": "markdown",
   "metadata": {},
   "source": [
    "## Python Basic Programming Assignment - 5\n",
    "--------------\n"
   ]
  },
  {
   "cell_type": "markdown",
   "metadata": {},
   "source": [
    "### 1. Write a Python Program to Find LCM?"
   ]
  },
  {
   "cell_type": "code",
   "execution_count": 4,
   "metadata": {},
   "outputs": [
    {
     "name": "stdout",
     "output_type": "stream",
     "text": [
      "The Lcm of two no. is 1000\n"
     ]
    }
   ],
   "source": [
    "#finding lcm of two no\n",
    "def LCM(x,y):\n",
    "    if x>y:\n",
    "        gtr=x\n",
    "    else:\n",
    "        gtr=y\n",
    "    while(True):\n",
    "        if(gtr%x==0 and gtr%y==0):\n",
    "            lcm=gtr\n",
    "            break;\n",
    "        gtr+=1\n",
    "    return lcm\n",
    "a=200\n",
    "b=1000\n",
    "print(\"The Lcm of two no. is {}\".format(LCM(a,b)))"
   ]
  },
  {
   "cell_type": "markdown",
   "metadata": {},
   "source": [
    "---------------------\n",
    "### 2. Write a Python Program to Find HCF?"
   ]
  },
  {
   "cell_type": "code",
   "execution_count": 5,
   "metadata": {},
   "outputs": [
    {
     "name": "stdout",
     "output_type": "stream",
     "text": [
      "The Hcf of two no. is 6\n"
     ]
    }
   ],
   "source": [
    "#finding HCF of two no\n",
    "#a*b=hcf*lcm\n",
    "def HCF(x,y):\n",
    "    while(y):\n",
    "        x,y=y,x%y\n",
    "    return x  \n",
    "a=12\n",
    "b=6\n",
    "print(\"The Hcf of two no. is {}\".format(HCF(a,b)))"
   ]
  },
  {
   "cell_type": "markdown",
   "metadata": {},
   "source": [
    "---------------\n",
    "### 3. Write a Python Program to Convert Decimal to Binary, Octal and Hexadecimal?"
   ]
  },
  {
   "cell_type": "code",
   "execution_count": 6,
   "metadata": {},
   "outputs": [
    {
     "name": "stdout",
     "output_type": "stream",
     "text": [
      "Binary value of the decimal no is :  0b1100\n",
      "octal value of the decimal no is :  0o14\n",
      "Hexadecimal value of the decimal no is :  0xc\n"
     ]
    }
   ],
   "source": [
    "dec_num=12\n",
    "print(\"Binary value of the decimal no is : \",bin(dec_num))\n",
    "print(\"octal value of the decimal no is : \",oct(dec_num))\n",
    "print(\"Hexadecimal value of the decimal no is : \",hex(dec_num))"
   ]
  },
  {
   "cell_type": "markdown",
   "metadata": {},
   "source": [
    "---------------------\n",
    "### 4. Write a Python Program To Find ASCII value of a character?"
   ]
  },
  {
   "cell_type": "code",
   "execution_count": 7,
   "metadata": {},
   "outputs": [
    {
     "name": "stdout",
     "output_type": "stream",
     "text": [
      "Please Enter the CharacterA\n",
      "The Ascii value of the given Character is :  65\n"
     ]
    }
   ],
   "source": [
    "ch=input(\"Please Enter the Character\")\n",
    "print(\"The Ascii value of the given Character is : \",ord(ch))"
   ]
  },
  {
   "cell_type": "markdown",
   "metadata": {},
   "source": [
    "----------------\n",
    "### 5. Write a Python Program to Make a Simple Calculator with 4 basic mathematical operations?"
   ]
  },
  {
   "cell_type": "code",
   "execution_count": null,
   "metadata": {},
   "outputs": [
    {
     "name": "stdout",
     "output_type": "stream",
     "text": [
      "Enter the First No. : 22\n",
      "Enter the Second No. : 44\n"
     ]
    }
   ],
   "source": [
    "def ADD(a,b):\n",
    "    return a+b\n",
    "def SUB(a,b):\n",
    "    return a-b\n",
    "def MUL(a,b):\n",
    "    return a*b\n",
    "def DIV(a,b):\n",
    "    return a/b\n",
    "    \n",
    "a=int(input(\"Enter the First No. : \"))\n",
    "b=int(input(\"Enter the Second No. : \"))\n",
    "op=input(\"Please select the Arithmatic operation: \\n+\\n-\\n*\\n/\")\n",
    "if(op=='+'):\n",
    "    print(\"Addtion result is : \",ADD(a,b))\n",
    "elif(op=='-'):\n",
    "    print(\"Substraction result is : \",SUB(a,b))\n",
    "elif(op=='*'):\n",
    "    print(\"Multiplication result is : \",MUL(a,b))\n",
    "elif(op=='/'):\n",
    "    print(\"Division result is : \",DIV(a,b))\n",
    "else:\n",
    "    print(\"Please enter the correct arithmatic operation\")\n",
    "    "
   ]
  },
  {
   "cell_type": "code",
   "execution_count": null,
   "metadata": {},
   "outputs": [],
   "source": []
  }
 ],
 "metadata": {
  "kernelspec": {
   "display_name": "Python 3",
   "language": "python",
   "name": "python3"
  },
  "language_info": {
   "codemirror_mode": {
    "name": "ipython",
    "version": 3
   },
   "file_extension": ".py",
   "mimetype": "text/x-python",
   "name": "python",
   "nbconvert_exporter": "python",
   "pygments_lexer": "ipython3",
   "version": "3.8.3"
  }
 },
 "nbformat": 4,
 "nbformat_minor": 5
}
