{
 "cells": [
  {
   "cell_type": "markdown",
   "metadata": {
    "id": "pgZaA61m4mrA"
   },
   "source": [
    "Q1. Why do we call Python as a general purpose and high-level programming language? Ans. Python is a general purpose langauge because It can be used for a wide variety of development task and broadly appllicable accross multiple domains and has the specialized feature for specific domains such as Machine learing,Data science,Cloud computing,AI,IOT ,Web Framework such as Django and flask ,App development such as Kivy.\n",
    "\n",
    "-Python is also called as High level language because It's Synatx is very small,clear and human readable/understandable. It enables development of a program in a much more user-friendly programming context and is generally independent of the computer's hardware architecture."
   ]
  },
  {
   "cell_type": "markdown",
   "metadata": {
    "id": "PLSLwbXLoMx3"
   },
   "source": [
    "Q2. Why is Python called a dynamically typed language?\n",
    "Ans.We don't have to declare the type of variable while assigning a value to a variable in Python.\n",
    "When we don't declare the type of variable, It states runtime variable of the program.\n",
    "Python also take cares of the memory management which automatically. So, Python is a dynamically typed language.\n",
    "Example:\n",
    "As In bellow example you can see we don't have to  declare the type of variable in the program.Python will automatically recognize the type of variable with the help of the value in the runtime."
   ]
  },
  {
   "cell_type": "code",
   "execution_count": 1,
   "metadata": {
    "colab": {
     "base_uri": "https://localhost:8080/"
    },
    "id": "gKhEPwDZjvK6",
    "outputId": "3fc18602-c971-48fa-cf3a-1e2fd1a383c9"
   },
   "outputs": [
    {
     "name": "stdout",
     "output_type": "stream",
     "text": [
      "<class 'float'>\n",
      "<class 'list'>\n"
     ]
    }
   ],
   "source": [
    "x=2.3\n",
    "print(type(x))\n",
    "x=[1,2,3,4]\n",
    "print(type(x))"
   ]
  },
  {
   "cell_type": "markdown",
   "metadata": {
    "id": "xAua1fM9oNCt"
   },
   "source": [
    "Q3. List some pros and cons of Python programming language?\n",
    "Pros:\n",
    "1.User Friendly-due to its smaller ,clear and human readable synatx including the indentation.\n",
    "2.Large Community-large no of developer preferring Python embedded with multiple framework such as web      ,application,forecasting/prediction with less code.\n",
    "3.Flexible and Extensible-Flexible  and extensible for multiple domain and embedded framworks as It has the scripiting capabilities.\n",
    "4.Rich Library\n",
    "5.Highly scalable:Multiple companies such as Instagram,Facebook etc uses Python  that defines the scalability.\n",
    "6.Object oriented - Everything is treated as Object in Python because every entity has a metadata and associated functionality.\n",
    "7.Potable:It follos WORA(wite once run anywhere) Principle that makes easier for devlopers to work with.\\n\",\n",
    "Cons:\n",
    "1. Complicated design-As it embedded with Multiple big domains.\n",
    "2. Slower than Compiled Languages-requires lot of cmputational power     \n",
    "3. Security-not secure fully.Need a right Quality assurance testing can fix it.\n",
    "4. Work Environment-need IDE for better work enviornment.\n",
    "5. Memory Consumption and Garbage Collection-It usuage a high memory .which leads to loss of memory as uses reference counting mechanism.\n",
    "6. Python is Dynamically Typed-We dont have to declare the datatype of the variables.\n",
    "7. Multithreading in Python -Not 100% True,does not have treads which run at the same time.\n",
    "       "
   ]
  },
  {
   "cell_type": "markdown",
   "metadata": {
    "id": "klGa6rzToNIr"
   },
   "source": [
    "Q4. In what all domains can we use Python?\n",
    "Ans.Machine learning(data prediction and forecasting future using Time series)\n",
    "IOT-can embadded with Python.\n",
    "Cloud computing-as a language,as a computational weapon in rescent cloud technologies.\n",
    "Scientific computing\n",
    "Artificaial Intelligence\n",
    "GUi/Application frameworks(Kivy)\n",
    "Web Freameworks(Flask,Django)\n",
    "Web Scrapping\n",
    "Test Frameworks(Robert Framewoks)\n",
    "\n",
    "\n",
    "\n",
    "\n",
    "\n"
   ]
  },
  {
   "cell_type": "markdown",
   "metadata": {
    "id": "xULvI4S_oNLu"
   },
   "source": [
    "Q5. What are variable and how can we declare them?\n",
    "Ans. i.Variable is Symbolic name or reserved memory location which holds the value or reference to an object.once object is assigned to the variable we can refer to that object which is stored in memory using that variable name.\n",
    "\n",
    "ii.There are some Rule to be follow while declaring the variable name-\n",
    "   .must start with a letter or underscore character\n",
    "   .can not start with a number.\n",
    "   .Only contains Alphanumeric character(0-10,A-Z/a-z,_)\n",
    "   .Case sensetive(age,AGE,Age are three different variable)\n",
    "\n",
    "iii.We don't have to declare the type of variable while assigning a value to a variable in Python.It's automatically Identify the type of that perticular variable.So It is called dynamically typed.\n",
    "For Example:\n",
    "Int_var=10 (Variable with Integer type)\n",
    "Float_var=2.334(variable with float type)\n",
    "List=[1,2,3,4,5] (variable with list type),etc.\n",
    "\n",
    "\n",
    "\n"
   ]
  },
  {
   "cell_type": "markdown",
   "metadata": {
    "id": "1ciH02vaoNRE"
   },
   "source": [
    "Q6. How can we take an input from the user in Python?\n",
    "Ans. In python we can take input using input() function which is bydefault take string as input.\n",
    "for Example:\n",
    "   input1 = input(\"Enter the name\") #String type\n",
    "   int_input=int(input(\"Enter the age)) #Int type\n",
    "   float_input=float(input(\"Enter your cgpa\")) #Float type\n",
    "ii.In python It is possible to take user input for multiple variable in asingle line\n",
    "Example: age,name=int(input(\"enter the age\")),input(\"Enter the name\")\n",
    "iii.we can use split function and list comprehension\n",
    "Example: a,b,c=input(\"enter three variables).split()\n",
    "         list1=list(map(int,input(\"enter the list values\").split(\",\")))\n",
    "   "
   ]
  },
  {
   "cell_type": "markdown",
   "metadata": {
    "id": "6AqdJTW_oNUF"
   },
   "source": [
    "Q7. What is the default datatype of the value that has been taken as an input using input() function?\n",
    "Ans. String Type is the default datatype of the value that has been taken as an input using input() function\n",
    "For Example:\n",
    "\n",
    "\n"
   ]
  },
  {
   "cell_type": "code",
   "execution_count": 2,
   "metadata": {
    "colab": {
     "base_uri": "https://localhost:8080/"
    },
    "id": "tPmjUaTVkbKl",
    "outputId": "b2b49e5a-afb7-4ae2-8f99-da1ef798e840"
   },
   "outputs": [
    {
     "name": "stdout",
     "output_type": "stream",
     "text": [
      "Enter the name : abeg\n",
      "<class 'str'>\n"
     ]
    }
   ],
   "source": [
    "name=input(\"Enter the name : \")\n",
    "print(type(name))"
   ]
  },
  {
   "cell_type": "markdown",
   "metadata": {
    "id": "H-jYEFrfoNXD"
   },
   "source": [
    "Q8. What is type casting?\n",
    "Ans. i. Conversion of one data type into anthor data type is called Type casting .\n",
    "ii.In python we can use multiple predefined function such as \n",
    "int(),str(),float(),list(),tuple(),set(),dict(),ord() \n",
    "etc. as shown in below example. "
   ]
  },
  {
   "cell_type": "code",
   "execution_count": 3,
   "metadata": {
    "colab": {
     "base_uri": "https://localhost:8080/"
    },
    "id": "WGvhpPXakkQI",
    "outputId": "5032b0dd-bef7-43b0-abaf-ad916c3bb0d9"
   },
   "outputs": [
    {
     "name": "stdout",
     "output_type": "stream",
     "text": [
      "enter the value : 1\n",
      "<class 'int'>\n",
      "enter the value : 12.4\n",
      "<class 'float'>\n",
      "1.0\n",
      "<class 'str'>\n"
     ]
    }
   ],
   "source": [
    "int_type=int(input(\"enter the value : \"))\n",
    "print(type(int_type))\n",
    "float_type=float(input(\"enter the value : \"))\n",
    "print(type(float_type))\n",
    "print(float(int_type))#int to float conversion\n",
    "str_conv=str(float_type)#foat to str conversion\n",
    "print(type(str_conv))"
   ]
  },
  {
   "cell_type": "markdown",
   "metadata": {
    "id": "RRieVfzhoNaC"
   },
   "source": [
    "Q9. Can we take more than one input from the user using single input() function? If yes, how? If no, why?\n",
    "Ans.In python it is possible to take more than one input using single input() function.\n",
    "i.using split()\n",
    "example:  a,b,c=int(input(\"Enter the three values\")).split()\n",
    "ii.using List comprehension\n",
    "example:list1=list(map(int,input(\"enter the list values\").split(\",\")))\n"
   ]
  },
  {
   "cell_type": "code",
   "execution_count": 4,
   "metadata": {
    "colab": {
     "base_uri": "https://localhost:8080/"
    },
    "id": "1O0bmDUjk7TR",
    "outputId": "e44f8769-f38f-4469-9f2a-f5ca30603fd0"
   },
   "outputs": [
    {
     "name": "stdout",
     "output_type": "stream",
     "text": [
      "Enter the three valuesashik ashis abeg\n",
      "ashik ashis abeg\n"
     ]
    }
   ],
   "source": [
    "a,b,c=input(\"Enter the three values\").split(\" \")\n",
    "print(a,b,c)"
   ]
  },
  {
   "cell_type": "code",
   "execution_count": 5,
   "metadata": {
    "colab": {
     "base_uri": "https://localhost:8080/"
    },
    "id": "s6htZ7Iyk7Wv",
    "outputId": "d1d274d1-3f21-4bd7-9ccd-d3c92d63bacd"
   },
   "outputs": [
    {
     "name": "stdout",
     "output_type": "stream",
     "text": [
      "enter the list values1,2,3,4,5\n",
      "[1, 2, 3, 4, 5]\n"
     ]
    }
   ],
   "source": [
    "list1=list(map(int,input(\"enter the list values\").split(\",\")))\n",
    "print(list1)"
   ]
  },
  {
   "cell_type": "markdown",
   "metadata": {
    "id": "QXlL4Wp5oHBe"
   },
   "source": [
    "Q10. What are keywords? Ans. Keyword are the reserved words can not used as variable name,function name and others identifiers.For example if,else,for,while,break,continue etc. Example: def message_function(): #def is a keyword which can not be used as variable name,class name,function name etc."
   ]
  },
  {
   "cell_type": "markdown",
   "metadata": {
    "id": "H_R5s88Z68BD"
   },
   "source": [
    "Q11. Can we use keywords as a variable? Support your answer with reason.\n",
    "Ans. i.No,we can not use keywords as a variable.Keywords are used to define the syntax and structure of the python programming language.\n",
    "ii.If we try to define the keyword as variable,then Python interpreter will give synatx error."
   ]
  },
  {
   "cell_type": "markdown",
   "metadata": {
    "id": "4wAwAOyu8VyK"
   },
   "source": [
    "Q12. What is indentation? What's the use of indentaion in Python?\n",
    "Ans. Indentation refers to the spaces at the beginning of a code line.\n",
    "Python indentation refers to adding white space before a statement to a particular block of code. In another word, all the statements with the same space to the right, belong to the same code block.\n",
    "\n",
    "ii.Without properly indenting the Python code, we will end up seeing IndentationError and the code will not get compiled.\n",
    "\n",
    "iii.In Python,Indentation defined as Tab(4 spaces of keyboard)\n"
   ]
  },
  {
   "cell_type": "markdown",
   "metadata": {
    "id": "hZmLtb3R8V1s"
   },
   "source": [
    "Q13. How can we throw some output in Python?\n",
    "Ans.Print() - Print Function is a Ouput function which prints message or other standard output to the screen in python."
   ]
  },
  {
   "cell_type": "markdown",
   "metadata": {
    "id": "lATh_5Xt8V4r"
   },
   "source": [
    "Q14. What are operators in Python?\n",
    "Ans. i.Operators are used to perform operation on variables and values.\n",
    "Example: a,b=1,2\n",
    "         print(a+b) ,where + is an arithmatic operator.\n",
    "ii.Operator Types:\n",
    "         1.Arithmatic Operator(+,-,*,**,/,//,%)\n",
    "         2.Logical Operator(and,or,not)\n",
    "         3.Bitwise Operator(&,|,^,~,<<,>>)\n",
    "         4.Membarship Operator(in,not in)\n",
    "         5.Assignment Opeartor(=,+=,-=,*=,/=,//=,%=,**=,&=,|=,^=,~=,<<=,>>=)\n",
    "         6.Identity Operator(is ,is not)\n",
    "         7.Comparision Operator(<,>,==,<=,<=,!=)\n",
    "\n"
   ]
  },
  {
   "cell_type": "markdown",
   "metadata": {
    "id": "mEDy21xD8V7Z"
   },
   "source": [
    "Q15. What is difference between / and // operators?\n",
    "Ans.i. / - is an arithmatic operator Which is used to perform division operation with floating points value.\n",
    "ii.// - is an arithmatic operator used to division with rounded value.It round to its before nerest possible in range 0.5)."
   ]
  },
  {
   "cell_type": "markdown",
   "metadata": {
    "id": "Rj4fZKsh8V-P"
   },
   "source": [
    "Q16. Write a code that gives following as an output.\n",
    "\n",
    "iNeuroniNeuroniNeuroniNeuron\n"
   ]
  },
  {
   "cell_type": "code",
   "execution_count": null,
   "metadata": {
    "colab": {
     "base_uri": "https://localhost:8080/"
    },
    "id": "YlS4bSydmXym",
    "outputId": "18535b8d-dbb8-41d3-ac5a-f12f91ccb635"
   },
   "outputs": [
    {
     "name": "stdout",
     "output_type": "stream",
     "text": [
      "iNeuroniNeuroniNeuroniNeuron\n"
     ]
    }
   ],
   "source": [
    "#Q16. Ans.\n",
    "string_value='iNeuron' \n",
    "print(string_value * 4)"
   ]
  },
  {
   "cell_type": "code",
   "execution_count": null,
   "metadata": {
    "colab": {
     "base_uri": "https://localhost:8080/"
    },
    "id": "0VAwhZNEoShU",
    "outputId": "77812013-7752-4681-b989-f162fdb22a71"
   },
   "outputs": [
    {
     "name": "stdout",
     "output_type": "stream",
     "text": [
      "Enter the no5\n",
      "5 is odd\n"
     ]
    }
   ],
   "source": [
    "#Q17. Write a code to take a number as an input from the user and check if the number is odd or even.\n",
    "\n",
    "\n",
    "def even_odd(num):\n",
    "  if(num%2==0):\n",
    "    return \"even\"\n",
    "  else:\n",
    "    return \"odd\"\n",
    "user_num=int(input(\"Enter the no\"))\n",
    "print(user_num,'is',even_odd(user_num))\n",
    "\n",
    "\n"
   ]
  },
  {
   "cell_type": "markdown",
   "metadata": {
    "id": "y9KEDnqAqkTj"
   },
   "source": [
    "Q18. What are boolean operator?\n",
    "Ans. Bollean operator are the operator which holds two value such as.True or false. Example:x=True,y=False\n",
    "Logical and comparision operator are referred as Boolean operator.\n",
    "Example:"
   ]
  },
  {
   "cell_type": "code",
   "execution_count": null,
   "metadata": {
    "colab": {
     "base_uri": "https://localhost:8080/"
    },
    "id": "2YY3skZnrt_B",
    "outputId": "8a5c0c2a-0b5d-4f01-9047-2159968a1ae7"
   },
   "outputs": [
    {
     "name": "stdout",
     "output_type": "stream",
     "text": [
      "True\n"
     ]
    }
   ],
   "source": [
    "#Q.18\n",
    "a=20\n",
    "b=30\n",
    "print(a <= b)"
   ]
  },
  {
   "cell_type": "markdown",
   "metadata": {
    "id": "JoK8MxedsSn6"
   },
   "source": [
    "Q19. What will the output of the following?\n",
    "\n",
    "1 or 0  - 1\n",
    "\n",
    "0 and 0  - 0\n",
    "\n",
    "True and False and True  - False\n",
    "\n",
    "1 or 0 or 0 -1"
   ]
  },
  {
   "cell_type": "markdown",
   "metadata": {
    "id": "lDHRhnCqs41J"
   },
   "source": [
    "Q20. What are conditional statements in Python?\n",
    "-There are following statements below which refered as conditional statements.\n",
    "i.If condition:\n",
    "    statement;\n",
    "ii.elif condition:\n",
    "    statement;\n",
    "ii.else:\n",
    "    statement;\n",
    "    "
   ]
  },
  {
   "cell_type": "markdown",
   "metadata": {
    "id": "KqcSlwgM-fS0"
   },
   "source": [
    "Q21. What is use of 'if', 'elif' and 'else' keywords?\n",
    "Ans. if- act as a keyword used for conditional statement in python having one and only condition.\n",
    "Example:age=18\n",
    "        if (age>=18):\n",
    "           print(\"authorized for voting\")\n",
    "     elif - act as a keyword used for conditional statement in python having more than one condition to execute.\n",
    "Syntax: if condition:\n",
    "           statements\n",
    "        elif condition:\n",
    "           statements\n",
    "        elif condition:\n",
    "           statements\n",
    "     else - act as keyword used for conditional statement in python if not any condition metioned is true in if-else/if-elif-else hierarchy then control goes to else block.\n",
    "synatx: if condition:\n",
    "           statements\n",
    "        elif condition:\n",
    "           statements\n",
    "        else:\n",
    "           statements\n",
    "         "
   ]
  },
  {
   "cell_type": "code",
   "execution_count": null,
   "metadata": {
    "colab": {
     "base_uri": "https://localhost:8080/"
    },
    "id": "6fbYbpDh6Qxf",
    "outputId": "339f1783-3918-4b2f-f89c-bd3b9f0b6301"
   },
   "outputs": [
    {
     "name": "stdout",
     "output_type": "stream",
     "text": [
      "b is greater\n"
     ]
    }
   ],
   "source": [
    "#find out the greater of three no\n",
    "a=10\n",
    "b=40\n",
    "c=30\n",
    "if (a>b and a>c):\n",
    "  print(\"a is greater\")\n",
    "elif (b>c):\n",
    "  print(\"b is greater\")\n",
    "else:\n",
    "  print(\"c is greater\")"
   ]
  },
  {
   "cell_type": "code",
   "execution_count": null,
   "metadata": {
    "colab": {
     "base_uri": "https://localhost:8080/"
    },
    "id": "CuscDMhh7NiC",
    "outputId": "a109b927-ee4e-4b7c-a0e1-f59f3808775f"
   },
   "outputs": [
    {
     "name": "stdout",
     "output_type": "stream",
     "text": [
      "Enter the age of a person : 18\n",
      "I can Vote\n"
     ]
    }
   ],
   "source": [
    "#Q22. Write a code to take the age of person as an input and if age >= 18 display \"I can vote\". If age is < 18 display \"I can't vote\".\n",
    "def FindVote(age):\n",
    "  if age >=18:\n",
    "    return \"I can Vote\"\n",
    "  else:\n",
    "    return \"I can't vote\"\n",
    "    \n",
    "\n",
    "age=int(input(\"Enter the age of a person : \"))\n",
    "print(FindVote(age))"
   ]
  },
  {
   "cell_type": "code",
   "execution_count": null,
   "metadata": {
    "colab": {
     "base_uri": "https://localhost:8080/"
    },
    "id": "jeujskIH84Fh",
    "outputId": "16d4a186-5d3b-40aa-da20-3823d0f4004a"
   },
   "outputs": [
    {
     "name": "stdout",
     "output_type": "stream",
     "text": [
      "The sum of all even no in the given list is :  392\n"
     ]
    }
   ],
   "source": [
    "#Q23. Write a code that displays the sum of all the even numbers from the given list.\n",
    "'''\n",
    "numbers = [12, 75, 150, 180, 145, 525, 50]\n",
    "'''\n",
    "def SumOfEven(numbers):\n",
    "  sum=0\n",
    "  for i in numbers:\n",
    "    if i%2==0:\n",
    "      sum=sum+i\n",
    "  return sum\n",
    "\n",
    "\n",
    "numbers = [12, 75, 150, 180, 145, 525, 50]\n",
    "print(\"The sum of all even no in the given list is : \",SumOfEven(numbers) )"
   ]
  },
  {
   "cell_type": "code",
   "execution_count": null,
   "metadata": {
    "colab": {
     "base_uri": "https://localhost:8080/"
    },
    "id": "l0ayHmeP99YN",
    "outputId": "bd28dbe5-d4ba-4c87-86c3-ec2fb0b66ca1"
   },
   "outputs": [
    {
     "name": "stdout",
     "output_type": "stream",
     "text": [
      "Enter the First No : 135\n",
      "Enter the Second No : 235\n",
      "Enter the Third No : 120\n",
      "b is greater\n",
      "None\n"
     ]
    }
   ],
   "source": [
    "#Q24. Write a code to take 3 numbers as an input from the user and display the greatest no as output.\n",
    "def GreatestNo(a,b,c):\n",
    "  if (a==b and b==c):\n",
    "    print(\"all no's are equal\")\n",
    "  elif (a>b and a>c):\n",
    "    print(\"a is greater\")\n",
    "  elif (b>c):\n",
    "    print(\"b is greater\")\n",
    "  else:\n",
    "    print(\"c is greater\")\n",
    "\n",
    "a=int(input(\"Enter the First No : \"))\n",
    "b=int(input(\"Enter the Second No : \"))\n",
    "c=int(input(\"Enter the Third No : \"))\n",
    "print(GreatestNo(a,b,c))\n"
   ]
  },
  {
   "cell_type": "code",
   "execution_count": null,
   "metadata": {
    "colab": {
     "base_uri": "https://localhost:8080/"
    },
    "id": "Z90IXt0I_vWA",
    "outputId": "f169ef45-4a57-45e7-bdac-74929ed04613"
   },
   "outputs": [
    {
     "name": "stdout",
     "output_type": "stream",
     "text": [
      "75\n",
      "150\n",
      "145\n",
      "50\n",
      "None\n"
     ]
    }
   ],
   "source": [
    "#Q25. Write a program to display only those numbers from a list that satisfy the following conditions\n",
    "\n",
    "\"\"\"- The number must be divisible by five\n",
    "\n",
    "- If the number is greater than 150, then skip it and move to the next number\n",
    "\n",
    "- If the number is greater than 500, then stop the loop\n",
    "```\n",
    "numbers = [12, 75, 150, 180, 145, 525, 50]\n",
    "```\n",
    "\"\"\"\n",
    "def FindNumbers(numbers):\n",
    "  for num in numbers:\n",
    "    if(num%5==0):\n",
    "      if (num>150):\n",
    "        continue\n",
    "      elif (num>500):\n",
    "        break\n",
    "      else:\n",
    "        print(num)\n",
    "\n",
    "\n",
    "numbers = [12, 75, 150, 180, 145, 525, 50]\n",
    "print(FindNumbers(numbers))  "
   ]
  }
 ],
 "metadata": {
  "colab": {
   "collapsed_sections": [
    "HqIFD-sZZBck"
   ],
   "provenance": []
  },
  "kernelspec": {
   "display_name": "Python 3",
   "language": "python",
   "name": "python3"
  },
  "language_info": {
   "codemirror_mode": {
    "name": "ipython",
    "version": 3
   },
   "file_extension": ".py",
   "mimetype": "text/x-python",
   "name": "python",
   "nbconvert_exporter": "python",
   "pygments_lexer": "ipython3",
   "version": "3.8.3"
  }
 },
 "nbformat": 4,
 "nbformat_minor": 1
}
