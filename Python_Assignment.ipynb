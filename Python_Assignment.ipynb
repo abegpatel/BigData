{
  "cells": [
    {
      "cell_type": "markdown",
      "metadata": {
        "id": "pgZaA61m4mrA"
      },
      "source": [
        "Q1. Why do we call Python as a general purpose and high-level programming language? Ans. Python is a general purpose langauge because It can be used for a wide variety of development task and broadly appllicable accross multiple domains and has the specialized feature for specific domains such as Machine learing,Data science,Cloud computing,AI,IOT ,Web Framework such as Django and flask ,App development such as Kivy.\n",
        "\n",
        "-Python is also called as High level language because It's Synatx is very small,clear and human readable/understandable. It enables development of a program in a much more user-friendly programming context and is generally independent of the computer's hardware architecture."
      ]
    },
    {
      "cell_type": "markdown",
      "source": [
        "Q2. Why is Python called a dynamically typed language?\n",
        "Ans.We don't have to declare the type of variable while assigning a value to a variable in Python.\n",
        "When we don't declare the type of variable, It states runtime variable of the program.\n",
        "Python also take cares of the memory management which automatically. So, Python is a dynamically typed language.\n",
        "Example:\n",
        "As In bellow example you can see we don't have to  declare the type of variable in the program.Python will automatically recognize the type of variable with the help of the value in the runtime."
      ],
      "metadata": {
        "id": "PLSLwbXLoMx3"
      }
    },
    {
      "cell_type": "code",
      "source": [
        "x=2.3\n",
        "print(type(x))\n",
        "x=[1,2,3,4]\n",
        "print(type(x))"
      ],
      "metadata": {
        "colab": {
          "base_uri": "https://localhost:8080/"
        },
        "id": "gKhEPwDZjvK6",
        "outputId": "3fc18602-c971-48fa-cf3a-1e2fd1a383c9"
      },
      "execution_count": 1,
      "outputs": [
        {
          "output_type": "stream",
          "name": "stdout",
          "text": [
            "<class 'float'>\n",
            "<class 'list'>\n"
          ]
        }
      ]
    },
    {
      "cell_type": "markdown",
      "source": [
        "Q3. List some pros and cons of Python programming language?\n",
        "Pros:\n",
        "1.User Friendly-due to its smaller ,clear and human readable synatx including the indentation.\n",
        "2.Large Community-large no of developer preferring Python embedded with multiple framework such as web      ,application,forecasting/prediction with less code.\n",
        "3.Flexible and Extensible-Flexible  and extensible for multiple domain and embedded framworks as It has the scripiting capabilities.\n",
        "4.Rich Library\n",
        "5.Highly scalable:Multiple companies such as Instagram,Facebook etc uses Python  that defines the scalability.\n",
        "6.Object oriented - Everything is treated as Object in Python because every entity has a metadata and associated functionality.\n",
        "7.Potable:It follos WORA(wite once run anywhere) Principle that makes easier for devlopers to work with.\\n\",\n",
        "Cons:\n",
        "1. Complicated design-As it embedded with Multiple big domains.\n",
        "2. Slower than Compiled Languages-requires lot of cmputational power     \n",
        "3. Security-not secure fully.Need a right Quality assurance testing can fix it.\n",
        "4. Work Environment-need IDE for better work enviornment.\n",
        "5. Memory Consumption and Garbage Collection-It usuage a high memory .which leads to loss of memory as uses reference counting mechanism.\n",
        "6. Python is Dynamically Typed-We dont have to declare the datatype of the variables.\n",
        "7. Multithreading in Python -Not 100% True,does not have treads which run at the same time.\n",
        "       "
      ],
      "metadata": {
        "id": "xAua1fM9oNCt"
      }
    },
    {
      "cell_type": "markdown",
      "source": [
        "Q4. In what all domains can we use Python?\n",
        "Ans.Machine learning(data prediction and forecasting future using Time series)\n",
        "IOT-can embadded with Python.\n",
        "Cloud computing-as a language,as a computational weapon in rescent cloud technologies.\n",
        "Scientific computing\n",
        "Artificaial Intelligence\n",
        "GUi/Application frameworks(Kivy)\n",
        "Web Freameworks(Flask,Django)\n",
        "Web Scrapping\n",
        "Test Frameworks(Robert Framewoks)\n",
        "\n",
        "\n",
        "\n",
        "\n",
        "\n"
      ],
      "metadata": {
        "id": "klGa6rzToNIr"
      }
    },
    {
      "cell_type": "markdown",
      "source": [
        "Q5. What are variable and how can we declare them?\n",
        "Ans. i.Variable is Symbolic name or reserved memory location which holds the value or reference to an object.once object is assigned to the variable we can refer to that object which is stored in memory using that variable name.\n",
        "\n",
        "ii.There are some Rule to be follow while declaring the variable name-\n",
        "   .must start with a letter or underscore character\n",
        "   .can not start with a number.\n",
        "   .Only contains Alphanumeric character(0-10,A-Z/a-z,_)\n",
        "   .Case sensetive(age,AGE,Age are three different variable)\n",
        "\n",
        "iii.We don't have to declare the type of variable while assigning a value to a variable in Python.It's automatically Identify the type of that perticular variable.So It is called dynamically typed.\n",
        "For Example:\n",
        "Int_var=10 (Variable with Integer type)\n",
        "Float_var=2.334(variable with float type)\n",
        "List=[1,2,3,4,5] (variable with list type),etc.\n",
        "\n",
        "\n",
        "\n"
      ],
      "metadata": {
        "id": "xULvI4S_oNLu"
      }
    },
    {
      "cell_type": "markdown",
      "source": [
        "Q6. How can we take an input from the user in Python?\n",
        "Ans. In python we can take input using input() function which is bydefault take string as input.\n",
        "for Example:\n",
        "   input1 = input(\"Enter the name\") #String type\n",
        "   int_input=int(input(\"Enter the age)) #Int type\n",
        "   float_input=float(input(\"Enter your cgpa\")) #Float type\n",
        "ii.In python It is possible to take user input for multiple variable in asingle line\n",
        "Example: age,name=int(input(\"enter the age\")),input(\"Enter the name\")\n",
        "iii.we can use split function and list comprehension\n",
        "Example: a,b,c=input(\"enter three variables).split()\n",
        "         list1=list(map(int,input(\"enter the list values\").split(\",\")))\n",
        "   "
      ],
      "metadata": {
        "id": "1ciH02vaoNRE"
      }
    },
    {
      "cell_type": "markdown",
      "source": [
        "Q7. What is the default datatype of the value that has been taken as an input using input() function?\n",
        "Ans. String Type is the default datatype of the value that has been taken as an input using input() function\n",
        "For Example:\n",
        "\n",
        "\n"
      ],
      "metadata": {
        "id": "6AqdJTW_oNUF"
      }
    },
    {
      "cell_type": "code",
      "source": [
        "name=input(\"Enter the name : \")\n",
        "print(type(name))"
      ],
      "metadata": {
        "colab": {
          "base_uri": "https://localhost:8080/"
        },
        "id": "tPmjUaTVkbKl",
        "outputId": "b2b49e5a-afb7-4ae2-8f99-da1ef798e840"
      },
      "execution_count": 2,
      "outputs": [
        {
          "output_type": "stream",
          "name": "stdout",
          "text": [
            "Enter the name : abeg\n",
            "<class 'str'>\n"
          ]
        }
      ]
    },
    {
      "cell_type": "markdown",
      "source": [
        "Q8. What is type casting?\n",
        "Ans. i. Conversion of one data type into anthor data type is called Type casting .\n",
        "ii.In python we can use multiple predefined function such as \n",
        "int(),str(),float(),list(),tuple(),set(),dict(),ord() \n",
        "etc. as shown in below example. "
      ],
      "metadata": {
        "id": "H-jYEFrfoNXD"
      }
    },
    {
      "cell_type": "code",
      "source": [
        "int_type=int(input(\"enter the value : \"))\n",
        "print(type(int_type))\n",
        "float_type=float(input(\"enter the value : \"))\n",
        "print(type(float_type))\n",
        "print(float(int_type))#int to float conversion\n",
        "str_conv=str(float_type)#foat to str conversion\n",
        "print(type(str_conv))"
      ],
      "metadata": {
        "colab": {
          "base_uri": "https://localhost:8080/"
        },
        "id": "WGvhpPXakkQI",
        "outputId": "5032b0dd-bef7-43b0-abaf-ad916c3bb0d9"
      },
      "execution_count": 3,
      "outputs": [
        {
          "output_type": "stream",
          "name": "stdout",
          "text": [
            "enter the value : 1\n",
            "<class 'int'>\n",
            "enter the value : 12.4\n",
            "<class 'float'>\n",
            "1.0\n",
            "<class 'str'>\n"
          ]
        }
      ]
    },
    {
      "cell_type": "markdown",
      "source": [
        "Q9. Can we take more than one input from the user using single input() function? If yes, how? If no, why?\n",
        "Ans.In python it is possible to take more than one input using single input() function.\n",
        "i.using split()\n",
        "example:  a,b,c=int(input(\"Enter the three values\")).split()\n",
        "ii.using List comprehension\n",
        "example:list1=list(map(int,input(\"enter the list values\").split(\",\")))\n"
      ],
      "metadata": {
        "id": "RRieVfzhoNaC"
      }
    },
    {
      "cell_type": "code",
      "source": [
        "a,b,c=input(\"Enter the three values\").split(\" \")\n",
        "print(a,b,c)"
      ],
      "metadata": {
        "colab": {
          "base_uri": "https://localhost:8080/"
        },
        "id": "1O0bmDUjk7TR",
        "outputId": "e44f8769-f38f-4469-9f2a-f5ca30603fd0"
      },
      "execution_count": 4,
      "outputs": [
        {
          "output_type": "stream",
          "name": "stdout",
          "text": [
            "Enter the three valuesashik ashis abeg\n",
            "ashik ashis abeg\n"
          ]
        }
      ]
    },
    {
      "cell_type": "code",
      "source": [
        "list1=list(map(int,input(\"enter the list values\").split(\",\")))\n",
        "print(list1)"
      ],
      "metadata": {
        "colab": {
          "base_uri": "https://localhost:8080/"
        },
        "id": "s6htZ7Iyk7Wv",
        "outputId": "d1d274d1-3f21-4bd7-9ccd-d3c92d63bacd"
      },
      "execution_count": 5,
      "outputs": [
        {
          "output_type": "stream",
          "name": "stdout",
          "text": [
            "enter the list values1,2,3,4,5\n",
            "[1, 2, 3, 4, 5]\n"
          ]
        }
      ]
    },
    {
      "cell_type": "markdown",
      "source": [
        "Q10. What are keywords? Ans. Keyword are the reserved words can not used as variable name,function name and others identifiers.For example if,else,for,while,break,continue etc. Example: def message_function(): #def is a keyword which can not be used as variable name,class name,function name etc."
      ],
      "metadata": {
        "id": "QXlL4Wp5oHBe"
      }
    },
    {
      "cell_type": "markdown",
      "metadata": {
        "id": "H_R5s88Z68BD"
      },
      "source": [
        "Q11. Can we use keywords as a variable? Support your answer with reason.\n",
        "Ans. i.No,we can not use keywords as a variable.Keywords are used to define the syntax and structure of the python programming language.\n",
        "ii.If we try to define the keyword as variable,then Python interpreter will give synatx error."
      ]
    },
    {
      "cell_type": "markdown",
      "metadata": {
        "id": "4wAwAOyu8VyK"
      },
      "source": [
        "Q12. What is indentation? What's the use of indentaion in Python?\n",
        "Ans. Indentation refers to the spaces at the beginning of a code line.\n",
        "Python indentation refers to adding white space before a statement to a particular block of code. In another word, all the statements with the same space to the right, belong to the same code block.\n",
        "\n",
        "ii.Without properly indenting the Python code, we will end up seeing IndentationError and the code will not get compiled.\n",
        "\n",
        "iii.In Python,Indentation defined as Tab(4 spaces of keyboard)\n"
      ]
    },
    {
      "cell_type": "markdown",
      "metadata": {
        "id": "hZmLtb3R8V1s"
      },
      "source": [
        "Q13. How can we throw some output in Python?\n",
        "Ans.Print() - Print Function is a Ouput function which prints message or other standard output to the screen in python."
      ]
    },
    {
      "cell_type": "markdown",
      "metadata": {
        "id": "lATh_5Xt8V4r"
      },
      "source": [
        "Q14. What are operators in Python?\n",
        "Ans. i.Operators are used to perform operation on variables and values.\n",
        "Example: a,b=1,2\n",
        "         print(a+b) ,where + is an arithmatic operator.\n",
        "ii.Operator Types:\n",
        "         1.Arithmatic Operator(+,-,*,**,/,//,%)\n",
        "         2.Logical Operator(and,or,not)\n",
        "         3.Bitwise Operator(&,|,^,~,<<,>>)\n",
        "         4.Membarship Operator(in,not in)\n",
        "         5.Assignment Opeartor(=,+=,-=,*=,/=,//=,%=,**=,&=,|=,^=,~=,<<=,>>=)\n",
        "         6.Identity Operator(is ,is not)\n",
        "         7.Comparision Operator(<,>,==,<=,<=,!=)\n",
        "\n"
      ]
    },
    {
      "cell_type": "markdown",
      "metadata": {
        "id": "mEDy21xD8V7Z"
      },
      "source": [
        "Q15. What is difference between / and // operators?\n",
        "Ans.i. / - is an arithmatic operator Which is used to perform division operation with floating points value.\n",
        "ii.// - is an arithmatic operator used to division with rounded value.It round to its before nerest possible in range 0.5)."
      ]
    },
    {
      "cell_type": "markdown",
      "metadata": {
        "id": "Rj4fZKsh8V-P"
      },
      "source": [
        "Q16. Write a code that gives following as an output.\n",
        "\n",
        "iNeuroniNeuroniNeuroniNeuron\n"
      ]
    },
    {
      "cell_type": "code",
      "execution_count": null,
      "metadata": {
        "colab": {
          "base_uri": "https://localhost:8080/"
        },
        "id": "YlS4bSydmXym",
        "outputId": "18535b8d-dbb8-41d3-ac5a-f12f91ccb635"
      },
      "outputs": [
        {
          "name": "stdout",
          "output_type": "stream",
          "text": [
            "iNeuroniNeuroniNeuroniNeuron\n"
          ]
        }
      ],
      "source": [
        "#Q16. Ans.\n",
        "string_value='iNeuron' \n",
        "print(string_value * 4)"
      ]
    },
    {
      "cell_type": "code",
      "execution_count": null,
      "metadata": {
        "colab": {
          "base_uri": "https://localhost:8080/"
        },
        "id": "0VAwhZNEoShU",
        "outputId": "77812013-7752-4681-b989-f162fdb22a71"
      },
      "outputs": [
        {
          "name": "stdout",
          "output_type": "stream",
          "text": [
            "Enter the no5\n",
            "5 is odd\n"
          ]
        }
      ],
      "source": [
        "#Q17. Write a code to take a number as an input from the user and check if the number is odd or even.\n",
        "\n",
        "\n",
        "def even_odd(num):\n",
        "  if(num%2==0):\n",
        "    return \"even\"\n",
        "  else:\n",
        "    return \"odd\"\n",
        "user_num=int(input(\"Enter the no\"))\n",
        "print(user_num,'is',even_odd(user_num))\n",
        "\n",
        "\n"
      ]
    },
    {
      "cell_type": "markdown",
      "metadata": {
        "id": "y9KEDnqAqkTj"
      },
      "source": [
        "Q18. What are boolean operator?\n",
        "Ans. Bollean operator are the operator which holds two value such as.True or false. Example:x=True,y=False\n",
        "Logical and comparision operator are referred as Boolean operator.\n",
        "Example:"
      ]
    },
    {
      "cell_type": "code",
      "execution_count": null,
      "metadata": {
        "colab": {
          "base_uri": "https://localhost:8080/"
        },
        "id": "2YY3skZnrt_B",
        "outputId": "8a5c0c2a-0b5d-4f01-9047-2159968a1ae7"
      },
      "outputs": [
        {
          "name": "stdout",
          "output_type": "stream",
          "text": [
            "True\n"
          ]
        }
      ],
      "source": [
        "#Q.18\n",
        "a=20\n",
        "b=30\n",
        "print(a <= b)"
      ]
    },
    {
      "cell_type": "markdown",
      "metadata": {
        "id": "JoK8MxedsSn6"
      },
      "source": [
        "Q19. What will the output of the following?\n",
        "\n",
        "1 or 0  - 1\n",
        "\n",
        "0 and 0  - 0\n",
        "\n",
        "True and False and True  - False\n",
        "\n",
        "1 or 0 or 0 -1"
      ]
    },
    {
      "cell_type": "markdown",
      "metadata": {
        "id": "lDHRhnCqs41J"
      },
      "source": [
        "Q20. What are conditional statements in Python?\n",
        "-There are following statements below which refered as conditional statements.\n",
        "i.If condition:\n",
        "    statement;\n",
        "ii.elif condition:\n",
        "    statement;\n",
        "ii.else:\n",
        "    statement;\n",
        "    "
      ]
    },
    {
      "cell_type": "markdown",
      "metadata": {
        "id": "KqcSlwgM-fS0"
      },
      "source": [
        "Q21. What is use of 'if', 'elif' and 'else' keywords?\n",
        "Ans. if- act as a keyword used for conditional statement in python having one and only condition.\n",
        "Example:age=18\n",
        "        if (age>=18):\n",
        "           print(\"authorized for voting\")\n",
        "     elif - act as a keyword used for conditional statement in python having more than one condition to execute.\n",
        "Syntax: if condition:\n",
        "           statements\n",
        "        elif condition:\n",
        "           statements\n",
        "        elif condition:\n",
        "           statements\n",
        "     else - act as keyword used for conditional statement in python if not any condition metioned is true in if-else/if-elif-else hierarchy then control goes to else block.\n",
        "synatx: if condition:\n",
        "           statements\n",
        "        elif condition:\n",
        "           statements\n",
        "        else:\n",
        "           statements\n",
        "         "
      ]
    },
    {
      "cell_type": "code",
      "execution_count": null,
      "metadata": {
        "colab": {
          "base_uri": "https://localhost:8080/"
        },
        "id": "6fbYbpDh6Qxf",
        "outputId": "339f1783-3918-4b2f-f89c-bd3b9f0b6301"
      },
      "outputs": [
        {
          "name": "stdout",
          "output_type": "stream",
          "text": [
            "b is greater\n"
          ]
        }
      ],
      "source": [
        "#find out the greater of three no\n",
        "a=10\n",
        "b=40\n",
        "c=30\n",
        "if (a>b and a>c):\n",
        "  print(\"a is greater\")\n",
        "elif (b>c):\n",
        "  print(\"b is greater\")\n",
        "else:\n",
        "  print(\"c is greater\")"
      ]
    },
    {
      "cell_type": "code",
      "execution_count": null,
      "metadata": {
        "colab": {
          "base_uri": "https://localhost:8080/"
        },
        "id": "CuscDMhh7NiC",
        "outputId": "a109b927-ee4e-4b7c-a0e1-f59f3808775f"
      },
      "outputs": [
        {
          "name": "stdout",
          "output_type": "stream",
          "text": [
            "Enter the age of a person : 18\n",
            "I can Vote\n"
          ]
        }
      ],
      "source": [
        "#Q22. Write a code to take the age of person as an input and if age >= 18 display \"I can vote\". If age is < 18 display \"I can't vote\".\n",
        "def FindVote(age):\n",
        "  if age >=18:\n",
        "    return \"I can Vote\"\n",
        "  else:\n",
        "    return \"I can't vote\"\n",
        "    \n",
        "\n",
        "age=int(input(\"Enter the age of a person : \"))\n",
        "print(FindVote(age))"
      ]
    },
    {
      "cell_type": "code",
      "execution_count": null,
      "metadata": {
        "colab": {
          "base_uri": "https://localhost:8080/"
        },
        "id": "jeujskIH84Fh",
        "outputId": "16d4a186-5d3b-40aa-da20-3823d0f4004a"
      },
      "outputs": [
        {
          "name": "stdout",
          "output_type": "stream",
          "text": [
            "The sum of all even no in the given list is :  392\n"
          ]
        }
      ],
      "source": [
        "#Q23. Write a code that displays the sum of all the even numbers from the given list.\n",
        "'''\n",
        "numbers = [12, 75, 150, 180, 145, 525, 50]\n",
        "'''\n",
        "def SumOfEven(numbers):\n",
        "  sum=0\n",
        "  for i in numbers:\n",
        "    if i%2==0:\n",
        "      sum=sum+i\n",
        "  return sum\n",
        "\n",
        "\n",
        "numbers = [12, 75, 150, 180, 145, 525, 50]\n",
        "print(\"The sum of all even no in the given list is : \",SumOfEven(numbers) )"
      ]
    },
    {
      "cell_type": "code",
      "execution_count": null,
      "metadata": {
        "colab": {
          "base_uri": "https://localhost:8080/"
        },
        "id": "l0ayHmeP99YN",
        "outputId": "bd28dbe5-d4ba-4c87-86c3-ec2fb0b66ca1"
      },
      "outputs": [
        {
          "name": "stdout",
          "output_type": "stream",
          "text": [
            "Enter the First No : 135\n",
            "Enter the Second No : 235\n",
            "Enter the Third No : 120\n",
            "b is greater\n",
            "None\n"
          ]
        }
      ],
      "source": [
        "#Q24. Write a code to take 3 numbers as an input from the user and display the greatest no as output.\n",
        "def GreatestNo(a,b,c):\n",
        "  if (a==b and b==c):\n",
        "    print(\"all no's are equal\")\n",
        "  elif (a>b and a>c):\n",
        "    print(\"a is greater\")\n",
        "  elif (b>c):\n",
        "    print(\"b is greater\")\n",
        "  else:\n",
        "    print(\"c is greater\")\n",
        "\n",
        "a=int(input(\"Enter the First No : \"))\n",
        "b=int(input(\"Enter the Second No : \"))\n",
        "c=int(input(\"Enter the Third No : \"))\n",
        "print(GreatestNo(a,b,c))\n"
      ]
    },
    {
      "cell_type": "code",
      "execution_count": null,
      "metadata": {
        "colab": {
          "base_uri": "https://localhost:8080/"
        },
        "id": "Z90IXt0I_vWA",
        "outputId": "f169ef45-4a57-45e7-bdac-74929ed04613"
      },
      "outputs": [
        {
          "name": "stdout",
          "output_type": "stream",
          "text": [
            "75\n",
            "150\n",
            "145\n",
            "50\n",
            "None\n"
          ]
        }
      ],
      "source": [
        "#Q25. Write a program to display only those numbers from a list that satisfy the following conditions\n",
        "\n",
        "\"\"\"- The number must be divisible by five\n",
        "\n",
        "- If the number is greater than 150, then skip it and move to the next number\n",
        "\n",
        "- If the number is greater than 500, then stop the loop\n",
        "```\n",
        "numbers = [12, 75, 150, 180, 145, 525, 50]\n",
        "```\n",
        "\"\"\"\n",
        "def FindNumbers(numbers):\n",
        "  for num in numbers:\n",
        "    if(num%5==0):\n",
        "      if (num>150):\n",
        "        continue\n",
        "      elif (num>500):\n",
        "        break\n",
        "      else:\n",
        "        print(num)\n",
        "\n",
        "\n",
        "numbers = [12, 75, 150, 180, 145, 525, 50]\n",
        "print(FindNumbers(numbers))  "
      ]
    },
    {
      "cell_type": "markdown",
      "metadata": {
        "id": "HqIFD-sZZBck"
      },
      "source": [
        "Q26. What is a string? How can we declare string in Python?\n",
        "Ans. String is a data type in python used to hold text data in it.\n",
        "     We can delcare it using single Quote('') and double quotes(\"\")\n",
        "Satring Ttypes are immutable in Python which is default type for user input(). \n",
        "Example:\n",
        "name=\"Abeg Patel\"\n",
        "address=input(\"enter your address\")"
      ]
    },
    {
      "cell_type": "markdown",
      "metadata": {
        "id": "TF9O3pweaFdc"
      },
      "source": [
        "Q27. How can we access the string using its index?\n",
        "Ans. we can access the each data present in a string or full string using its index value which start from 0 to n-1 range.\n",
        "Syntax:\n",
        "val_str[Index value] -each character in a string \n",
        "val_str[Start value:stop value:step value]-number of character we want6 from a string\n",
        "\n",
        "\n"
      ]
    },
    {
      "cell_type": "code",
      "execution_count": null,
      "metadata": {
        "colab": {
          "base_uri": "https://localhost:8080/"
        },
        "id": "mTcnVVqFaO9s",
        "outputId": "5614e50b-86df-4416-a59d-902ce50c348f"
      },
      "outputs": [
        {
          "name": "stdout",
          "output_type": "stream",
          "text": [
            "abegpatel\n"
          ]
        }
      ],
      "source": [
        "#string example using fetching value from a string using it index\n",
        "val_str=\"abegpatel\"\n",
        "print(val_str[0:9])"
      ]
    },
    {
      "cell_type": "code",
      "execution_count": null,
      "metadata": {
        "colab": {
          "base_uri": "https://localhost:8080/",
          "height": 35
        },
        "id": "dyFwOL6baYU0",
        "outputId": "b65acb3d-753c-420c-8e4c-c3de17200924"
      },
      "outputs": [
        {
          "data": {
            "application/vnd.google.colaboratory.intrinsic+json": {
              "type": "string"
            },
            "text/plain": [
              "'iNeuron'"
            ]
          },
          "execution_count": 46,
          "metadata": {},
          "output_type": "execute_result"
        }
      ],
      "source": [
        "#Q28. Write a code to get the desired output of the following\n",
        "\"\"\"\n",
        "string = \"Big Data iNeuron\"\n",
        "desired_output = \"iNeuron\"\n",
        "\"\"\"\n",
        "string = \"Big Data iNeuron\"\n",
        "string[-7:]\n"
      ]
    },
    {
      "cell_type": "code",
      "execution_count": null,
      "metadata": {
        "colab": {
          "base_uri": "https://localhost:8080/"
        },
        "id": "oFlG42Bqdrix",
        "outputId": "62dfebd5-e693-45ab-ff0f-d298c0a924df"
      },
      "outputs": [
        {
          "name": "stdout",
          "output_type": "stream",
          "text": [
            "norueNi\n"
          ]
        }
      ],
      "source": [
        "#Q29. Write a code to get the desired output of the following\n",
        "\"\"\"\n",
        "string = \"Big Data iNeuron\"\n",
        "desired_output = \"norueNi\"\n",
        "\"\"\"\n",
        "string = \"Big Data iNeuron\"\n",
        "print(string[-1:8:-1])"
      ]
    },
    {
      "cell_type": "code",
      "execution_count": null,
      "metadata": {
        "colab": {
          "base_uri": "https://localhost:8080/"
        },
        "id": "ZmiYSLt1eCdR",
        "outputId": "19d98382-1d0e-46bd-9d67-e39e64b253f8"
      },
      "outputs": [
        {
          "name": "stdout",
          "output_type": "stream",
          "text": [
            "norueNi ataD giB\n"
          ]
        }
      ],
      "source": [
        "#Q30. Resverse the string given in the above question.\n",
        "string=\"Big Data iNeuron\"\n",
        "print(string[::-1])"
      ]
    },
    {
      "cell_type": "markdown",
      "metadata": {
        "id": "NC-ZM2CEA_qh"
      },
      "source": [
        "Q31. How can you delete entire string at once?\n",
        "Ans. using \"del\" keyword we can delete the entire string at once.\n",
        "Syntax : del <string name>\n",
        "\n",
        "string=\"Big Data iNeuron\"\n",
        "ntimes=string * 3\n",
        "print(ntimes) #Big Data iNeuronBig Data iNeuronBig Data iNeuron\n",
        "del string\n",
        "ntimes=string * 3 #string is deleted\n",
        "print(ntimes) #Error"
      ]
    },
    {
      "cell_type": "markdown",
      "metadata": {
        "id": "SV_6dsU2B-RH"
      },
      "source": [
        "Q32. What is escape sequence?\n",
        "Ans. The characters that we can't insert into a string are called Illegal characters and these characters can modify the string. \n",
        "-The function of escape sequences is used to insert such characters into   the string without modifying the string.\n",
        "-It is preceded by a backslash character(\\)\n",
        "Example-\\n,\\r,\\t,\\'\n",
        "\n"
      ]
    },
    {
      "cell_type": "code",
      "execution_count": null,
      "metadata": {
        "colab": {
          "base_uri": "https://localhost:8080/"
        },
        "id": "wdYXpDLKEK8n",
        "outputId": "0b9e201f-7e3f-4ea9-f2d4-be6f9ee4ef2e"
      },
      "outputs": [
        {
          "name": "stdout",
          "output_type": "stream",
          "text": [
            "By using \\:  Hi!'there\n",
            "Hello\n",
            "everyone\n",
            "How\tare\tyou\n"
          ]
        }
      ],
      "source": [
        "#escape sequence\n",
        "string = 'Hi!\\'there'  \n",
        "print (\"By using \\: \", string)  \n",
        "string1='Hello\\neveryone'\n",
        "print(string1)\n",
        "string2='How\\tare\\tyou'\n",
        "print(string2)"
      ]
    },
    {
      "cell_type": "code",
      "execution_count": null,
      "metadata": {
        "colab": {
          "base_uri": "https://localhost:8080/"
        },
        "id": "B7_rmcjuE2V0",
        "outputId": "2b64a65d-d032-40dc-ad4f-40c63e0d1ba2"
      },
      "outputs": [
        {
          "name": "stdout",
          "output_type": "stream",
          "text": [
            "\u0000147\n"
          ]
        }
      ],
      "source": [
        "x='\\000147'\n",
        "print(x)"
      ]
    },
    {
      "cell_type": "code",
      "execution_count": null,
      "metadata": {
        "colab": {
          "base_uri": "https://localhost:8080/"
        },
        "id": "n9nX-PlhHdqs",
        "outputId": "be3e22bb-d2ce-45f0-e7c7-f8b0942b8b33"
      },
      "outputs": [
        {
          "name": "stdout",
          "output_type": "stream",
          "text": [
            "iNeuron's Big Data Course\n"
          ]
        }
      ],
      "source": [
        "#Q33. How can you print the below string?\n",
        "\"\"\"\n",
        "'iNeuron's Big Data Course'\n",
        "\"\"\"\n",
        "string='iNeuron\\'s Big Data Course'\n",
        "print(string)\n"
      ]
    },
    {
      "cell_type": "markdown",
      "metadata": {
        "id": "I1q7JXz-KzmM"
      },
      "source": [
        "Q34. What is a list in Python?\n",
        "Ans. List is a sequential data type in python which is ordered and mutable data structures enclosed with a square bracket.Its can holds multiple type of values.\n",
        "Syntax list=[1,\"abeg\",3,3.4]\n"
      ]
    },
    {
      "cell_type": "markdown",
      "metadata": {
        "id": "tBj9jakjMPp3"
      },
      "source": [
        "Q35. How can you create a list in Python?\n",
        "Ans. In python we can create a list using square bracket([]) which is capable of holds multiple types values at a time.\n",
        "list_A=[1,\"abeg\",4.5,(\"a\",\"b\",\"c\",\"d\")]"
      ]
    },
    {
      "cell_type": "markdown",
      "metadata": {
        "id": "IaSy9nMuMV_D"
      },
      "source": [
        "Q36. How can we access the elements in a list?\n",
        "Ans. we can access list element through it index and using list Comprehension.\n",
        "Example:"
      ]
    },
    {
      "cell_type": "code",
      "execution_count": null,
      "metadata": {
        "colab": {
          "base_uri": "https://localhost:8080/"
        },
        "id": "V-M6auI7OAgb",
        "outputId": "a6ffd7a7-250d-4e10-f46a-28759d3fc6e8"
      },
      "outputs": [
        {
          "name": "stdout",
          "output_type": "stream",
          "text": [
            "1\n",
            "[1, 2, 3, 4, 5, 6]\n"
          ]
        }
      ],
      "source": [
        "list=[1,2,3,4,5,6]\n",
        "print(list[0])\n",
        "print([i for i in list])"
      ]
    },
    {
      "cell_type": "code",
      "execution_count": null,
      "metadata": {
        "colab": {
          "base_uri": "https://localhost:8080/"
        },
        "id": "RCBIP5jKOM-r",
        "outputId": "37ab8f59-e5c7-4e76-ce6c-ca15f0eceeaa"
      },
      "outputs": [
        {
          "name": "stdout",
          "output_type": "stream",
          "text": [
            "iNeuron\n"
          ]
        }
      ],
      "source": [
        "#Q37. Write a code to access the word \"iNeuron\" from the given list.\n",
        "\"\"\"\n",
        "lst = [1,2,3,\"Hi\",[45,54, \"iNeuron\"], \"Big Data\"]\n",
        "\"\"\"\n",
        "lst = [1,2,3,\"Hi\",[45,54, \"iNeuron\"], \"Big Data\"]\n",
        "print(lst[4][2])\n",
        "\n"
      ]
    },
    {
      "cell_type": "code",
      "execution_count": null,
      "metadata": {
        "colab": {
          "base_uri": "https://localhost:8080/"
        },
        "id": "bUXuR-w_PHDp",
        "outputId": "d1fc091d-37cd-4731-c7e1-12e0eadef532"
      },
      "outputs": [
        {
          "name": "stdout",
          "output_type": "stream",
          "text": [
            "1 2 3 4 5\n",
            "The length of the list is  5\n"
          ]
        }
      ],
      "source": [
        "#Q38. Take a list as an input from the user and find the length of the list.\n",
        "def Findlen(list1):\n",
        "  return len(list1)\n",
        "\n",
        "list1 = [ i for i in input().split(\" \")]\n",
        "print(\"The length of the list is \",Findlen(list1))\n"
      ]
    },
    {
      "cell_type": "code",
      "execution_count": null,
      "metadata": {
        "colab": {
          "base_uri": "https://localhost:8080/"
        },
        "id": "iNIf_AiSXAYJ",
        "outputId": "7e5a5f4d-b19f-43d7-e31e-82c94e386295"
      },
      "outputs": [
        {
          "name": "stdout",
          "output_type": "stream",
          "text": [
            "['Welcome', 'to', 'Big', 'Data', 'course']\n"
          ]
        }
      ],
      "source": [
        "#Q39. Add the word \"Big\" in the 3rd index of the given list.\n",
        "\"\"\"\n",
        "lst = [\"Welcome\", \"to\", \"Data\", \"course\"]\n",
        "\"\"\"\n",
        "lst = [\"Welcome\", \"to\", \"Data\", \"course\"]\n",
        "\n",
        "lst.insert(2,\"Big\")\n",
        "print(lst)"
      ]
    },
    {
      "cell_type": "markdown",
      "metadata": {
        "id": "Kg8jRilWYEAf"
      },
      "source": [
        "Q40. What is a tuple? How is it different from list?\n",
        "Ans. Tuple is a Sequential data type which is ordered,immutable and allows duplicate values.It enclosed with a round bracket with value present such as int,char,str,list ect.\n",
        ".It belongs to class 'tuple'\n",
        "Syntax TupleA=(\"hi\",\"how\",\"are\" ,\"you\")\n"
      ]
    },
    {
      "cell_type": "code",
      "execution_count": null,
      "metadata": {
        "colab": {
          "base_uri": "https://localhost:8080/"
        },
        "id": "mG49Td5lX8aS",
        "outputId": "d21bb4eb-0860-446f-fe21-e8b8aaf433ed"
      },
      "outputs": [
        {
          "name": "stdout",
          "output_type": "stream",
          "text": [
            "<class 'tuple'>\n"
          ]
        }
      ],
      "source": [
        "TupleA=(\"hi\",\"how\",\"are\" ,'you')\n",
        "print(type(TupleA))"
      ]
    },
    {
      "cell_type": "markdown",
      "metadata": {
        "id": "vkdd-Q_aZSmd"
      },
      "source": [
        "Q41. How can you create a tuple in Python?\n",
        "Ans. It enclosed with a round bracket with value present such as int,char,str,list ect.\n",
        "Example: Tuple_Weather = (\"temperature\",\"pressure\",(\"high\",\"low\"),(\"medium\"))\n"
      ]
    },
    {
      "cell_type": "code",
      "execution_count": null,
      "metadata": {
        "colab": {
          "base_uri": "https://localhost:8080/"
        },
        "id": "FOvKMtDFZ37k",
        "outputId": "1b6d5695-67cd-489d-e288-b38ee66f4d52"
      },
      "outputs": [
        {
          "data": {
            "text/plain": [
              "('name', ['abeg'])"
            ]
          },
          "execution_count": 13,
          "metadata": {},
          "output_type": "execute_result"
        }
      ],
      "source": [
        "#Q42. Create a tuple and try to add your name in the tuple. Are you able to do it? Support your answer with reason.\n",
        "#Ans. No we can not add our name in the tuple as it properties defines it is immutable or unchangable.But we  can add value to a mutable object with in a tuple.\n",
        "info_tuple=('name',[])\n",
        "info_tuple[1].append(\"abeg\")\n",
        "info_tuple\n"
      ]
    },
    {
      "cell_type": "code",
      "execution_count": null,
      "metadata": {
        "colab": {
          "base_uri": "https://localhost:8080/"
        },
        "id": "RzC3s3H4jxev",
        "outputId": "8fdf250d-6eb9-42dc-e385-e00aa430edb0"
      },
      "outputs": [
        {
          "name": "stdout",
          "output_type": "stream",
          "text": [
            "<class 'tuple'>\n"
          ]
        }
      ],
      "source": [
        "tup=(1,2,3)\n",
        "print(type(tup))"
      ]
    },
    {
      "cell_type": "code",
      "execution_count": null,
      "metadata": {
        "colab": {
          "base_uri": "https://localhost:8080/"
        },
        "id": "lLx7CVKpkYTH",
        "outputId": "93241a8d-b143-4917-d661-cc223dfc8e6e"
      },
      "outputs": [
        {
          "name": "stdout",
          "output_type": "stream",
          "text": [
            "addition result ('a', 'b', 'c', 'd', 'e', 'f')\n",
            "multiplication result ('a', 'b', 'c', 'a', 'b', 'c', 'a', 'b', 'c')\n"
          ]
        }
      ],
      "source": [
        "#Q43. Can two tuple be appended. If yes, write a code for it. If not, why?\n",
        "#Ans. No we can not append tuple to anthor tuple due to its immutable property.But we can add/Concatenate two tuples and Multiply operation can be done.\n",
        "\n",
        "tup1=(\"a\",\"b\",\"c\")\n",
        "tup2=(\"d\",\"e\",\"f\")\n",
        "print(\"addition result\" ,tup1+tup2)\n",
        "print(\"multiplication result\",tup1*3)"
      ]
    },
    {
      "cell_type": "code",
      "execution_count": null,
      "metadata": {
        "colab": {
          "base_uri": "https://localhost:8080/"
        },
        "id": "NqDVE-RAGyM_",
        "outputId": "d766fda5-607b-4f1d-c3a5-1f855bfc392e"
      },
      "outputs": [
        {
          "name": "stdout",
          "output_type": "stream",
          "text": [
            "enter the tuple elements by ,a,b,c,d,e\n",
            "('a', 'b', 'c', 'd', 'e')\n",
            "count of element in the given tuple is 5\n"
          ]
        }
      ],
      "source": [
        "#Q44. Take a tuple as an input and print the count of elements in it.\n",
        "def FindCount(tup):\n",
        "  count=0\n",
        "  for i in tup:\n",
        "    count+=1\n",
        "  return count\n",
        "\n",
        "\n",
        "tup=tuple(input(\"enter the tuple elements by ,\").split(\",\"))\n",
        "print(tup)\n",
        "print(\"count of element in the given tuple is\",FindCount(tup))"
      ]
    },
    {
      "cell_type": "markdown",
      "metadata": {
        "id": "oqlKeWrAKu2k"
      },
      "source": [
        "Q45. What are sets in Python?\n",
        "Ans. Set items are unordered, mutable and do not allow duplicate values. but we  can remove items and add new items.which enclosed with a curly bracket({}),It has predefined methods such as sum(),max(),min() etc.\n",
        "\n",
        "Example:\n",
        "set1={1,2,3,4,5,6,7,,8,9,10}\n"
      ]
    },
    {
      "cell_type": "code",
      "execution_count": null,
      "metadata": {
        "colab": {
          "base_uri": "https://localhost:8080/"
        },
        "id": "eM_fvNTbIhgL",
        "outputId": "09a8753d-e58c-4264-b599-a6d6e31317dd"
      },
      "outputs": [
        {
          "name": "stdout",
          "output_type": "stream",
          "text": [
            "<class 'set'>\n",
            "{1, 2, 3, 4, 5, 6, 7, 8, 9, 10}\n"
          ]
        }
      ],
      "source": [
        "set1={1,2,3,4,5,6,7,8,9,10}\n",
        "print(type(set1))\n",
        "print(set1)\n"
      ]
    },
    {
      "cell_type": "markdown",
      "metadata": {
        "id": "bsyPS4zJigWf"
      },
      "source": [
        "Q46. How can you create a set?\n",
        "Ans. We can create a set with curly brackets or using set() function\n",
        "Example:set={1,2,,3,4,5,6}\n"
      ]
    },
    {
      "cell_type": "code",
      "execution_count": null,
      "metadata": {
        "colab": {
          "base_uri": "https://localhost:8080/"
        },
        "id": "4c_Mrc4AjDWm",
        "outputId": "ae4cf300-634d-424b-f2a7-0eb959bc1ca1"
      },
      "outputs": [
        {
          "data": {
            "text/plain": [
              "{'s'}"
            ]
          },
          "execution_count": 4,
          "metadata": {},
          "output_type": "execute_result"
        }
      ],
      "source": [
        "#creating a set example\n",
        "set1= set()\n",
        "set1.add('s')\n",
        "set1"
      ]
    },
    {
      "cell_type": "code",
      "execution_count": null,
      "metadata": {
        "colab": {
          "base_uri": "https://localhost:8080/"
        },
        "id": "KqmrYtxAjFQF",
        "outputId": "76cfe69d-1c8f-493c-b9ff-a35441f98540"
      },
      "outputs": [
        {
          "data": {
            "text/plain": [
              "{'iNeuron'}"
            ]
          },
          "execution_count": 5,
          "metadata": {},
          "output_type": "execute_result"
        }
      ],
      "source": [
        "#Q47. Create a set and add \"iNeuron\" in your set.\n",
        "set1=set()\n",
        "set1.add('iNeuron')\n",
        "set1"
      ]
    },
    {
      "cell_type": "code",
      "execution_count": null,
      "metadata": {
        "colab": {
          "base_uri": "https://localhost:8080/"
        },
        "id": "lgaIJfCijwk9",
        "outputId": "07418af4-09ed-4dde-8fe6-8e6cb0cee9b1"
      },
      "outputs": [
        {
          "data": {
            "text/plain": [
              "{(('a', 'b'), ('c', 'd')), 1, 2, 3, 4, 5, 6, 'C', 'a', 'b', 'e'}"
            ]
          },
          "execution_count": 23,
          "metadata": {},
          "output_type": "execute_result"
        }
      ],
      "source": [
        "#Q48. Try to add multiple values using add() function.\n",
        "set1 = set()\n",
        "set1.add(1)\n",
        "set1.add(2)\n",
        "set1.add(3)\n",
        "set1.add(\"e\")\n",
        "set1.update((\"a\",\"b\",\"C\"))\n",
        "set1.add(((\"a\",\"b\"),(\"c\",\"d\")))\n",
        "set1.update([5,6,3,4])\n",
        "set1"
      ]
    },
    {
      "cell_type": "code",
      "execution_count": null,
      "metadata": {
        "colab": {
          "base_uri": "https://localhost:8080/"
        },
        "id": "MNkTZOZmj-Xg",
        "outputId": "c654e91b-3989-4e09-b9e1-deb9ebe60a10"
      },
      "outputs": [
        {
          "data": {
            "text/plain": [
              "{1, 2, 3, 4, 5, 6}"
            ]
          },
          "execution_count": 21,
          "metadata": {},
          "output_type": "execute_result"
        }
      ],
      "source": [
        "#Q49. How is update() different from add()?\n",
        "#Ans.Update:is used to add sequence/collection of element to the the given set where as\n",
        "#where as add() method used to add one elemnet to the set.\n",
        "set1=set()\n",
        "set1.add(1)\n",
        "set1.add(2)\n",
        "set1.update([5,6,3,4])\n",
        "set1"
      ]
    },
    {
      "cell_type": "code",
      "execution_count": null,
      "metadata": {
        "colab": {
          "base_uri": "https://localhost:8080/"
        },
        "id": "FkhDHjGHnrAz",
        "outputId": "bd1c638b-cfa1-40c2-aa61-11a24b0a3a7a"
      },
      "outputs": [
        {
          "name": "stdout",
          "output_type": "stream",
          "text": [
            "set()\n"
          ]
        }
      ],
      "source": [
        "#Q50. What is clear() in sets?\n",
        "# For clearing the set we can use set predefined set.clear() method.\n",
        "\n",
        "set1={1,2,3}\n",
        "set1.clear()\n",
        "print(set1)"
      ]
    },
    {
      "cell_type": "markdown",
      "metadata": {
        "id": "rtj4P8gBtSct"
      },
      "source": [
        "Q51. What is frozen set?\n",
        "Ans. Frozen set is a immutable version of set in python.we can't modify the frozen set value.\n",
        "-It be a anthor set,dictionary,tuple.\n",
        "-It can be used as dictionary key.\n",
        "Syn:\n",
        "frozenset(iterable)\n"
      ]
    },
    {
      "cell_type": "code",
      "execution_count": null,
      "metadata": {
        "colab": {
          "base_uri": "https://localhost:8080/"
        },
        "id": "NELcmOPjtTEd",
        "outputId": "b5e0832c-e42b-4017-d2e4-736403b2f1f6"
      },
      "outputs": [
        {
          "name": "stdout",
          "output_type": "stream",
          "text": [
            "frozen set is frozenset({1, 2, 3, 4, 5, 6, 7, 8})\n",
            "frozen set is frozenset({'age', 'name'})\n"
          ]
        }
      ],
      "source": [
        "#Frozen set example\n",
        "s=[1,2,3,4,5,6,7,8]\n",
        "fset=frozenset(s)\n",
        "print(\"frozen set is\",fset)\n",
        "#fset.add(4) will get error as it is immutable\n",
        "#used as dict key\n",
        "dict1={\"name\":\"abeg\",\"age\":18}\n",
        "fset=frozenset(dict1)\n",
        "print(\"frozen set is\",fset)\n"
      ]
    },
    {
      "cell_type": "markdown",
      "metadata": {
        "id": "AjiEJwvqv3YB"
      },
      "source": [
        "Q52. How is frozen set different from set?\n",
        "Ans. sets are unordered and mutable collection of datastructure where as\n",
        "     Frozen set-are unordered,immutable,unindexed collection of data.\n",
        "     Example:\n",
        "      set1=set()\n",
        "      fset1=frozenset()\n",
        "      "
      ]
    },
    {
      "cell_type": "code",
      "execution_count": null,
      "metadata": {
        "colab": {
          "base_uri": "https://localhost:8080/"
        },
        "id": "kOXKXzefvfYi",
        "outputId": "afaf4fcc-f7f6-4f6f-f231-7267d9a67b44"
      },
      "outputs": [
        {
          "name": "stdout",
          "output_type": "stream",
          "text": [
            "{1, 2, 3, 6, 7, 8}\n",
            "{1, 2, 3}\n",
            "{1, 2, 3, 4, 5, 6, 7, 8}\n"
          ]
        }
      ],
      "source": [
        "#Q53. What is union() in sets? Explain via code.\n",
        "#Ans union() is collection of set operation which is used to perform concatenation of two or moreset without duplicates value.\n",
        "#Example:\n",
        "set1={1,2,3}\n",
        "set2={4,5,6}\n",
        "set3={6,7,8}\n",
        "set1.union(set2)\n",
        "print(set1|set3)\n",
        "print(set1)\n",
        "set4=set.union(set1,set2,set3)\n",
        "print(set4)\n"
      ]
    },
    {
      "cell_type": "code",
      "execution_count": null,
      "metadata": {
        "colab": {
          "base_uri": "https://localhost:8080/"
        },
        "id": "TR43GCRIxU9N",
        "outputId": "4affc143-2c59-43a9-ca20-0dc164125d28"
      },
      "outputs": [
        {
          "name": "stdout",
          "output_type": "stream",
          "text": [
            "intersection value is {1, 3}\n",
            "{1}\n",
            "{1, 6}\n"
          ]
        }
      ],
      "source": [
        "#Q54. What is intersection() in sets? Explain via code.\n",
        "#Ans. intersection() collection of set operation which is used to perform intersection which means common element from the set.\n",
        "set1={1,2,3}\n",
        "set2={3,1,6}\n",
        "set3={6,7,1}\n",
        "print(\"intersection value is\",set1.intersection(set2))\n",
        "print(set.intersection(set1,set2,set3))\n",
        "print(set2&set3)"
      ]
    },
    {
      "cell_type": "markdown",
      "metadata": {
        "id": "m63YHC9czSpX"
      },
      "source": [
        "Q55. What is dictionary in Python?\n",
        "Ans. dictionary is a collection which is ordered, changeable and do not allow duplicates.\n",
        "-It has key value pairs like a JSON format and we can easily map key with its value.\n",
        "-"
      ]
    },
    {
      "cell_type": "code",
      "execution_count": null,
      "metadata": {
        "colab": {
          "base_uri": "https://localhost:8080/"
        },
        "id": "UEnl4bFozBBx",
        "outputId": "5a5a8fed-0ee9-4d07-b133-fef9662ef23e"
      },
      "outputs": [
        {
          "name": "stdout",
          "output_type": "stream",
          "text": [
            "{'name1': 'abeg', 'name2': 'ashik'}\n",
            "abeg\n",
            "{'name': 'abeg', 'age': 22, 'cgpa': 9.6, 'address': 'odisha'}\n"
          ]
        }
      ],
      "source": [
        "thisdict = {\n",
        "  \"name\":\"abeg\",\n",
        "  \"age\":22,\n",
        "  \"cgpa\":9.6\n",
        "}\n",
        "dict1=dict(name1=\"abeg\",name2=\"ashik\")\n",
        "print(dict1)\n",
        "print(thisdict[\"name\"])\n",
        "thisdict[\"address\"] =\"odisha\"\n",
        "print(thisdict)\n"
      ]
    },
    {
      "cell_type": "markdown",
      "metadata": {
        "id": "-CtoVg3r1u05"
      },
      "source": [
        "Q56. How is dictionary different from all other data structures.\n",
        "Ans. Dictionary is ordered and mutable collection of data structure in python which can contains key-value pair rather than all other data structure contains values.Uisng dictioanry can map multiple source with multiple destination.and opeartion is vary fast as it uses hash table data structure.\n",
        "syntax:\n",
        "dict = {\n",
        "  \"name\":\"abeg\",\n",
        "  \"age\":22,\n",
        "  \"cgpa\":9.6\n",
        "}"
      ]
    },
    {
      "cell_type": "markdown",
      "metadata": {
        "id": "Xj-it-Wy2tD_"
      },
      "source": [
        "Q57. How can we delare a dictionary in Python?\n",
        "Ans. dict keys and values are separed by : and enclosed with a curly brackets.\n",
        "Example:\n"
      ]
    },
    {
      "cell_type": "code",
      "execution_count": null,
      "metadata": {
        "colab": {
          "base_uri": "https://localhost:8080/"
        },
        "id": "k_RTUtCb0GSx",
        "outputId": "927edb68-c0b2-4814-d353-59057f0f9382"
      },
      "outputs": [
        {
          "name": "stdout",
          "output_type": "stream",
          "text": [
            "dict_keys(['a', 'b'])\n",
            "dict_values([['apple', 'avogado'], ['ball', 'basket']])\n",
            "dict_items([('a', ['apple', 'avogado']), ('b', ['ball', 'basket'])])\n"
          ]
        }
      ],
      "source": [
        "dict_e={\"a\":['apple','avogado'],\"b\":[\"ball\",\"basket\"]}\n",
        "print(dict_e.keys())\n",
        "print(dict_e.values())\n",
        "print(dict_e.items())"
      ]
    },
    {
      "cell_type": "markdown",
      "metadata": {
        "id": "dm3ivr_jCz-2"
      },
      "source": [
        "Q58. What will the output of the following?\n",
        "\"\"\"\n",
        "var = {}\n",
        "print(type(var))\n",
        "\"\"\"\n",
        "Ans.<class 'dict'>\n"
      ]
    },
    {
      "cell_type": "markdown",
      "metadata": {
        "id": "3rUWJoHMC8ie"
      },
      "source": [
        "Q59. How can we add an element in a dictionary?\n",
        "Ans. we can add elemnet by two methods.\n",
        "1..using = operator\n",
        "synatx=my_dict['key']=value\n",
        "2.using update method:\n",
        " syntx=my_dict.update({key:value})\n",
        "using append method.\n",
        " syntax:my_dict['key'].append(value) #from a mutable object like a list\n",
        "\n"
      ]
    },
    {
      "cell_type": "code",
      "execution_count": null,
      "metadata": {
        "colab": {
          "base_uri": "https://localhost:8080/"
        },
        "id": "1nso0veY3jEP",
        "outputId": "37e47be3-15dd-473f-b9bc-ce4c1f6a2ab6"
      },
      "outputs": [
        {
          "data": {
            "text/plain": [
              "{'name': 'abeg', 'age': 22, 'address': 'odisha', 'pin': 770034}"
            ]
          },
          "execution_count": 24,
          "metadata": {},
          "output_type": "execute_result"
        }
      ],
      "source": [
        "my_dict={\"name\":\"abeg\",\"age\":22}\n",
        "my_dict.update({'address':'odisha'})\n",
        "my_dict['pin']=770034\n",
        "my_dict"
      ]
    },
    {
      "cell_type": "code",
      "execution_count": null,
      "metadata": {
        "colab": {
          "base_uri": "https://localhost:8080/"
        },
        "id": "cgcvOcoTCjbX",
        "outputId": "3d252f24-e5b8-42de-9425-14a7952621ca"
      },
      "outputs": [
        {
          "name": "stdout",
          "output_type": "stream",
          "text": [
            "dict_values(['abeg', 22, 'R2c', 770034])\n"
          ]
        }
      ],
      "source": [
        "#Q60. Create a dictionary and access all the values in that dictionary.\n",
        "my_dict={\"name\":\"abeg\",\"age\":22}\n",
        "my_dict[\"address\"]=\"R2c\"\n",
        "my_dict['pin']=770034\n",
        "print(my_dict.values())"
      ]
    },
    {
      "cell_type": "code",
      "execution_count": null,
      "metadata": {
        "colab": {
          "base_uri": "https://localhost:8080/"
        },
        "id": "pB7A5ZfXCre4",
        "outputId": "ff805f36-7e0b-448d-aa30-c48fae54099a"
      },
      "outputs": [
        {
          "name": "stdout",
          "output_type": "stream",
          "text": [
            "{'name': 'abeg', 'age': 22, 'address': 'R2c', 'pin': 770034, 'identity': {'state': 'odisha', 'nationality': 'indian'}}\n",
            "dict_values(['odisha', 'indian'])\n"
          ]
        }
      ],
      "source": [
        "#Q61. Create a nested dictionary and access all the element in the inner dictionary.\n",
        "dict1={\"state\":\"odisha\",\"nationality\":\"indian\"}\n",
        "my_dict[\"identity\"]=dict1\n",
        "print(my_dict)\n",
        "print(my_dict['identity'].values()) #printing values for inner loop"
      ]
    },
    {
      "cell_type": "code",
      "execution_count": null,
      "metadata": {
        "colab": {
          "base_uri": "https://localhost:8080/"
        },
        "id": "4tHs1aFXFNw7",
        "outputId": "5a1276f3-8534-4ecf-ac05-55b2359de0a8"
      },
      "outputs": [
        {
          "name": "stdout",
          "output_type": "stream",
          "text": [
            "{'name': 'abeg', 'age': 22, 'address': 'R2c', 'pin': 770034, 'identity': {'state': 'odisha', 'nationality': 'indian'}}\n",
            "{'name': 'abeg', 'age': 22, 'address': 'R2c', 'pin': 770034, 'identity': {'state': 'odisha', 'nationality': 'indian'}}\n",
            "abeg\n",
            "15000\n"
          ]
        }
      ],
      "source": [
        "#Q62. What is the use of get() function?\n",
        "#Ans.In python get() function is used for fetching the value for a particular key and and if key and value is not present in dictionary it can hold the unexisting value which will not present in the dictionary.\n",
        "\n",
        "print(my_dict)\n",
        "x = my_dict.get(\"name\")\n",
        "print(my_dict)\n",
        "print(x)\n",
        "x = my_dict.get(\"price\", 15000)\n",
        "print(x)"
      ]
    },
    {
      "cell_type": "code",
      "execution_count": null,
      "metadata": {
        "colab": {
          "base_uri": "https://localhost:8080/"
        },
        "id": "nRwCh0MfKliI",
        "outputId": "a25cd85f-2dda-4ac0-cfdc-2b6df9189d89"
      },
      "outputs": [
        {
          "name": "stdout",
          "output_type": "stream",
          "text": [
            "{'name': 'abeg', 'age': 22, 'address': 'R2c', 'pin': 770034, 'identity': {'state': 'odisha', 'nationality': 'indian'}}\n",
            "dict_items([('name', 'abeg'), ('age', 22), ('address', 'R2c'), ('pin', 770034), ('identity', {'state': 'odisha', 'nationality': 'indian'})])\n"
          ]
        }
      ],
      "source": [
        "#Q63. What is the use of items() function?\n",
        "#Ans. items() in python retrun a view object.which contains key value pair of the dictionary in the form of tuple in a list.\n",
        "print(my_dict)\n",
        "print(my_dict.items())\n"
      ]
    },
    {
      "cell_type": "code",
      "execution_count": null,
      "metadata": {
        "id": "UoKmNhL4XUV1"
      },
      "outputs": [],
      "source": [
        "#Q64. What is the use of pop() function?\n",
        "#Ans.pop() in python used for performing removal of an element from a list or removal of kay-value using its key for a dictionary.\n",
        "#syntax: list.pop(index),dict.pop(key)"
      ]
    },
    {
      "cell_type": "code",
      "execution_count": null,
      "metadata": {
        "colab": {
          "base_uri": "https://localhost:8080/"
        },
        "id": "vzK3kWfKYa09",
        "outputId": "dc734608-bf17-456a-c2be-86b338742464"
      },
      "outputs": [
        {
          "name": "stdout",
          "output_type": "stream",
          "text": [
            "[1, 2, 3, 4, 5]\n",
            "{'name': 'abeg', 'age': 22, 'address': 'R2c', 'pin': 770034, 'identity': {'state': 'odisha', 'nationality': 'indian'}}\n",
            "after pop() in a list [1, 2, 3, 4]\n",
            "{'name': 'abeg', 'age': 22, 'address': 'R2c', 'pin': 770034}\n"
          ]
        }
      ],
      "source": [
        "#example pop()\n",
        "my_list=[1,2,3,4,5]\n",
        "print(my_list)\n",
        "print(my_dict)\n",
        "my_list.pop() #bydefault remove last element\n",
        "print(\"after pop() in a list\",my_list)\n",
        "my_dict.pop('identity')\n",
        "print(my_dict)"
      ]
    },
    {
      "cell_type": "code",
      "execution_count": null,
      "metadata": {
        "colab": {
          "base_uri": "https://localhost:8080/"
        },
        "id": "GumFwzN3YlpC",
        "outputId": "d37d7db0-f340-48ec-89df-10c0b35f77f7"
      },
      "outputs": [
        {
          "name": "stdout",
          "output_type": "stream",
          "text": [
            "before {'name': 'abeg', 'age': 22, 'address': 'R2c', 'pin': 770034}\n",
            "after {'name': 'abeg', 'age': 22, 'address': 'R2c'}\n"
          ]
        }
      ],
      "source": [
        "#Q65. What is the use of popitem() function?\n",
        "#Ans.popitem() is used for removal of last item in a dictionary.\n",
        "print(\"before\",my_dict)\n",
        "my_dict.popitem()\n",
        "print(\"after\",my_dict)"
      ]
    },
    {
      "cell_type": "code",
      "execution_count": null,
      "metadata": {
        "colab": {
          "base_uri": "https://localhost:8080/"
        },
        "id": "R07FcbcRZjK0",
        "outputId": "a6ea6462-d3e1-46b9-ee40-6a336f9c49e2"
      },
      "outputs": [
        {
          "name": "stdout",
          "output_type": "stream",
          "text": [
            "{'name': 'abeg', 'age': 22, 'address': 'R2c', 'pin': 770034, 'identity': {'state': 'odisha', 'nationality': 'indian'}}\n",
            "dict_keys(['name', 'age', 'address', 'pin', 'identity'])\n"
          ]
        }
      ],
      "source": [
        "#Q66. What is the use of keys() function?\n",
        "#Ans. Keys() function in python is used to fetch the keys in a list of the dictionary.\n",
        "print(my_dict)\n",
        "print(my_dict.keys())"
      ]
    },
    {
      "cell_type": "code",
      "execution_count": null,
      "metadata": {
        "colab": {
          "base_uri": "https://localhost:8080/"
        },
        "id": "8lQSytUuaihz",
        "outputId": "c679e68b-2c77-4537-df61-2588b2822c5f"
      },
      "outputs": [
        {
          "name": "stdout",
          "output_type": "stream",
          "text": [
            "{'name': 'abeg', 'age': 22, 'address': 'R2c', 'pin': 770034, 'identity': {'state': 'odisha', 'nationality': 'indian'}}\n",
            "dict_values(['abeg', 22, 'R2c', 770034, {'state': 'odisha', 'nationality': 'indian'}])\n"
          ]
        }
      ],
      "source": [
        "#Q67. What is the use of values() function?\n",
        "#Ans. values() is predefined method for adictionary used to fetch values in a list from a dictionary.\n",
        "print(my_dict)\n",
        "print(my_dict.values())"
      ]
    },
    {
      "cell_type": "markdown",
      "metadata": {
        "id": "7px2c9YkbHT6"
      },
      "source": [
        "Q68. What are loops in Python?\n",
        "Ans. Loops are the iterable object in python.which can be used to iterate through a collection(list,tuple,set,dictionary).we can use for and while loop."
      ]
    },
    {
      "cell_type": "markdown",
      "metadata": {
        "id": "VdhKB9AjcnnX"
      },
      "source": [
        "Q69. How many type of loop are there in Python?\n",
        "Ans.There are two types of loop in python.\n",
        "In python we have\n",
        "1.for loop:\n",
        "synatx:for i in range(start,stop,step): (no of iteration is fixed)\n",
        "         statement;\n",
        "2.while loop:\n",
        "synatx:while condition: (no of iteration is not fixed)\n",
        "           statement\n",
        "          increment/decrement\n"
      ]
    },
    {
      "cell_type": "code",
      "execution_count": null,
      "metadata": {
        "colab": {
          "base_uri": "https://localhost:8080/"
        },
        "id": "qL9YXIQea-ZE",
        "outputId": "e199af3c-678d-47bb-85f1-7580fc627149"
      },
      "outputs": [
        {
          "name": "stdout",
          "output_type": "stream",
          "text": [
            "1\n",
            "2\n",
            "3\n",
            "4\n",
            "5\n",
            "6\n",
            "7\n",
            "8\n",
            "9\n",
            "10\n",
            "12345678910"
          ]
        }
      ],
      "source": [
        "#Q70. What is the difference between for and while loops?\n",
        "#Ans. In for loop -no of iteration is fixed where as in while loop if we don't know how many iteration will we execuete can use while loop.\n",
        "#printing 1 to 10 using for and while\n",
        "for i in range(1,11):\n",
        "  print(i,end=\"\\n\")\n",
        "i=1\n",
        "while(i<=10):\n",
        "  print(i,end=\"\")\n",
        "  i+=1\n"
      ]
    },
    {
      "cell_type": "code",
      "execution_count": null,
      "metadata": {
        "colab": {
          "base_uri": "https://localhost:8080/"
        },
        "id": "m3kl7IzBd7QR",
        "outputId": "b4963bb8-6480-40ae-b07c-6e44099db7e9"
      },
      "outputs": [
        {
          "name": "stdout",
          "output_type": "stream",
          "text": [
            "1\n",
            "2\n",
            "4\n",
            "5\n"
          ]
        }
      ],
      "source": [
        "#Q71. What is the use of continue statement?\n",
        "#Ans. continue statement is used to skip the current execution for a for and while loop ,continues the next iteration\n",
        "#Example:\n",
        "for i in range(1,6):\n",
        "  if i==3:#skip 3\n",
        "    continue\n",
        "  print(i)\n"
      ]
    },
    {
      "cell_type": "code",
      "execution_count": null,
      "metadata": {
        "colab": {
          "base_uri": "https://localhost:8080/"
        },
        "id": "NgzE8PCbfCgP",
        "outputId": "02ca5b06-7808-4dd9-aea5-5e1b2b29ce3f"
      },
      "outputs": [
        {
          "name": "stdout",
          "output_type": "stream",
          "text": [
            "1\n",
            "2\n"
          ]
        }
      ],
      "source": [
        "#Q72. What is the use of break statement?\n",
        "#Ans. Break is used to stop the execution,terminate the loop and go out of loop.\n",
        "#Example:\n",
        "for i in range(1,6):\n",
        "  if i==3:\n",
        "    break;\n",
        "  print(i)\n"
      ]
    },
    {
      "cell_type": "code",
      "execution_count": null,
      "metadata": {
        "colab": {
          "base_uri": "https://localhost:8080/"
        },
        "id": "MD5nuKsgfuK6",
        "outputId": "c76212fc-77e3-4ffd-a850-fed698f1e438"
      },
      "outputs": [
        {
          "name": "stdout",
          "output_type": "stream",
          "text": [
            "1\n",
            "2\n",
            "3\n",
            "4\n",
            "5\n"
          ]
        }
      ],
      "source": [
        "#Q73. What is the use of pass statement?\n",
        "#Ans.Pass is a null operation and allows execution to continue at the next statement.Return exits the current function or method.\n",
        "#It used for No execution whenever required for not getting any error\n",
        "#Example:\n",
        "for i in range(1,6):\n",
        "  if i==3:\n",
        "    pass; #nothing happened\n",
        "  print(i)\n",
        " \n"
      ]
    },
    {
      "cell_type": "markdown",
      "metadata": {
        "id": "iyvSv47lip1m"
      },
      "source": [
        "#Q74. What is the use of range() function?\n",
        "Ans. The range function returns a sequence of numbers as an output which has three parameter\n",
        "start-bydefault is 0\n",
        "stop-stop value\n",
        "and  step-increment/decrement value\n"
      ]
    },
    {
      "cell_type": "code",
      "execution_count": null,
      "metadata": {
        "colab": {
          "base_uri": "https://localhost:8080/"
        },
        "id": "zw5gv-zIgkRB",
        "outputId": "f53117f5-1558-40f0-948a-b964e2c4fa8d"
      },
      "outputs": [
        {
          "name": "stdout",
          "output_type": "stream",
          "text": [
            "10\n",
            "16\n",
            "22\n",
            "28\n",
            "34\n",
            "40\n",
            "46\n",
            "52\n",
            "58\n",
            "64\n",
            "70\n",
            "76\n",
            "82\n",
            "88\n",
            "94\n",
            "100\n"
          ]
        }
      ],
      "source": [
        "#Example of range()\n",
        "r_exp=range(10,101,6)\n",
        "for i in r_exp:\n",
        "  print(i)"
      ]
    },
    {
      "cell_type": "markdown",
      "metadata": {
        "id": "XNzQ7_iNjIu1"
      },
      "source": [
        "Q75. How can you loop over a dictionary?\n",
        "Ans. dictionary is a collection which is ordered, changeable and do not allow duplicates.we can loop over a dictionary for loop ,with key(),values() and items().\n",
        "\n"
      ]
    },
    {
      "cell_type": "code",
      "execution_count": null,
      "metadata": {
        "colab": {
          "base_uri": "https://localhost:8080/"
        },
        "id": "0uK4sig-i5rp",
        "outputId": "3f1f1e99-9404-4848-f9d1-f4aeb57e8b5f"
      },
      "outputs": [
        {
          "name": "stdout",
          "output_type": "stream",
          "text": [
            "name\n",
            "abeg\n",
            "age\n",
            "22\n",
            "address\n",
            "R2c\n",
            "pin\n",
            "770034\n",
            "identity\n",
            "{'state': 'odisha', 'nationality': 'indian'}\n",
            "name abeg\n",
            "age 22\n",
            "address R2c\n",
            "pin 770034\n",
            "identity {'state': 'odisha', 'nationality': 'indian'}\n"
          ]
        }
      ],
      "source": [
        "#loop over dictionary\n",
        "for i in my_dict:\n",
        "  print(i)#printing all keys\n",
        "  print(my_dict[i])#printing all values\n",
        "for k,v in my_dict.items():\n",
        "  print(k,v)"
      ]
    },
    {
      "cell_type": "code",
      "execution_count": null,
      "metadata": {
        "colab": {
          "base_uri": "https://localhost:8080/"
        },
        "id": "COXBob57kobU",
        "outputId": "c5235200-0aae-4217-949c-e4c94c8c479b"
      },
      "outputs": [
        {
          "name": "stdout",
          "output_type": "stream",
          "text": [
            "Enter the number : 5\n",
            "120\n"
          ]
        }
      ],
      "source": [
        "#Coding problems\n",
        "#Q76. Write a Python program to find the factorial of a given number.\n",
        "from functools import reduce\n",
        "num=int(input(\"Enter the number : \"))\n",
        "fact=lambda a,b:a*b\n",
        "x=reduce(fact,range(1,num+1))\n",
        "print(x)\n",
        "\n"
      ]
    },
    {
      "cell_type": "code",
      "execution_count": null,
      "metadata": {
        "colab": {
          "base_uri": "https://localhost:8080/"
        },
        "id": "O-xP0B2nvIwh",
        "outputId": "94554d98-2033-47eb-89dd-0fcc66692b60"
      },
      "outputs": [
        {
          "name": "stdout",
          "output_type": "stream",
          "text": [
            "enter the principal amount: 2000\n",
            "enter the time eperiod: 3\n",
            "enter the rate of interst: 2\n",
            "simple interest is 120.0\n"
          ]
        }
      ],
      "source": [
        "#Q77. Write a Python program to calculate the simple interest. Formula to calculate simple interest is SI = (P*R*T)/100\n",
        "SI=lambda p,t,r:p*t*r/100\n",
        "p=int(input(\"enter the principal amount: \"))\n",
        "t=int(input(\"enter the time eperiod: \"))\n",
        "r=float(input(\"enter the rate of interst: \"))\n",
        "print(\"simple interest is\",SI(p,t,r))"
      ]
    },
    {
      "cell_type": "code",
      "execution_count": null,
      "metadata": {
        "colab": {
          "base_uri": "https://localhost:8080/"
        },
        "id": "ACHTgXPav-1Z",
        "outputId": "e1e29e0c-3415-46fa-da08-1a74b71d597d"
      },
      "outputs": [
        {
          "name": "stdout",
          "output_type": "stream",
          "text": [
            "enter the principal amount: 1000\n",
            "enter the time eperiod: 2\n",
            "enter the rate of interst: 3\n",
            "compound interest is 60.899999999999864\n"
          ]
        }
      ],
      "source": [
        "#Q78. Write a Python program to calculate the compound interest. Formula of compound interest is A = P(1+ R/100)^t.\n",
        "A=lambda P,R,t:P*(1+ (R/100))**t\n",
        "p=int(input(\"enter the principal amount: \"))\n",
        "t=int(input(\"enter the time eperiod: \"))\n",
        "r=float(input(\"enter the rate of interst: \"))\n",
        "print(\"compound interest is\",A(p,r,t)-p)"
      ]
    },
    {
      "cell_type": "code",
      "execution_count": null,
      "metadata": {
        "colab": {
          "base_uri": "https://localhost:8080/"
        },
        "id": "a9V3iq4exv0x",
        "outputId": "f0b3c71e-76d0-44e6-e383-d864f6f2958a"
      },
      "outputs": [
        {
          "name": "stdout",
          "output_type": "stream",
          "text": [
            "0\n",
            "The number 0 is not a prime no\n"
          ]
        }
      ],
      "source": [
        "#Q79. Write a Python program to check if a number is prime or not.\n",
        "num=int(input(\"enter a number\"))\n",
        "if num > 1:\n",
        "    for i in range(2, num):\n",
        "        if (num % i) == 0:\n",
        "            print(\"The number {} is not a prime no\".format(num))\n",
        "            break;\n",
        "    else:\n",
        "        print(\"The number {} is a prime no\".format(num))\n",
        "else:\n",
        "  print(\"The number {} is not a prime no\".format(num))\n"
      ]
    },
    {
      "cell_type": "code",
      "execution_count": null,
      "metadata": {
        "colab": {
          "base_uri": "https://localhost:8080/"
        },
        "id": "il9fG7cZ0v8v",
        "outputId": "1169ad30-91a7-45c1-f284-c5706e33e0b8"
      },
      "outputs": [
        {
          "name": "stdout",
          "output_type": "stream",
          "text": [
            "enter a number371\n",
            "371 is an armstrong no\n"
          ]
        }
      ],
      "source": [
        "#Q80. Write a Python program to check Armstrong Number.\n",
        "num=temp=int(input(\"enter a number\"))\n",
        "sum=0\n",
        "while (temp>0):\n",
        "  d=temp%10\n",
        "  sum=sum+d**3\n",
        "  temp//=10\n",
        "if(num==sum):\n",
        "  print(num,\"is an armstrong no\")\n",
        "else:\n",
        "  print(num,\"is not an armstrong no\")\n",
        "\n"
      ]
    },
    {
      "cell_type": "code",
      "execution_count": null,
      "metadata": {
        "colab": {
          "base_uri": "https://localhost:8080/"
        },
        "id": "6bqACU1o3mM0",
        "outputId": "942f85ec-d736-4236-d529-bf1b2006c134"
      },
      "outputs": [
        {
          "name": "stdout",
          "output_type": "stream",
          "text": [
            "enter the no.12\n",
            "nth fibonancci no is :  144\n"
          ]
        }
      ],
      "source": [
        "#Q81. Write a Python program to find the n-th Fibonacci Number.\n",
        "def fibo(n):\n",
        "  a=0\n",
        "  b=1\n",
        "  if n<0:\n",
        "    print(\"input is incorrect\")\n",
        "  elif n==0:\n",
        "    return a\n",
        "  elif n==1:\n",
        "    return b\n",
        "  else:\n",
        "    for i in range(2,n+1):\n",
        "      c = a+b\n",
        "      a = b\n",
        "      b = c\n",
        "    return c\n",
        "n=int(input(\"enter the no.\"))\n",
        "print(\"nth fibonancci no is : \",fibo(n))"
      ]
    },
    {
      "cell_type": "code",
      "execution_count": null,
      "metadata": {
        "colab": {
          "base_uri": "https://localhost:8080/"
        },
        "id": "RJNoM1ag4m-A",
        "outputId": "4f04fccc-5f23-4f36-8f00-12dcabe833e4"
      },
      "outputs": [
        {
          "data": {
            "text/plain": [
              "[6, 2, 3, 4, 5, 1]"
            ]
          },
          "execution_count": 90,
          "metadata": {},
          "output_type": "execute_result"
        }
      ],
      "source": [
        "#Q82. Write a Python program to interchange the first and last element in a list.\n",
        "my_list=[1,2,3,4,5,6]\n",
        "my_list[0],my_list[-1] = my_list[-1],my_list[0]\n",
        "my_list"
      ]
    },
    {
      "cell_type": "code",
      "execution_count": null,
      "metadata": {
        "colab": {
          "base_uri": "https://localhost:8080/"
        },
        "id": "FBBRStVQcRPp",
        "outputId": "fb82b31f-3cc7-4e5c-93c4-84f5840c18c9"
      },
      "outputs": [
        {
          "data": {
            "text/plain": [
              "[6, 2, 3, 4, 5, 1]"
            ]
          },
          "execution_count": 92,
          "metadata": {},
          "output_type": "execute_result"
        }
      ],
      "source": [
        "n=len(my_list)\n",
        "temp=my_list[0]\n",
        "my_list[0]=my_list[n-1]\n",
        "my_list[n-1]=temp\n",
        "my_list"
      ]
    },
    {
      "cell_type": "code",
      "execution_count": null,
      "metadata": {
        "colab": {
          "base_uri": "https://localhost:8080/"
        },
        "id": "337BBUoBdhZp",
        "outputId": "5dcde364-7054-4b0b-fbfe-bab262f31c48"
      },
      "outputs": [
        {
          "name": "stdout",
          "output_type": "stream",
          "text": [
            "enter the postion from1\n",
            "eneter the position to5\n",
            "[5, 2, 3, 4, 1]\n"
          ]
        }
      ],
      "source": [
        "#Q83. Write a Python program to swap two elements in a list.\n",
        " #sawpping pos1\n",
        "n=int(input('enter the postion from'))\n",
        "n1=int(input('eneter the position to'))\n",
        "my_list=[1,2,3,4,5]\n",
        "#swapping of two elements \n",
        "my_list[n-1],my_list[n1-1]=my_list[n1-1],my_list[n-1]\n",
        "print(my_list)\n",
        "\n",
        "\n"
      ]
    },
    {
      "cell_type": "code",
      "execution_count": null,
      "metadata": {
        "colab": {
          "base_uri": "https://localhost:8080/"
        },
        "id": "jTYYvvO0p01l",
        "outputId": "59f24b6d-b484-4dde-9ae3-af086fc3573c"
      },
      "outputs": [
        {
          "name": "stdout",
          "output_type": "stream",
          "text": [
            "101,34,5,678,463,846,756\n",
            "[101, 34, 5, 678, 463, 846, 756]\n",
            "the largest element is 846\n"
          ]
        }
      ],
      "source": [
        "#Q84. Write a Python program to find N largest element from a list.\n",
        "#max(my_list)\n",
        "def Findlarge(my_list):\n",
        " max=my_list[0]\n",
        " for i in range(len(my_list)):\n",
        "   if my_list[i]>max:            \n",
        "     max=my_list[i]\n",
        " return max\n",
        "\n",
        "\n",
        "my_list = list(map(int,input().split(\",\")))\n",
        "print(my_list)\n",
        "print(\"the largest element is\",Findlarge(my_list))"
      ]
    },
    {
      "cell_type": "code",
      "execution_count": null,
      "metadata": {
        "colab": {
          "base_uri": "https://localhost:8080/"
        },
        "id": "ms9ZygFBrR1D",
        "outputId": "17ed61a1-bb27-48e3-aec4-5ba66d53f00a"
      },
      "outputs": [
        {
          "name": "stdout",
          "output_type": "stream",
          "text": [
            "The cumulative sum of the given list is [50, 150, 350, 650]\n"
          ]
        }
      ],
      "source": [
        "#Q85. Write a Python program to find cumulative sum of a list.\n",
        "\n",
        "def findcumsum(my_list):\n",
        "  cumlist=[]\n",
        "  sum=0\n",
        "  for i in my_list:\n",
        "    sum+=i\n",
        "    cumlist.append(sum)\n",
        "  return cumlist\n",
        "  \n",
        "\n",
        "my_list=[50,100,200,300]\n",
        "print(\"The cumulative sum of the given list is\",findcumsum(my_list))"
      ]
    },
    {
      "cell_type": "code",
      "execution_count": null,
      "metadata": {
        "colab": {
          "base_uri": "https://localhost:8080/"
        },
        "id": "kw-BcNnDu-VT",
        "outputId": "52476ce1-80f4-4ef6-b47a-898144948b6f"
      },
      "outputs": [
        {
          "name": "stdout",
          "output_type": "stream",
          "text": [
            "enter the number121\n",
            "121\n",
            "The No is pallindrome\n"
          ]
        }
      ],
      "source": [
        "#Q86. Write a Python program to check if a string is palindrome or not.\n",
        "def Findpallindrome(n):\n",
        "  temp=n\n",
        "  r=0\n",
        "  while(n>0):\n",
        "    d=n%10\n",
        "    r=r*10+d\n",
        "    n=n//10\n",
        "  print(r)\n",
        "  if(temp==r):\n",
        "    flag=True\n",
        "  else:\n",
        "    flag=False\n",
        "  return flag\n",
        "num=int(input(\"enter the number\"))\n",
        "if(Findpallindrome(num)):\n",
        "  print(\"The No is pallindrome\")\n",
        "else:\n",
        "  print(\"The No is not a pallindrome\")"
      ]
    },
    {
      "cell_type": "code",
      "execution_count": null,
      "metadata": {
        "colab": {
          "base_uri": "https://localhost:8080/"
        },
        "id": "eO3vr3cJgXal",
        "outputId": "1f8a62e1-b024-4d94-fc9e-cf633c9f91e0"
      },
      "outputs": [
        {
          "name": "stdout",
          "output_type": "stream",
          "text": [
            "eneter the stringabegpatel\n",
            "enter the index you want to remove5\n",
            "After removal the string is  abegptel\n"
          ]
        }
      ],
      "source": [
        "#Q87. Write a Python program to remove i'th element from a string.\n",
        "def RemoveIelement(mystring,i):\n",
        "  bef_eles=mystring[:i]\n",
        "  aft_eles=mystring[i+1:]\n",
        "  return bef_eles+aft_eles\n",
        "\n",
        "mystring=input(\"eneter the string\")\n",
        "i=int(input(\"enter the index you want to remove\"))\n",
        "print(\"After removal the string is \",RemoveIelement(mystring,i))\n"
      ]
    },
    {
      "cell_type": "code",
      "execution_count": null,
      "metadata": {
        "colab": {
          "base_uri": "https://localhost:8080/"
        },
        "id": "2wjc3x1Yh2LJ",
        "outputId": "7baa723a-21fc-4c43-eb7c-5c7803c940b9"
      },
      "outputs": [
        {
          "name": "stdout",
          "output_type": "stream",
          "text": [
            "Enter the stringsftpbudgdk\n",
            "enter the sub strpbud\n",
            "3\n",
            "The  pbud  is a part of  sftpbudgdk\n"
          ]
        }
      ],
      "source": [
        "#Q88.\n",
        "def FindSubstr(mystring,substr):\n",
        "  return mystring.find(substr)\n",
        "\n",
        "\n",
        "mystring = input(\"Enter the string\")\n",
        "substr = input(\"enter the sub str\")\n",
        "print(FindSubstr(mystring,substr))\n",
        "if(FindSubstr(mystring,substr)):\n",
        "  print(\"The \",substr,\" is a part of \",mystring)\n",
        "else:\n",
        "  print(\"The \",substr,\" is NOT a part of \",mystring)"
      ]
    },
    {
      "cell_type": "code",
      "execution_count": null,
      "metadata": {
        "colab": {
          "base_uri": "https://localhost:8080/"
        },
        "id": "zUN7anSi8lLz",
        "outputId": "fc48b2c8-d51f-40a8-b79c-fbb6b49b3820"
      },
      "outputs": [
        {
          "name": "stdout",
          "output_type": "stream",
          "text": [
            "Enter the string how are you man have a good day\n",
            "Enter the k value 3\n",
            "3 length greater words are\n",
            "have\n",
            "good\n"
          ]
        }
      ],
      "source": [
        "#Q89. Write a Python program to find words which are greater than given length k.\n",
        "def LenkGreater(mystring,k):\n",
        "  mylist=[]\n",
        "  words=mystring.split()\n",
        "  for i in words:\n",
        "    if(len(i)>k):\n",
        "      mylist.append(i)\n",
        "  return mylist\n",
        " \n",
        "\n",
        "mystring = input(\"Enter the string \")\n",
        "k=int(input(\"Enter the k value \"))\n",
        "print(k ,\"length greater words are : \")\n",
        "for i in LenkGreater(mystring,k):\n",
        "  print(i)"
      ]
    },
    {
      "cell_type": "code",
      "execution_count": null,
      "metadata": {
        "colab": {
          "base_uri": "https://localhost:8080/"
        },
        "id": "0c_664Ws_4u1",
        "outputId": "09135bfb-879c-4bb8-a30b-793a462d8dca"
      },
      "outputs": [
        {
          "name": "stdout",
          "output_type": "stream",
          "text": [
            "{'list1': [1, 2, 3, 4, 5], 'list2': [2, 3, 6, 9, 1], 'list3': [9, 4, 0, 7, 1]}\n",
            "Unique values are : \n",
            "0\n",
            "1\n",
            "2\n",
            "3\n",
            "4\n",
            "5\n",
            "6\n",
            "7\n",
            "9\n"
          ]
        }
      ],
      "source": [
        "#Q90. Write a Python program to extract unquire dictionary values.\n",
        "def ExtractUnique(mydict):\n",
        "  myset=set()\n",
        "  for i in mydict.values():\n",
        "    for j in i:\n",
        "      myset.add(j)\n",
        "  return myset\n",
        "\n",
        "\n",
        "mydict = {\n",
        "    \"list1\":[1,2,3,4,5],\n",
        "    \"list2\":[2,3,6,9,1],\n",
        "    \"list3\":[9,4,0,7,1]\n",
        "}\n",
        "print(mydict)\n",
        "print(\"Unique values are : \")\n",
        "for i in ExtractUnique(mydict):\n",
        "  print(i)"
      ]
    },
    {
      "cell_type": "code",
      "execution_count": null,
      "metadata": {
        "colab": {
          "base_uri": "https://localhost:8080/"
        },
        "id": "OvZUXRCmJH3n",
        "outputId": "c9133252-8eb5-4b54-a54c-b3909dbc7417"
      },
      "outputs": [
        {
          "output_type": "stream",
          "name": "stdout",
          "text": [
            "{'name': 'abeg', 'age': 22}\n",
            "{'email': 'abegpatel@gmail.com', 'pin': 770034}\n",
            "{'name': 'abeg', 'age': 22, 'email': 'abegpatel@gmail.com', 'pin': 770034}\n"
          ]
        }
      ],
      "source": [
        "#Q91. Write a Python program to merge two dictionary.\n",
        "dict1={\"name\":\"abeg\",\"age\":22}\n",
        "dict2={\"email\":\"abegpatel@gmail.com\",\"pin\":770034}\n",
        "print(dict1)\n",
        "print(dict2)\n",
        "dict1.update(dict2)\n",
        "print(dict1)"
      ]
    },
    {
      "cell_type": "code",
      "execution_count": null,
      "metadata": {
        "colab": {
          "base_uri": "https://localhost:8080/"
        },
        "id": "v9cCoHqQEuqb",
        "outputId": "e80cbd0e-5c94-4535-e443-478a75def4b2"
      },
      "outputs": [
        {
          "output_type": "stream",
          "name": "stdout",
          "text": [
            "The output is  {'Sachin': 10, 'MSD': 7, 'Kohli': 18, 'Rohit': 45}\n"
          ]
        }
      ],
      "source": [
        "#Q92. Write a Python program to convert a list of tuples into dictionary.\n",
        "\"\"\"\n",
        "Input : [('Sachin', 10), ('MSD', 7), ('Kohli', 18), ('Rohit', 45)]\n",
        "Output : {'Sachin': 10, 'MSD': 7, 'Kohli': 18, 'Rohit': 45}\n",
        "\"\"\"\n",
        "\n",
        "def OutFunc(input):\n",
        "  return dict(input)\n",
        "\n",
        "input=[('Sachin', 10), ('MSD', 7), ('Kohli', 18), ('Rohit', 45)]\n",
        "print(\"The output is \",OutFunc(input))"
      ]
    },
    {
      "cell_type": "code",
      "source": [
        "#Q93. Write a Python program to create a list of tuples from given list having number and its cube in each tuple.\n",
        "\n",
        "\"\"\"\n",
        "Input: list = [9, 5, 6]\n",
        "Output: [(9, 729), (5, 125), (6, 216)]\n",
        "\"\"\"\n",
        "list1 = [9, 5, 6]\n",
        "cube_No=lambda x:x**3\n",
        "x= map(cube_No,list1)\n",
        "output=[(i,j) for i in list1 for j in x]\n",
        "print(output)\n"
      ],
      "metadata": {
        "id": "fn4PdYKPKGCL",
        "colab": {
          "base_uri": "https://localhost:8080/"
        },
        "outputId": "45f02800-47df-42c6-c1fa-e29c8d706440"
      },
      "execution_count": null,
      "outputs": [
        {
          "output_type": "stream",
          "name": "stdout",
          "text": [
            "[(9, 729), (9, 125), (9, 216)]\n"
          ]
        }
      ]
    },
    {
      "cell_type": "code",
      "source": [
        "#Q94. Write a Python program to get all combinations of 2 tuples.\n",
        "\"\"\"\n",
        "Input : test_tuple1 = (7, 2), test_tuple2 = (7, 8)\n",
        "Output : [(7, 7), (7, 8), (2, 7), (2, 8), (7, 7), (7, 2), (8, 7), (8, 2)]\n",
        "\"\"\"\n",
        "test_tuple1 = (7, 2)\n",
        "test_tuple2 = (7, 8)\n",
        "output=[(i,j) for i in test_tuple1 for j in test_tuple2] + [(j,i) for i in test_tuple1 for j in test_tuple2]\n",
        "print(output)\n",
        "    \n"
      ],
      "metadata": {
        "id": "E7VDqMMsOOA9",
        "colab": {
          "base_uri": "https://localhost:8080/"
        },
        "outputId": "ba278781-d833-4a90-9a38-9df7dbb7708a"
      },
      "execution_count": null,
      "outputs": [
        {
          "output_type": "stream",
          "name": "stdout",
          "text": [
            "[(7, 7), (7, 8), (2, 7), (2, 8), (7, 7), (8, 7), (7, 2), (8, 2)]\n"
          ]
        }
      ]
    },
    {
      "cell_type": "code",
      "source": [
        "#Q95. Write a Python program to sort a list of tuples by second item.\n",
        "\"\"\"\n",
        "Input : [('for', 24), ('Geeks', 8), ('Geeks', 30)] \n",
        "Output : [('Geeks', 8), ('for', 24), ('Geeks', 30)]\n",
        "\"\"\"\n",
        "Input = [('for', 24), ('Geeks', 8), ('Geeks', 30)] \n",
        "Input.sort(key=lambda x:x[1])\n",
        "print(Input)\n"
      ],
      "metadata": {
        "colab": {
          "base_uri": "https://localhost:8080/"
        },
        "id": "PofcdteAaXIt",
        "outputId": "1a192ddd-f64c-45d3-85a9-80a1c711feaa"
      },
      "execution_count": null,
      "outputs": [
        {
          "output_type": "stream",
          "name": "stdout",
          "text": [
            "[('Geeks', 8), ('for', 24), ('Geeks', 30)]\n"
          ]
        }
      ]
    },
    {
      "cell_type": "code",
      "source": [
        "#Q96. Write a python program to print below pattern.\n",
        "\"\"\"\n",
        "* \n",
        "* * \n",
        "* * * \n",
        "* * * * \n",
        "* * * * * \n",
        "\"\"\"\n",
        "r=int(input(\"enter the no of rows\"))\n",
        "for i in range(0,r):\n",
        "  for j in range(0,i+1):\n",
        "    print(\"*\",end=\"\")\n",
        "  print(\"\\r\")"
      ],
      "metadata": {
        "colab": {
          "base_uri": "https://localhost:8080/"
        },
        "id": "SwuYS8-1bwY2",
        "outputId": "18fbdf91-d4d0-4f12-86e2-202cc10c6668"
      },
      "execution_count": null,
      "outputs": [
        {
          "output_type": "stream",
          "name": "stdout",
          "text": [
            "enter the no of rows5\n",
            "*\n",
            "**\n",
            "***\n",
            "****\n",
            "*****\n"
          ]
        }
      ]
    },
    {
      "cell_type": "code",
      "source": [
        "#Q97. Write a python program to print below pattern.\n",
        "\"\"\"\n",
        "    *\n",
        "   **\n",
        "  ***\n",
        " ****\n",
        "*****\n",
        "\"\"\"\n",
        "r=int(input(\"enter the no of rows\"))\n",
        "for i in range(r+1):\n",
        "  print(\" \" * (r-i) + \"*\" * i )"
      ],
      "metadata": {
        "colab": {
          "base_uri": "https://localhost:8080/"
        },
        "id": "z8-uRf1Fd2GE",
        "outputId": "8522b9d5-2381-459a-deb9-023446740eac"
      },
      "execution_count": null,
      "outputs": [
        {
          "output_type": "stream",
          "name": "stdout",
          "text": [
            "enter the no of rows5\n",
            "     \n",
            "    *\n",
            "   **\n",
            "  ***\n",
            " ****\n",
            "*****\n"
          ]
        }
      ]
    },
    {
      "cell_type": "code",
      "source": [
        "#Q98. Write a python program to print below pattern.\n",
        "\"\"\"\n",
        "    * \n",
        "   * * \n",
        "  * * * \n",
        " * * * * \n",
        "* * * * * \n",
        "\"\"\"\n",
        "def pattern(n):\n",
        "  sp = n - 1\n",
        "  for i in range(0, n):\n",
        "    for j in range(0, sp):\n",
        "          print(end=\" \")\n",
        "    sp = sp - 1\n",
        "    for _ in range(0, i+1):\n",
        "      print(\"* \", end=\"\")\n",
        "    print(\"\\r\")\n",
        "print(pattern(5))\n"
      ],
      "metadata": {
        "id": "AK64JPsVfbwh",
        "colab": {
          "base_uri": "https://localhost:8080/"
        },
        "outputId": "9c0ff7de-1dc5-4170-cd4f-256f2d3cbc3d"
      },
      "execution_count": null,
      "outputs": [
        {
          "output_type": "stream",
          "name": "stdout",
          "text": [
            "    * \r\n",
            "   * * \r\n",
            "  * * * \r\n",
            " * * * * \r\n",
            "* * * * * \r\n",
            "None\n"
          ]
        }
      ]
    },
    {
      "cell_type": "code",
      "source": [
        "#Q99. Write a python program to print below pattern.\n",
        "\"\"\"\n",
        "1 \n",
        "1 2 \n",
        "1 2 3 \n",
        "1 2 3 4 \n",
        "1 2 3 4 5\n",
        "\"\"\"\n",
        "\n",
        "n=int(input(\"enter the no of row\"))\n",
        "for i in range(1,n+1):\n",
        "  for j in range(1,i+1):\n",
        "    print(j,end=\"\")\n",
        "  print('\\r')\n"
      ],
      "metadata": {
        "id": "_gqB1E0_BYQO",
        "colab": {
          "base_uri": "https://localhost:8080/"
        },
        "outputId": "1ab74c91-04ea-4063-9f14-322d04bac811"
      },
      "execution_count": 7,
      "outputs": [
        {
          "output_type": "stream",
          "name": "stdout",
          "text": [
            "enter the no of row5\n",
            "1\n",
            "12\n",
            "123\n",
            "1234\n",
            "12345\n"
          ]
        }
      ]
    },
    {
      "cell_type": "code",
      "source": [
        "#Q100. Write a python program to print below pattern.\n",
        "\"\"\"\n",
        "A \n",
        "B B \n",
        "C C C \n",
        "D D D D \n",
        "E E E E E \n",
        "\"\"\"\n",
        "n=int(input(\"enter the no of row\"))\n",
        "A=65\n",
        "for i in range(1,n+1):\n",
        "  for j in range(1,i+1):\n",
        "    print(\"%c\" %(A),end=\"\")\n",
        "  A+=1\n",
        "  print('\\r')"
      ],
      "metadata": {
        "colab": {
          "base_uri": "https://localhost:8080/"
        },
        "id": "fn4NGEmCprBj",
        "outputId": "3ffb4913-294a-496c-fa71-2d0fc1dfcefe"
      },
      "execution_count": null,
      "outputs": [
        {
          "output_type": "stream",
          "name": "stdout",
          "text": [
            "enter the no of row5\n",
            "A\n",
            "BB\n",
            "CCC\n",
            "DDDD\n",
            "EEEEE\n"
          ]
        }
      ]
    },
    {
      "cell_type": "code",
      "source": [],
      "metadata": {
        "id": "J84cHJ6fq68u"
      },
      "execution_count": 5,
      "outputs": []
    },
    {
      "cell_type": "code",
      "source": [],
      "metadata": {
        "id": "ffVFfMgtrHGc"
      },
      "execution_count": null,
      "outputs": []
    }
  ],
  "metadata": {
    "colab": {
      "collapsed_sections": [
        "HqIFD-sZZBck"
      ],
      "provenance": []
    },
    "kernelspec": {
      "display_name": "Python 3",
      "name": "python3"
    },
    "language_info": {
      "name": "python"
    }
  },
  "nbformat": 4,
  "nbformat_minor": 0
}