{
 "cells": [
  {
   "cell_type": "markdown",
   "metadata": {},
   "source": [
    "# Python Programming Basic Assignment 13"
   ]
  },
  {
   "cell_type": "markdown",
   "metadata": {},
   "source": [
    "\n",
    "### 1. Write a program that calculates and prints the value according to the given formula:\n",
    "Q = Square root of [(2 C D)/H]\n",
    "\n",
    "Following are the fixed values of C and H:\n",
    "\n",
    "C is 50. H is 30.\n",
    "\n",
    "D is the variable whose values should be input to your program in a comma-separated sequence.\n",
    "\n",
    "Example\n",
    "\n",
    "Let us assume the following comma separated input sequence is given to the program:\n",
    "\n",
    "100,150,180\n",
    "\n",
    "The output of the program should be:\n",
    "\n",
    "18,22,24"
   ]
  },
  {
   "cell_type": "code",
   "execution_count": 6,
   "metadata": {},
   "outputs": [
    {
     "name": "stdout",
     "output_type": "stream",
     "text": [
      "100,150,180\n",
      "18 22 24\n"
     ]
    }
   ],
   "source": [
    "import math\n",
    "def Find(my_list,C,H):\n",
    "    result_rs=[]\n",
    "    for D in my_list:\n",
    "        Q=round(math.sqrt((2*C*D)/H))\n",
    "        result_rs.append(Q)\n",
    "    return result_rs\n",
    "        \n",
    "    \n",
    "    \n",
    "arr=list(map(int,input().split(',')))\n",
    "C,H=50,30\n",
    "res=Find(arr,C,H)\n",
    "string=' '.join([str(i) for i in res])\n",
    "print(string)"
   ]
  },
  {
   "cell_type": "markdown",
   "metadata": {},
   "source": [
    "### 2. Write a program which takes 2 digits, X,Y as input and generates a 2-dimensional array. The element value in the i-th row and j-th column of the array should be i*j."
   ]
  },
  {
   "cell_type": "code",
   "execution_count": 13,
   "metadata": {},
   "outputs": [
    {
     "name": "stdout",
     "output_type": "stream",
     "text": [
      "Enter the row Size: 4\n",
      "Enter the column Size: 4\n",
      "[[0, 0, 0, 0], [0, 0, 0, 0], [0, 0, 0, 0], [0, 0, 0, 0]]\n",
      "[[0, 0, 0, 0], [0, 1, 2, 3], [0, 2, 4, 6], [0, 3, 6, 9]]\n"
     ]
    }
   ],
   "source": [
    "def make_2D(X,rs,cs):\n",
    "    for row in range(rs):\n",
    "        for col in range(cs):\n",
    "            X[row][col]=row*col\n",
    "    return X\n",
    "            \n",
    "    \n",
    "row=int(input(\"Enter the row Size: \"))\n",
    "col=int(input(\"Enter the column Size: \"))\n",
    "multi_list = [[0 for col in range(col)] for row in range(row)]\n",
    "print(multi_list)\n",
    "print(make_2D(multi_list,row,col))\n"
   ]
  },
  {
   "cell_type": "markdown",
   "metadata": {},
   "source": [
    "### 3. Write a program that accepts a comma separated sequence of words as input and prints the words in a comma-separated sequence after sorting them alphabetically."
   ]
  },
  {
   "cell_type": "code",
   "execution_count": 35,
   "metadata": {},
   "outputs": [
    {
     "name": "stdout",
     "output_type": "stream",
     "text": [
      "Hi!,My,Name,is,Abeg,Patel\n",
      "Sorted String is  Abeg,Hi!,My,Name,Patel,is\n"
     ]
    }
   ],
   "source": [
    "string=list(map(str,input().split(\",\")))\n",
    "lst=[]\n",
    "for i in sorted(string):\n",
    "    lst.append(i)\n",
    "res=','.join([str(i) for i in lst])\n",
    "print(\"Sorted String is \",res)"
   ]
  },
  {
   "cell_type": "markdown",
   "metadata": {},
   "source": [
    "### 4. Write a program that accepts a sequence of whitespace separated words as input and prints the words after removing all duplicate words and sorting them alphanumerically."
   ]
  },
  {
   "cell_type": "code",
   "execution_count": 45,
   "metadata": {},
   "outputs": [
    {
     "name": "stdout",
     "output_type": "stream",
     "text": [
      "Input is : rat cat bat ate mat\n",
      "Output is :  ate bat cat mat rat\n"
     ]
    }
   ],
   "source": [
    "def RDW(stringwsp):\n",
    "    RDW=list(set(stringwsp))\n",
    "    RDW.sort()\n",
    "    res=' '.join([str(i) for i in RDW])\n",
    "    return res\n",
    "    \n",
    "stringwsp=list(map(str,input(\"Input is : \").split()))\n",
    "print(\"Output is : \",RDW(stringwsp))"
   ]
  },
  {
   "cell_type": "markdown",
   "metadata": {},
   "source": [
    "### 5. Write a program that accepts a sentence and calculate the number of letters and digits."
   ]
  },
  {
   "cell_type": "code",
   "execution_count": 2,
   "metadata": {},
   "outputs": [
    {
     "name": "stdout",
     "output_type": "stream",
     "text": [
      "Enter the sentences: Abeg123@voel55Patel\n",
      "No of Digit is  5\n",
      "No of Letter is  13\n"
     ]
    }
   ],
   "source": [
    "def NLD(new_str):\n",
    "    d,l=0,0\n",
    "    for i in new_str:\n",
    "        if i.isdigit():\n",
    "            d+=1\n",
    "        if i.isalpha():\n",
    "            l+=1\n",
    "    return d,l\n",
    "\n",
    "\n",
    "new_str=input(\"Enter the sentences: \")\n",
    "print(\"No of Digit is \",NLD(new_str)[0])\n",
    "print(\"No of Letter is \",NLD(new_str)[1])"
   ]
  },
  {
   "cell_type": "markdown",
   "metadata": {},
   "source": [
    "### 6. A website requires the users to input username and password to register. Write a program to check the validity of password input by users."
   ]
  },
  {
   "cell_type": "code",
   "execution_count": 6,
   "metadata": {},
   "outputs": [],
   "source": [
    "import pandas as pd\n",
    "database=pd.DataFrame(data=columns='Username Dob Email Password'.split())"
   ]
  },
  {
   "cell_type": "code",
   "execution_count": 17,
   "metadata": {},
   "outputs": [
    {
     "name": "stdout",
     "output_type": "stream",
     "text": [
      "Please Enter your User name :abeg\n",
      "Please enter your DOB in yyyy-mm-dd :2000-05-09\n",
      "Please enter your Email : a@gmail.com\n",
      "Please enter your Password :Runal@354\n",
      "Registration Successful\n"
     ]
    }
   ],
   "source": [
    "import pandas as pd\n",
    "import re\n",
    "def Register():\n",
    "    my_ls=[]\n",
    "    name=input(\"Please Enter your User name :\")\n",
    "    my_ls.append(name)\n",
    "    DOB=input(\"Please enter your DOB in yyyy-mm-dd :\") \n",
    "    my_ls.append(DOB)\n",
    "    while True:\n",
    "        Email=input(\"Please enter your Email : \")\n",
    "        emailres=isValid(Email)\n",
    "        if emailres==False:\n",
    "            print(\"Please Enter a valid email\")\n",
    "            continue;\n",
    "        else:\n",
    "            my_ls.append(Email)\n",
    "            break;\n",
    "    while True:\n",
    "        Password=input(\"Please enter your Password :\")\n",
    "        passres=password_check(Password)\n",
    "        if passres==False:\n",
    "            print(\"Please enter a valid password\")\n",
    "            continue;\n",
    "        else:\n",
    "            my_ls.append(Password)\n",
    "            break;\n",
    "        \n",
    "    return \"Registration Successful\",my_ls\n",
    "\n",
    "def isValid(email):\n",
    "    regex = re.compile(r'([A-Za-z0-9]+[.-_])*[A-Za-z0-9]+@[A-Za-z0-9-]+(\\.[A-Z|a-z]{2,})+')\n",
    "    if re.fullmatch(regex, email):\n",
    "        return True\n",
    "    else:\n",
    "        return False\n",
    "    \n",
    "def password_check(passwd):\n",
    "    SpecialSym =['$', '@', '#', '%','_']\n",
    "    val = True\n",
    "    if len(passwd) < 6:\n",
    "        print('length should be at least 6')\n",
    "        val = False\n",
    "    if len(passwd) > 20:\n",
    "        print('length should be not be greater than 8')\n",
    "        val = False\n",
    "    if not any(char.isdigit() for char in passwd):\n",
    "        print('Password should have at least one numeral')\n",
    "        val = False\n",
    "    if not any(char.isupper() for char in passwd):\n",
    "        print('Password should have at least one uppercase letter')\n",
    "        val = False\n",
    "    if not any(char.islower() for char in passwd):\n",
    "        print('Password should have at least one lowercase letter')\n",
    "        val = False\n",
    "    if not any(char in SpecialSym for char in passwd):\n",
    "        print('Password should have at least one of the symbols $@#')\n",
    "        val = False\n",
    "    if val:\n",
    "        return val\n",
    "\n",
    "    \n",
    "  \n",
    "    \n",
    "#main\n",
    "#signup\n",
    "R_user=Register()\n",
    "print(R_user[0])"
   ]
  },
  {
   "cell_type": "code",
   "execution_count": 13,
   "metadata": {},
   "outputs": [],
   "source": [
    "My_list=[]\n",
    "def database(Info_list):\n",
    "    global My_list\n",
    "    My_list.append(Info_list)\n",
    "    print(My_list)\n",
    "    database=pd.DataFrame(data=My_list,columns=['Username','Dob','Email','Password'],)\n",
    "    return database"
   ]
  },
  {
   "cell_type": "code",
   "execution_count": 18,
   "metadata": {},
   "outputs": [
    {
     "name": "stdout",
     "output_type": "stream",
     "text": [
      "[['ashus', '2003-06-24', 'ashus@gmail.com', 'Ashus@123'], ['abeg', '2000-05-09', 'a@gmail.com', 'Runal@354']]\n"
     ]
    },
    {
     "data": {
      "text/html": [
       "<div>\n",
       "<style scoped>\n",
       "    .dataframe tbody tr th:only-of-type {\n",
       "        vertical-align: middle;\n",
       "    }\n",
       "\n",
       "    .dataframe tbody tr th {\n",
       "        vertical-align: top;\n",
       "    }\n",
       "\n",
       "    .dataframe thead th {\n",
       "        text-align: right;\n",
       "    }\n",
       "</style>\n",
       "<table border=\"1\" class=\"dataframe\">\n",
       "  <thead>\n",
       "    <tr style=\"text-align: right;\">\n",
       "      <th></th>\n",
       "      <th>Username</th>\n",
       "      <th>Dob</th>\n",
       "      <th>Email</th>\n",
       "      <th>Password</th>\n",
       "    </tr>\n",
       "  </thead>\n",
       "  <tbody>\n",
       "    <tr>\n",
       "      <th>0</th>\n",
       "      <td>ashus</td>\n",
       "      <td>2003-06-24</td>\n",
       "      <td>ashus@gmail.com</td>\n",
       "      <td>Ashus@123</td>\n",
       "    </tr>\n",
       "    <tr>\n",
       "      <th>1</th>\n",
       "      <td>abeg</td>\n",
       "      <td>2000-05-09</td>\n",
       "      <td>a@gmail.com</td>\n",
       "      <td>Runal@354</td>\n",
       "    </tr>\n",
       "  </tbody>\n",
       "</table>\n",
       "</div>"
      ],
      "text/plain": [
       "  Username         Dob            Email   Password\n",
       "0    ashus  2003-06-24  ashus@gmail.com  Ashus@123\n",
       "1     abeg  2000-05-09      a@gmail.com  Runal@354"
      ]
     },
     "execution_count": 18,
     "metadata": {},
     "output_type": "execute_result"
    }
   ],
   "source": [
    "database(R_user[1])"
   ]
  },
  {
   "cell_type": "code",
   "execution_count": 59,
   "metadata": {},
   "outputs": [],
   "source": [
    "df_UserList=pd.DataFrame(data=My_list,columns='Username Dob Email Password'.split())"
   ]
  },
  {
   "cell_type": "code",
   "execution_count": 60,
   "metadata": {},
   "outputs": [
    {
     "data": {
      "text/html": [
       "<div>\n",
       "<style scoped>\n",
       "    .dataframe tbody tr th:only-of-type {\n",
       "        vertical-align: middle;\n",
       "    }\n",
       "\n",
       "    .dataframe tbody tr th {\n",
       "        vertical-align: top;\n",
       "    }\n",
       "\n",
       "    .dataframe thead th {\n",
       "        text-align: right;\n",
       "    }\n",
       "</style>\n",
       "<table border=\"1\" class=\"dataframe\">\n",
       "  <thead>\n",
       "    <tr style=\"text-align: right;\">\n",
       "      <th></th>\n",
       "      <th>Username</th>\n",
       "      <th>Dob</th>\n",
       "      <th>Email</th>\n",
       "      <th>Password</th>\n",
       "    </tr>\n",
       "  </thead>\n",
       "  <tbody>\n",
       "    <tr>\n",
       "      <th>0</th>\n",
       "      <td>ashus</td>\n",
       "      <td>2003-06-24</td>\n",
       "      <td>ashus@gmail.com</td>\n",
       "      <td>Ashus@123</td>\n",
       "    </tr>\n",
       "    <tr>\n",
       "      <th>1</th>\n",
       "      <td>abeg</td>\n",
       "      <td>2000-05-09</td>\n",
       "      <td>a@gmail.com</td>\n",
       "      <td>Runal@354</td>\n",
       "    </tr>\n",
       "  </tbody>\n",
       "</table>\n",
       "</div>"
      ],
      "text/plain": [
       "  Username         Dob            Email   Password\n",
       "0    ashus  2003-06-24  ashus@gmail.com  Ashus@123\n",
       "1     abeg  2000-05-09      a@gmail.com  Runal@354"
      ]
     },
     "execution_count": 60,
     "metadata": {},
     "output_type": "execute_result"
    }
   ],
   "source": [
    "df_UserList"
   ]
  },
  {
   "cell_type": "code",
   "execution_count": 74,
   "metadata": {},
   "outputs": [],
   "source": [
    "def Login():\n",
    "    while True:\n",
    "        uname=input(\"Please Enter your User name :\").strip()\n",
    "        upass=input(\"Please Enter Your Password :\").strip()\n",
    "        VLU=valid_namepass(uname,upass)\n",
    "        if(VLU==True):\n",
    "            return \"Login Successful\"\n",
    "        else:\n",
    "            return \"Login UnSuccessful !Login Password is incorrect!\"    \n",
    "        \n",
    "def valid_namepass(un,ps):\n",
    "    for i in df_UserList.iloc(0):\n",
    "        if(i.Username!=un and i.Password!=ps):\n",
    "            continue;\n",
    "        if i.Username==un and i.Password==ps:\n",
    "            return True\n",
    "        return False"
   ]
  },
  {
   "cell_type": "code",
   "execution_count": 76,
   "metadata": {},
   "outputs": [
    {
     "name": "stdout",
     "output_type": "stream",
     "text": [
      "Please Enter your User name :ashus\n",
      "Please Enter Your Password :Ashus@123\n"
     ]
    },
    {
     "data": {
      "text/plain": [
       "'Login Successful'"
      ]
     },
     "execution_count": 76,
     "metadata": {},
     "output_type": "execute_result"
    }
   ],
   "source": [
    "#Login \n",
    "Login()"
   ]
  },
  {
   "cell_type": "code",
   "execution_count": null,
   "metadata": {},
   "outputs": [],
   "source": []
  },
  {
   "cell_type": "code",
   "execution_count": null,
   "metadata": {},
   "outputs": [],
   "source": []
  }
 ],
 "metadata": {
  "kernelspec": {
   "display_name": "Python 3",
   "language": "python",
   "name": "python3"
  },
  "language_info": {
   "codemirror_mode": {
    "name": "ipython",
    "version": 3
   },
   "file_extension": ".py",
   "mimetype": "text/x-python",
   "name": "python",
   "nbconvert_exporter": "python",
   "pygments_lexer": "ipython3",
   "version": "3.8.3"
  }
 },
 "nbformat": 4,
 "nbformat_minor": 5
}
