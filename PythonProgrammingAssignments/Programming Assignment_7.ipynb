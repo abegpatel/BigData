{
 "cells": [
  {
   "cell_type": "markdown",
   "metadata": {},
   "source": [
    "## Programming Basic Assignment 7"
   ]
  },
  {
   "cell_type": "markdown",
   "metadata": {},
   "source": [
    "------------------\n",
    "### 1. Write a Python Program to find sum of array?\n"
   ]
  },
  {
   "cell_type": "code",
   "execution_count": 3,
   "metadata": {},
   "outputs": [
    {
     "name": "stdout",
     "output_type": "stream",
     "text": [
      "Please enter the size of an array: 6\n",
      "1,2,3,4,5,6\n",
      "The Sum of the Array is :  21\n"
     ]
    }
   ],
   "source": [
    "def Sum_Arr(arr):\n",
    "    sum=0\n",
    "    for i in arr:\n",
    "        sum+=i\n",
    "    return sum\n",
    "n=int(input(\"Please enter the size of an array: \"))\n",
    "arr=[int(i) for i in input().split(',')]\n",
    "print(\"The Sum of the Array is : \",Sum_Arr(arr))"
   ]
  },
  {
   "cell_type": "markdown",
   "metadata": {},
   "source": [
    "-----------------\n",
    "### 2. Write a Python Program to find largest element in an array?\n"
   ]
  },
  {
   "cell_type": "code",
   "execution_count": 4,
   "metadata": {},
   "outputs": [
    {
     "name": "stdout",
     "output_type": "stream",
     "text": [
      "Please enter the size of an array: 10\n",
      "12,34,56,7,89,34,23,46,75,85\n",
      "The max Element of the Array is :  89\n"
     ]
    }
   ],
   "source": [
    "def max_Arr(arr):#return max(arr)\n",
    "    max=arr[0]\n",
    "    for i in arr:\n",
    "        if i>max:\n",
    "            max=i\n",
    "    return max\n",
    "n=int(input(\"Please enter the size of an array: \"))\n",
    "arr=[int(i) for i in input().split(',')]\n",
    "print(\"The max Element of the Array is : \",max_Arr(arr))"
   ]
  },
  {
   "cell_type": "markdown",
   "metadata": {},
   "source": [
    "----------------\n",
    "### 3. Write a Python Program for array rotation?"
   ]
  },
  {
   "cell_type": "code",
   "execution_count": 11,
   "metadata": {
    "scrolled": true
   },
   "outputs": [
    {
     "name": "stdout",
     "output_type": "stream",
     "text": [
      "Please enter the size of an array :  5\n",
      "Enter the no. of elemnet to rotate : 2\n",
      "1,2,3,4,5\n",
      "The rotate of the Array by  is :  [3, 4, 5, 1, 2]\n"
     ]
    }
   ],
   "source": [
    "def rotate_Arr(arr,d):\n",
    "    return arr[d:]+arr[:d]\n",
    "\n",
    "n=int(input(\"Please enter the size of an array :  \"))\n",
    "d=int(input(\"Enter the no. of elemnet to rotate : \"))\n",
    "arr=list(map(int,input().split(',')))\n",
    "print(\"The rotate of the Array by  is : \",rotate_Arr(arr,d))"
   ]
  },
  {
   "cell_type": "markdown",
   "metadata": {},
   "source": [
    "-------------\n",
    "### 4. Write a Python Program to Split the array and add the first part to the end?\n"
   ]
  },
  {
   "cell_type": "code",
   "execution_count": 12,
   "metadata": {},
   "outputs": [
    {
     "name": "stdout",
     "output_type": "stream",
     "text": [
      "Please enter the size of an array :  10\n",
      "Enter the index to split : 5\n",
      "1,2,3,4,5,6,7,8,9,10\n",
      "The rotate of the Array by  is :  [6, 7, 8, 9, 10, 1, 2, 3, 4, 5]\n"
     ]
    }
   ],
   "source": [
    "def split_Arr(arr,d):\n",
    "    return arr[d:]+arr[:d]\n",
    "\n",
    "n=int(input(\"Please enter the size of an array :  \"))\n",
    "d=int(input(\"Enter the index to split : \"))\n",
    "arr=list(map(int,input().split(',')))\n",
    "print(\"The rotate of the Array by  is : \",split_Arr(arr,d))"
   ]
  },
  {
   "cell_type": "markdown",
   "metadata": {},
   "source": [
    "--------------\n",
    "### 5. Write a Python Program to check if given array is Monotonic?"
   ]
  },
  {
   "cell_type": "code",
   "execution_count": 14,
   "metadata": {},
   "outputs": [
    {
     "name": "stdout",
     "output_type": "stream",
     "text": [
      "Please enter the size of an array: 4\n",
      "6,5,4,4\n",
      "The of the Array is :  True\n"
     ]
    }
   ],
   "source": [
    "def ismonotonic(arr):\n",
    "    x,y=[],[]\n",
    "    x.extend(arr)\n",
    "    y.extend(arr)\n",
    "    x.sort()\n",
    "    y.sort(reverse=True)\n",
    "    if(x==arr or y ==arr):\n",
    "        return True\n",
    "    return False\n",
    "    \n",
    "n=int(input(\"Please enter the size of an array: \"))\n",
    "arr=[int(i) for i in input().split(',')]\n",
    "print(\"The of the Array is : \",ismonotonic(arr))"
   ]
  }
 ],
 "metadata": {
  "kernelspec": {
   "display_name": "Python 3",
   "language": "python",
   "name": "python3"
  }
 },
 "nbformat": 4,
 "nbformat_minor": 5
}
