{
 "cells": [
  {
   "cell_type": "markdown",
   "metadata": {
    "id": "YhdxM30HnSkx"
   },
   "source": [
    "Q1. What is the purpose of Python's OOP?\n",
    "Ans - OOPs refers to Object oriented programming that usees objects and classes in Programming, where in python everything is treated as Object which has behaviour(methods) and properties(attributes).\n",
    "-It aims to implement real-world entities like inheritance, polymorphisms, encapsulation etc."
   ]
  },
  {
   "cell_type": "markdown",
   "metadata": {
    "id": "V6Kl_Bqaon8Y"
   },
   "source": [
    "Q2. Where does an inheritance search look for an attribute?\n",
    "Ans-An inheritance search looks for an attribute first in the instance object, then in the class the instance was created from, then in all higher superclasses, progressing from left to right . \n",
    "-The search stops at the first place the attribute is found.\n"
   ]
  },
  {
   "cell_type": "markdown",
   "metadata": {
    "id": "oWU-str6ppo-"
   },
   "source": [
    "Q3. How do you distinguish between a class object and an instance object?\n",
    "-An object is a real world entity which has state and behaviour and the instance is single and unique unit of class.\n",
    "example: Bird b1 = new Bird()\n",
    "         Bird b2= new Bird()\n",
    "         where b1 and b2 are the instance object which may not holds any value untill it assigned.\n",
    "-after assigning value with the help of directly,constructor and setter method it act as object of corresponding class.\n",
    "- b1=Bird(\"pegion\",\"white\") b1->is an object"
   ]
  },
  {
   "cell_type": "markdown",
   "metadata": {
    "id": "2HI91-d4sqQY"
   },
   "source": [
    "Q4. What makes the first argument in a class’s method function special?\n",
    "Ans. We can use first argument as self in a particular class that refers to the reference object to that particular class.\n",
    "Example:\n",
    "class MyClass:\n",
    "     def func(self,name):\n",
    "        self.name = name\n"
   ]
  },
  {
   "cell_type": "markdown",
   "metadata": {
    "id": "V5CWgl9Q0W_N"
   },
   "source": [
    "Q5. What is the purpose of the init method?\n",
    "Ans. init method used for initialization of the variable through constructor.which as self keyword used for reference to the object of that particular class\n",
    "\n",
    "class MyClass:\n",
    "  def __init__(self,name,age):\n",
    "    self.myname=name\n",
    "    self.myage=age\n"
   ]
  },
  {
   "cell_type": "markdown",
   "metadata": {
    "id": "g2i6W4Nv0XCC"
   },
   "source": [
    "Q6. What is the process for creating a class instance?\n",
    "Ans.Class is the Buleprint But object/instance of a class holds the properties/Attributes for that particular class.we can create the instance in python using\n",
    "Syntax:\n",
    "object=classname(args)\n",
    "\n"
   ]
  },
  {
   "cell_type": "markdown",
   "metadata": {
    "id": "v6_P7VRA0XEy"
   },
   "source": [
    "Q7. What is the process for creating a class?\n",
    "- Class is a blueprint or set of user defined data type which consist of data members and member function.\n",
    "-we can create class by class keyword in python\n",
    "\n",
    "Syntax:\n",
    "class MyClassName:\n"
   ]
  },
  {
   "cell_type": "markdown",
   "metadata": {
    "id": "LpmB16u00XKa"
   },
   "source": [
    "Q8. How would you define the superclasses of a class?\n",
    "- Super class refers to the Base class or parent class which have one or more subclass or derived class .The derived class derives the property of a super class/Base class called inheritnance.\n",
    "Example:\n",
    "lass Vehicle:\n",
    "  rate=12000\n",
    "  colour='red'\n",
    "class car(Vehicle):\n",
    "  def __init__(self,name):\n",
    "    self.name=name\n",
    "  def show1(self):\n",
    "    print(\"the details are\",self.name,self.colour,self.rate)\n",
    "\n",
    "carobj= car(\"alto\")\n",
    "carobj.show1()\n",
    "\n",
    "\n",
    "\n"
   ]
  },
  {
   "cell_type": "code",
   "execution_count": null,
   "metadata": {
    "colab": {
     "base_uri": "https://localhost:8080/"
    },
    "id": "pqjrNjun6pI5",
    "outputId": "01be4119-761e-445d-eebe-e0fb68745495"
   },
   "outputs": [
    {
     "name": "stdout",
     "output_type": "stream",
     "text": [
      "the details are alto red 12000\n"
     ]
    }
   ],
   "source": [
    "class Vehicle:\n",
    "  rate=12000\n",
    "  colour='red'\n",
    "class car(Vehicle):\n",
    "  def __init__(self,name):\n",
    "    self.name=name\n",
    "  def show1(self):\n",
    "    print(\"the details are\",self.name,self.colour,self.rate)\n",
    "\n",
    "carobj= car(\"alto\")\n",
    "carobj.show1()\n"
   ]
  },
  {
   "cell_type": "markdown",
   "metadata": {
    "id": "pCU6gNkF0XNS"
   },
   "source": [
    ":Q9. What is the relationship between classes and modules?\n",
    "Ans. Classes are the buleprints that allows to create instance with attributes and behaviour and supports Inheritance,Polymorphism and encapsulation.\n",
    "Syntax:\n",
    "class myclass:\n",
    "  def __init__(self):\n",
    "obj=myclass()\n",
    "Where as modules .py file containing python defination and statements.\n",
    "module in python is simply a way to organize the code, and it contains either python classes or just functions. If we need those classes or functions in your project, we just import them.\n",
    "Example:\n",
    "from math import pow\n",
    "print(pow(2,3))"
   ]
  },
  {
   "cell_type": "code",
   "execution_count": null,
   "metadata": {
    "colab": {
     "base_uri": "https://localhost:8080/"
    },
    "id": "bNjy7SGn8q3D",
    "outputId": "386a3d4e-cf1f-413d-8607-651b436bc604"
   },
   "outputs": [
    {
     "name": "stdout",
     "output_type": "stream",
     "text": [
      "8.0\n"
     ]
    }
   ],
   "source": [
    "from math import pow\n",
    "print(pow(2,3))"
   ]
  },
  {
   "cell_type": "markdown",
   "metadata": {
    "id": "y332IfcJ0XRa"
   },
   "source": [
    "Q10. How do you make instances and classes?\n",
    "Ans In Python , Classes are the bule prints which has data members and member function init where as instance/object is the reference to that particular class which has state and behaviour.\n",
    "Example:\n",
    "class- > class MyClass:\n",
    "objact -> obj=MyClass()"
   ]
  },
  {
   "cell_type": "code",
   "execution_count": null,
   "metadata": {
    "colab": {
     "base_uri": "https://localhost:8080/"
    },
    "id": "DOrTLShM92fA",
    "outputId": "4683dba1-9770-49c4-e3aa-057e733fd880"
   },
   "outputs": [
    {
     "name": "stdout",
     "output_type": "stream",
     "text": [
      "The name of Person is  Abeg\n",
      "The Age of Person Is  22\n",
      "The name of Person is  Ashis\n",
      "The Age of Person Is  23\n",
      "The name of Person is  Ashik\n",
      "The Age of Person Is  23\n"
     ]
    }
   ],
   "source": [
    "#Print name and age using class and object\n",
    "class MyClass:\n",
    "   def __init__(self,name,age):\n",
    "    self.name=name\n",
    "    self.age=age\n",
    "   def show(self):\n",
    "    print(\"The name of Person is \",self.name)\n",
    "    print(\"The Age of Person Is \",self.age)\n",
    "#creating instance object\n",
    "obj = MyClass(\"Abeg\",22)\n",
    "obj1= MyClass(\"Ashis\",23)\n",
    "obj2 = MyClass(\"Ashik\",23)\n",
    "obj.show()\n",
    "obj1.show()\n",
    "obj2.show()\n"
   ]
  },
  {
   "cell_type": "markdown",
   "metadata": {
    "id": "cA94XEQT_C23"
   },
   "source": [
    "Q11. Where and how should be class attributes created?\n",
    "Ans. Classes attributes are the Properties of a class which are created/initialize with in the class.\n",
    "For Example:\n"
   ]
  },
  {
   "cell_type": "code",
   "execution_count": null,
   "metadata": {
    "colab": {
     "base_uri": "https://localhost:8080/"
    },
    "id": "4sTv1eRy-j3i",
    "outputId": "904d3c56-2f00-48e0-f966-5ee49ee3a227"
   },
   "outputs": [
    {
     "name": "stdout",
     "output_type": "stream",
     "text": [
      "The name of Person is  Abeg\n",
      "The Age of Person Is  22\n",
      "The name of Person is  Ashik\n",
      "The Age of Person Is  23\n",
      "The name of Person is  Ashis\n",
      "The Age of Person Is  23\n",
      "68\n"
     ]
    }
   ],
   "source": [
    "#Q11. Where and how should be class attributes created?\n",
    "class MyClass:\n",
    "  sum_val=0 #class attributes usecases\n",
    "  def __init__(self,name,age):\n",
    "    self.name=name\n",
    "    self.age=age\n",
    "  def show(self):\n",
    "    print(\"The name of Person is \",self.name)\n",
    "    print(\"The Age of Person Is \",self.age)\n",
    "  def calSumage(self):\n",
    "    MyClass.sum_val+=self.age\n",
    "  \n",
    "obj=MyClass(\"Abeg\",22)\n",
    "obj.show()\n",
    "obj.calSumage()\n",
    "\n",
    "obj1=MyClass(\"Ashik\",23)\n",
    "obj1.show()\n",
    "obj1.calSumage()\n",
    "\n",
    "obj2=MyClass(\"Ashis\",23)\n",
    "obj2.show()\n",
    "obj2.calSumage()\n",
    "\n",
    "print(obj2.sum_val)\n",
    "\n",
    " \n",
    "    \n"
   ]
  },
  {
   "cell_type": "markdown",
   "metadata": {
    "id": "pkl-beR9_CUB"
   },
   "source": [
    "Q12. Where and how are instance attributes created?\n",
    "Ans.Instances attributes are the those attributes which can be create when creating the instance.which are passed from the driver code to class directly,using constructor,using setter method using self parameter.\n",
    "Example:"
   ]
  },
  {
   "cell_type": "code",
   "execution_count": null,
   "metadata": {
    "colab": {
     "base_uri": "https://localhost:8080/"
    },
    "id": "9GCHvxKPDfbR",
    "outputId": "09452068-3b2f-4a25-e6df-41778f1fcea2"
   },
   "outputs": [
    {
     "name": "stdout",
     "output_type": "stream",
     "text": [
      "The name of Person is  Abeg\n",
      "The Age of Person Is  22\n",
      "The name of Person is  Ashik\n",
      "The Age of Person Is  23\n",
      "The name of Person is  Ashis\n",
      "The Age of Person Is  23\n",
      "68\n"
     ]
    }
   ],
   "source": [
    "#Q12. Where and how are instance attributes created?\n",
    "class MyClass:\n",
    "  sum_val=0 #class attributes usecases\n",
    "  def __init__(self,name,age):\n",
    "    self.name=name #Instance attributes\n",
    "    self.age=age  #Instances attributes\n",
    "  def show(self):\n",
    "    print(\"The name of Person is \",self.name)\n",
    "    print(\"The Age of Person Is \",self.age)\n",
    "  def calSumage(self):\n",
    "    MyClass.sum_val+=self.age\n",
    "  \n",
    "obj=MyClass(\"Abeg\",22) #Intance attributes\n",
    "obj.show()\n",
    "obj.calSumage()\n",
    "\n",
    "obj1=MyClass(\"Ashik\",23)\n",
    "obj1.show()\n",
    "obj1.calSumage()\n",
    "\n",
    "obj2=MyClass(\"Ashis\",23)\n",
    "obj2.show()\n",
    "obj2.calSumage()\n",
    "\n",
    "print(obj2.sum_val)\n",
    "\n",
    " "
   ]
  },
  {
   "cell_type": "markdown",
   "metadata": {
    "id": "-ymf2TgeDwU2"
   },
   "source": [
    "Q13. What does the term \"self\" in a Python class mean?\n",
    "Ans. The term \"self\" refres to the current objact of the class and used to access the variables of the class.\n",
    "Example:\n",
    "class MyClass:\n",
    "   def __init__(self,name,age):\n",
    "    self.name=name\n",
    "    self.age=age\n",
    "   def show(self):\n",
    "    print(\"The name of Person is \",self.name)\n",
    "    print(\"The Age of Person Is \",self.age)\n",
    "\n",
    "obj = MyClass(\"Abeg\",22)\n",
    "obj.show()"
   ]
  },
  {
   "cell_type": "markdown",
   "metadata": {
    "id": "kazQx5yXNoj9"
   },
   "source": [
    "Q14. How does a Python class handle operator overloading?\n",
    "Ans. operator overloading in python refers to the same Operator can perform multiple operations .\n",
    "-we use the \"+\" operator for adding two integers as well as joining two strings or merging two lists. We can achieve this as the \"+\" operator is overloaded by the \"int\" class and \"str\" class.\n",
    "Example:\n",
    "\"+\" operator overloaded for addition for integer,String and list.\n",
    "\"*\" overloaded for multiplication of integers and string with integres"
   ]
  },
  {
   "cell_type": "markdown",
   "metadata": {
    "id": "OVyRf1jzxbxm"
   },
   "source": [
    "Q15. When do you consider allowing operator overloading of your classes?\n",
    "Ans. we can use operator overloading when we have to perform different operation with one operator with same /different data types.\n",
    "\"+\" operator overloaded for addition for integer,String and list.\n",
    "\"*\" overloaded for multiplication of integers and string with integres."
   ]
  },
  {
   "cell_type": "code",
   "execution_count": null,
   "metadata": {
    "colab": {
     "base_uri": "https://localhost:8080/"
    },
    "id": "GNH8UzS2w6v2",
    "outputId": "65054ab5-9cc8-4b79-9f50-064bd97e0451"
   },
   "outputs": [
    {
     "name": "stdout",
     "output_type": "stream",
     "text": [
      "3\n",
      "abegpatel\n"
     ]
    }
   ],
   "source": [
    "#15.Example:adding two objects\n",
    "class A:\n",
    "  def __init__(self, a):\n",
    "    self.a = a\n",
    "\n",
    "# adding two objects\n",
    "  def __add__(self, o):\n",
    "    return self.a + o.a\n",
    "ob1 = A(1)\n",
    "ob2 = A(2)\n",
    "ob3 = A(\"abeg\")\n",
    "ob4 = A('patel')\n",
    "print(ob1 + ob2)\n",
    "print(ob3 + ob4)\n"
   ]
  },
  {
   "cell_type": "markdown",
   "metadata": {
    "id": "uZj_k8nrz-32"
   },
   "source": [
    "Q16. What is the most popular form of operator overloading?\n",
    "Ans. The most popular form of operator overloading is Addition (+) operator.  The '+' operator operates on two numbers and the same operator operates on two strings. It performs “Addition” on numbers whereas it performs “Concatenation” on strings."
   ]
  },
  {
   "cell_type": "code",
   "execution_count": null,
   "metadata": {
    "colab": {
     "base_uri": "https://localhost:8080/"
    },
    "id": "cQ_csSUHy0wl",
    "outputId": "60e9563e-4a2a-4f20-d5b0-cf4d4d2dc1b1"
   },
   "outputs": [
    {
     "name": "stdout",
     "output_type": "stream",
     "text": [
      "6.2\n",
      "abegpatel\n"
     ]
    }
   ],
   "source": [
    "#addtion of two no\n",
    "print(3+3.2)\n",
    "#addtion of two string\n",
    "print(\"abeg\"+\"patel\")"
   ]
  },
  {
   "cell_type": "markdown",
   "metadata": {
    "id": "bLEpV-8V0uPd"
   },
   "source": [
    "Q17. What are the two most important concepts to grasp in order to comprehend Python OOP code?\n",
    "Ans.The two most important concepts to Python OOPs are:\n",
    "-Inhertance: The derived class/child class derive the properties of base class/parent class is called inheritance used for code usability.\n",
    "-Polymorphism:refres to ploy means multiple and morphism refres to structure.\n",
    "method having same name with different structure is called polymorphism.\n",
    "-Both are used for designing robust, flexible, and easy-to-maintain software"
   ]
  },
  {
   "cell_type": "markdown",
   "metadata": {
    "id": "kGDRpkFU2wcb"
   },
   "source": [
    "Q18. Describe three applications for exception processing?\n",
    "Ans. TypeError-Raised when two different types are combined\n",
    "Example:1+\"abeg\"\n",
    "IndentationError-Raised when indentation is not correct.\n",
    "Example:if(True):\n",
    "print(\"hello\")\n",
    "ZeroDivisionError:Raised when the second operator in a division is zero\n",
    "Example:12/0\n"
   ]
  },
  {
   "cell_type": "markdown",
   "metadata": {
    "id": "JXvJT5oM2wh5"
   },
   "source": [
    "Q19. What happens if you don't do something extra to treat an exception?\n",
    "Ans. If we don't handel such exceptions then when users enter the value that may leads to an runtime error the execution stopped.\n",
    "-To handel such kind of error in python we use raise Exception or try-except-else block to manage that exception."
   ]
  },
  {
   "cell_type": "markdown",
   "metadata": {
    "id": "Uxwl1w6Z_ePc"
   },
   "source": [
    "Q20. What are your options for recovering from an exception in your script?\n",
    "Ans.Recovering from an exception in our scripts are:\n",
    "1. We can reaise that exception\n",
    "Example:\n",
    "if(age < 18):\n",
    "   raise \"you are not eligible\"\n",
    "2.We can use Try,Except and else block \n",
    "to handel such kind of exception\n",
    "  try:\n",
    "     executeable stmt\n",
    "  except < exception name>:\n",
    "     stmt\n",
    "  else:\n",
    "     stmt"
   ]
  },
  {
   "cell_type": "markdown",
   "metadata": {
    "id": "p4ftXwV7C6l_"
   },
   "source": [
    "Q21. Describe two methods for triggering exceptions in your script.\n",
    "Ans.Two methods for triggering exceptions in your script are:\n",
    "1.raise \n",
    "2.try-except-else block\n",
    "\n",
    "examples:\n",
    "\n"
   ]
  },
  {
   "cell_type": "code",
   "execution_count": null,
   "metadata": {
    "colab": {
     "base_uri": "https://localhost:8080/"
    },
    "id": "5Wuk6eCu0pUi",
    "outputId": "972f40f7-af6e-4f26-ff86-9c2979c1cf7e"
   },
   "outputs": [
    {
     "name": "stdout",
     "output_type": "stream",
     "text": [
      "0.6666666666666666\n",
      "Not divisible by zero\n"
     ]
    }
   ],
   "source": [
    "#21.Example:\n",
    "def AB(a , b):\n",
    "    try:\n",
    "        c = a/b\n",
    "    except ZeroDivisionError:\n",
    "        print (\"Not divisible by zero\")\n",
    "    else:\n",
    "        print (c)\n",
    "AB(2,3)\n",
    "AB(2,0)"
   ]
  },
  {
   "cell_type": "code",
   "execution_count": null,
   "metadata": {
    "id": "H9wCmOsD7ti7"
   },
   "outputs": [],
   "source": [
    "#20.Example:\n",
    "x = \"hello\"\n",
    "\n",
    "if not type(x) is int:\n",
    "  raise TypeError(\"Only integers are allowed\")"
   ]
  },
  {
   "cell_type": "markdown",
   "metadata": {
    "id": "9vTxda5V_94-"
   },
   "source": [
    "Q22. Identify two methods for specifying actions to be executed at termination time, regardless of whether or not an exception exists.\n",
    "Ans. Two methods for specifying actions to be executed at termination time, regardless of whether or not an exception exists are:\n",
    "1.Else Block\n",
    "2.Finally block"
   ]
  },
  {
   "cell_type": "code",
   "execution_count": null,
   "metadata": {
    "colab": {
     "base_uri": "https://localhost:8080/"
    },
    "id": "L-WKgMxZ-s81",
    "outputId": "1fec589b-5532-4fca-cfd6-e27a16b6b93b"
   },
   "outputs": [
    {
     "name": "stdout",
     "output_type": "stream",
     "text": [
      "Not divisible by zero\n",
      "finally block executed\n",
      "else block executed\n",
      "finally block executed\n"
     ]
    }
   ],
   "source": [
    "#Q22.Example\n",
    "def AB(a , b):\n",
    "    try:\n",
    "        c = a/b\n",
    "    except ZeroDivisionError:\n",
    "        print (\"Not divisible by zero\")\n",
    "    else:\n",
    "      print (\"else block executed\")\n",
    "    finally:\n",
    "      print(\"finally block executed\")\n",
    "AB(2,0)#exception exist\n",
    "AB(6,2)#exception does not exist"
   ]
  },
  {
   "cell_type": "markdown",
   "metadata": {
    "id": "ShIWLBJ9R4Eg"
   },
   "source": [
    "Q23. What is the purpose of the try statement?\n",
    "Ans. Try statement in python is used for Test a block of code for Errors.\n",
    "Example:\n",
    "def AB(a , b):\n",
    "    try:\n",
    "        c = a/b\n",
    "    except ZeroDivisionError:\n",
    "        print (\"Not divisible by zero\")\n",
    "AB(2,0)"
   ]
  },
  {
   "cell_type": "markdown",
   "metadata": {
    "id": "DnfyGrVMSfIi"
   },
   "source": [
    "Q24. What are the two most popular try statement variations?\n",
    "Ans. The two variations of try statemnet are:\n",
    "1.try:\n",
    "    Code\n",
    "except:\n",
    "    Executed if error in  try block\n",
    "\n",
    "2.try:\n",
    "    Code\n",
    "except:\n",
    "    Executed if error in try block\n",
    "else:\n",
    "    execute if no exception  \n"
   ]
  },
  {
   "cell_type": "markdown",
   "metadata": {
    "id": "o0JDMGiFURW2"
   },
   "source": [
    "Q25. What is the purpose of the raise statement?\n",
    "Ans.The raise keyword is used to raise an exception.\n",
    "-We can define what kind of error to raise, and the text to print to the user.\n",
    "Example:\n",
    "x = -1\n",
    "\n",
    "if x < 0:\n",
    "  raise Exception(\"Sorry, no numbers below zero\")\n"
   ]
  },
  {
   "cell_type": "markdown",
   "metadata": {
    "id": "y4f6ypiiURZt"
   },
   "source": [
    "Q26. What does the assert statement do, and what other statement is it like?\n",
    "Ans.It simply takes input a boolean condition,if it is true doesn't return anything.if it is computed to be false, it raises an AssertionError along with an optional message.\n",
    "-It is like raise statemnet,if there is an exception it will raise some exception.\n",
    "Syntax:\n",
    "assert <condition>,<error message>"
   ]
  },
  {
   "cell_type": "code",
   "execution_count": null,
   "metadata": {
    "id": "r2GdECm8WbKi"
   },
   "outputs": [],
   "source": [
    "#Q26.Assertion example:\n",
    "def avg(marks):\n",
    "    assert len(marks) != 0,\"List is empty.\"\n",
    "    return sum(marks)/len(marks)\n",
    "\n",
    "mark2 = [55,88,78,90,79]\n",
    "print(\"Average of mark2:\",avg(mark2))#Average of mark2: 78.0\n",
    "\n",
    "mark1 = []\n",
    "print(\"Average of mark1:\",avg(mark1))#AssertionError: List is empty."
   ]
  },
  {
   "cell_type": "markdown",
   "metadata": {
    "id": "hkH678JVURcR"
   },
   "source": [
    "Q27. What is the purpose of the with/as argument, and what other statement is it like?\n",
    "Ans. The with statement is a replacement for commonly used try/finally error-handling statements.\n",
    "-Example of using the with statement is opening a file\n",
    "- To open and write to a file in Python We can use the with statement.\n",
    "Synatx:\n",
    "with open(\"example.txt\", \"w\") as file:\n",
    "    file.write(\"Hi!my name is Abeg Patel\")\n",
    "-The with statement automatically closes the file after you’ve completed writing it.the with statement replaces this kind of try-catch block\n",
    "Example:\n",
    "f = open(\"example.txt\", \"w\")\n",
    "try:\n",
    "    f.write(\"hello world\")\n",
    "finally:\n",
    "    f.close()\n"
   ]
  },
  {
   "cell_type": "markdown",
   "metadata": {
    "id": "7ulwbWYnURfK"
   },
   "source": [
    "Q28. What are *args, **kwargs?\n",
    "Ans. *args - used for passing multiple arguments in a function which will add multiple arguments as a collection called Tuple.\n",
    "Synatx:\n",
    "def myFun(*args):\n",
    "\n",
    " \n",
    "myFun('my','age','is',22)\n",
    "\n",
    "**Kwargs - used for passing multiple key value arguments in a function which will add multiple arguments as Dictionary.\n",
    "\n",
    "def myFun(**kwargs):\n",
    "\n",
    " \n",
    "myFun(name='abeg',age=15)\n"
   ]
  },
  {
   "cell_type": "code",
   "execution_count": null,
   "metadata": {
    "colab": {
     "base_uri": "https://localhost:8080/"
    },
    "id": "1sEIjasRRL2J",
    "outputId": "558b0eba-1fa0-459f-beae-a91835e777b1"
   },
   "outputs": [
    {
     "name": "stdout",
     "output_type": "stream",
     "text": [
      "<class 'tuple'>\n",
      "my\n",
      "age\n",
      "is\n",
      "22\n"
     ]
    }
   ],
   "source": [
    "#Q28.\n",
    "def myFun(*argv):\n",
    "  print(type(argv))\n",
    "  for arg in argv:\n",
    "    print(arg)\n",
    " \n",
    "myFun('my','age','is',22)"
   ]
  },
  {
   "cell_type": "code",
   "execution_count": null,
   "metadata": {
    "colab": {
     "base_uri": "https://localhost:8080/"
    },
    "id": "QEaVMkiSUjuX",
    "outputId": "09e24f13-c4fc-4d3d-c73f-0e997806c4f6"
   },
   "outputs": [
    {
     "name": "stdout",
     "output_type": "stream",
     "text": [
      "('name', 'abeg')\n",
      "('age', '15')\n"
     ]
    }
   ],
   "source": [
    "#Q28.\n",
    "def myFun1(**kwargs):\n",
    "  for k,v in kwargs.items():\n",
    "    print((k,v))\n",
    " \n",
    "myFun1(name ='abeg',age = '15')"
   ]
  },
  {
   "cell_type": "markdown",
   "metadata": {
    "id": "2BieqwI2-biI"
   },
   "source": [
    "Q29. How can I pass optional or keyword parameters from one function to another?\n",
    "Ans.We can pass optional/default parameter in a function as argument by providing default value to that variable.\n",
    "Example:\n",
    "Syntax:def myFun(a,b=20):\n"
   ]
  },
  {
   "cell_type": "code",
   "execution_count": null,
   "metadata": {
    "colab": {
     "base_uri": "https://localhost:8080/"
    },
    "id": "jOxvLO7r9obI",
    "outputId": "1bcb8fe0-2508-4207-ee86-8c475bb2bbf2"
   },
   "outputs": [
    {
     "name": "stdout",
     "output_type": "stream",
     "text": [
      "40\n"
     ]
    }
   ],
   "source": [
    "#Q29.\n",
    "def myFun(a,b=20):\n",
    "  return a+b\n",
    "\n",
    "print(myFun(20))"
   ]
  },
  {
   "cell_type": "markdown",
   "metadata": {
    "id": "mUNWdVadAGhV"
   },
   "source": [
    "Q30. What are Lambda Functions?\n",
    "Ans. Lambda functions are intended as a shorthand for defining functions that can come in handy to write concise code without wasting multiple lines defining a function. They are also known as anonymous functions.\n",
    "Syntax:\n",
    "func_name = lambda args:operation\n"
   ]
  },
  {
   "cell_type": "code",
   "execution_count": null,
   "metadata": {
    "colab": {
     "base_uri": "https://localhost:8080/"
    },
    "id": "Ta-wpuGX_uwu",
    "outputId": "622fc7db-6864-4e96-c1a4-06c5be6ca142"
   },
   "outputs": [
    {
     "name": "stdout",
     "output_type": "stream",
     "text": [
      "15\n"
     ]
    }
   ],
   "source": [
    "#Q30.Calculate sum of Numbers in a list using lambda\n",
    "from functools import reduce\n",
    "sum_no=lambda a,b:a+b\n",
    "\n",
    "list1=[1,2,3,4,5]\n",
    "output = reduce(sum_no,list1)\n",
    "print(output)"
   ]
  },
  {
   "cell_type": "markdown",
   "metadata": {
    "id": "qfllQ5XHCzK_"
   },
   "source": [
    "Q31.Explain Inheritance in Python with an example?\n",
    "Ans.The derived class derives the property of a super class/Base class called inheritnance.\n",
    "Example:\n",
    "class Vehicle:\n",
    "  rate=12000\n",
    "  colour='red'\n",
    "class car(Vehicle):\n",
    "  def __init__(self,name):\n",
    "    self.name=name\n",
    "  def show1(self):\n",
    "    print(\"the details are\",self.name,self.colour,self.rate)\n",
    "\n",
    "carobj= car(\"alto\")\n",
    "carobj.show1()"
   ]
  },
  {
   "cell_type": "code",
   "execution_count": null,
   "metadata": {
    "colab": {
     "base_uri": "https://localhost:8080/"
    },
    "id": "Braf8kFdBQk7",
    "outputId": "5d155914-a01a-41f7-e76f-e88bf7f18977"
   },
   "outputs": [
    {
     "name": "stdout",
     "output_type": "stream",
     "text": [
      "The Car details are : \n",
      " name = Lamborghini Aventador ,colour = red and price  = 90000000 \n"
     ]
    }
   ],
   "source": [
    "class Vehicle:\n",
    "  rate=90000000\n",
    "  colour='red'\n",
    "class car(Vehicle):\n",
    "  def __init__(self,name):\n",
    "    self.name=name\n",
    "  def show(self):\n",
    "    print(\"The Car details are : \\n name = {0} ,colour = {1} and price  = {2} \".format(self.name,self.colour,self.rate))\n",
    "\n",
    "carobj= car(\"Lamborghini Aventador\")\n",
    "carobj.show()"
   ]
  },
  {
   "cell_type": "markdown",
   "metadata": {
    "id": "-dV00JscEXFz"
   },
   "source": [
    "Q32. Suppose class C inherits from classes A and B as class C(A,B).Classes A and B both have their own versions of method func(). If we call func() from an object of class C, which version gets invoked? \n",
    "-class A version of methods gets invoked.It will invoke the base class method.\n"
   ]
  },
  {
   "cell_type": "code",
   "execution_count": null,
   "metadata": {
    "colab": {
     "base_uri": "https://localhost:8080/"
    },
    "id": "hkcSbfSVDSD5",
    "outputId": "ffc7410e-8309-450a-eb70-3b42e23125e9"
   },
   "outputs": [
    {
     "name": "stdout",
     "output_type": "stream",
     "text": [
      "class c\n",
      "claas A\n"
     ]
    }
   ],
   "source": [
    "#Q32.Ans\n",
    "class A:\n",
    "  def func(self):\n",
    "     print(\"claas A\")\n",
    "\n",
    "class B:\n",
    "  def func(self):\n",
    "    print(\"class B\")\n",
    "\n",
    "class C(A,B):\n",
    "  def func1(self):\n",
    "    print(\"class c\")\n",
    "\n",
    "\n",
    "obj=C()\n",
    "obj.func1()\n",
    "obj.func()\n",
    "\n",
    "\n"
   ]
  },
  {
   "cell_type": "markdown",
   "metadata": {
    "id": "zTviJe8NKyX-"
   },
   "source": [
    "Q33. Which methods/functions do we use to determine the type of instance and inheritance?\n",
    "Ans. The isinstance() method checks whether an object is an instance of a class \n",
    "-issubclass() method asks whether one class is a subclass of another class (or other classes.\n",
    "\n"
   ]
  },
  {
   "cell_type": "code",
   "execution_count": null,
   "metadata": {
    "colab": {
     "base_uri": "https://localhost:8080/"
    },
    "id": "Y3XS-ShBjoOU",
    "outputId": "3b5b38c1-efa4-4383-e357-883638d3fee7"
   },
   "outputs": [
    {
     "name": "stdout",
     "output_type": "stream",
     "text": [
      "True\n",
      "True\n"
     ]
    }
   ],
   "source": [
    "class MyClass(object):\n",
    "  pass\n",
    "class MySubClass(MyClass):\n",
    "  pass\n",
    "print(isinstance(MySubClass, object))#check whether the object is instance of particular class or not.\n",
    "print(issubclass(MySubClass, MyClass))#check whether the subcalss is childclass of a class or not."
   ]
  },
  {
   "cell_type": "markdown",
   "metadata": {
    "id": "dK3lwcchlO-y"
   },
   "source": [
    "Q34.Explain the use of the 'nonlocal' keyword in Python.\n",
    "Ans. Non local variable used in nested Fuction where the variable should not belong to the inner function.\n",
    "Example:\n"
   ]
  },
  {
   "cell_type": "code",
   "execution_count": null,
   "metadata": {
    "colab": {
     "base_uri": "https://localhost:8080/"
    },
    "id": "iMmZPPR5kdDt",
    "outputId": "8b2807c4-df6f-4c77-f2ba-1e408a966b05"
   },
   "outputs": [
    {
     "name": "stdout",
     "output_type": "stream",
     "text": [
      "abeg\n"
     ]
    }
   ],
   "source": [
    "def myfunc1():\n",
    "  x = \"abeg\"\n",
    "  def myfunc2():\n",
    "    x = \"hello\"\n",
    "  myfunc2()\n",
    "  return x\n",
    "\n",
    "print(myfunc1())"
   ]
  },
  {
   "cell_type": "markdown",
   "metadata": {
    "id": "lDr37LEHl9vC"
   },
   "source": [
    "Q35. What is the global keyword?\n",
    "Ans.global keyword uesd for accessing global variable to a local block which provides the access of gloabal authority to a inner block."
   ]
  },
  {
   "cell_type": "code",
   "execution_count": null,
   "metadata": {
    "id": "7KZgRJpomECp"
   },
   "outputs": [],
   "source": [
    "c = 1 \n",
    "def add():\n",
    "  c = c + 2 #can not access the c value in a local zone.\n",
    "  print(c)\n",
    "add() #UnboundLocalError: local variable 'c' referenced before assignment"
   ]
  },
  {
   "cell_type": "code",
   "execution_count": null,
   "metadata": {
    "colab": {
     "base_uri": "https://localhost:8080/"
    },
    "id": "XzqncczhnD5Y",
    "outputId": "785978c0-b335-4ade-d82f-ef6c4188538b"
   },
   "outputs": [
    {
     "name": "stdout",
     "output_type": "stream",
     "text": [
      "3\n"
     ]
    }
   ],
   "source": [
    "#using global assignnment in local block\n",
    "c = 1 \n",
    "def add():\n",
    "  global c \n",
    "  c = c + 2 #can access the c value in a local zone.\n",
    "  print(c)\n",
    "add()"
   ]
  }
 ],
 "metadata": {
  "colab": {
   "provenance": []
  },
  "kernelspec": {
   "display_name": "Python 3",
   "language": "python",
   "name": "python3"
  },
  "language_info": {
   "codemirror_mode": {
    "name": "ipython",
    "version": 3
   },
   "file_extension": ".py",
   "mimetype": "text/x-python",
   "name": "python",
   "nbconvert_exporter": "python",
   "pygments_lexer": "ipython3",
   "version": "3.8.3"
  }
 },
 "nbformat": 4,
 "nbformat_minor": 1
}
