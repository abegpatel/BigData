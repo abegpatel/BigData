{
 "cells": [
  {
   "cell_type": "markdown",
   "metadata": {},
   "source": [
    "# Python Basic Programming Assignment 11\n",
    "--------------------"
   ]
  },
  {
   "cell_type": "markdown",
   "metadata": {},
   "source": [
    "### 1. Write a Python program to find words which are greater than given length k?"
   ]
  },
  {
   "cell_type": "code",
   "execution_count": 4,
   "metadata": {},
   "outputs": [
    {
     "name": "stdout",
     "output_type": "stream",
     "text": [
      "Please enter the k length : 2\n",
      "how\n",
      "are\n",
      "you\n",
      "doing\n",
      "have\n",
      "Good\n",
      "day\n"
     ]
    }
   ],
   "source": [
    "def WordsGreLenK(string,k):\n",
    "    my_ls=[]\n",
    "    words=string.split()\n",
    "    for word in words:\n",
    "        if(len(word)>k):\n",
    "            my_ls.append(word)\n",
    "    return my_ls\n",
    "    \n",
    "    \n",
    "    \n",
    "string=\"Hi how are you doing have a Good day\"\n",
    "k=int(input(\"Please enter the k length : \"))\n",
    "for i in WordsGreLenK(string,k):\n",
    "    print(i)"
   ]
  },
  {
   "cell_type": "markdown",
   "metadata": {},
   "source": [
    "### 2. Write a Python program for removing i-th character from a string?"
   ]
  },
  {
   "cell_type": "code",
   "execution_count": 5,
   "metadata": {},
   "outputs": [
    {
     "name": "stdout",
     "output_type": "stream",
     "text": [
      "AbePatel\n"
     ]
    }
   ],
   "source": [
    "#remove char at pos 4\n",
    "my_str=\"AbegPatel\"\n",
    "pos=4\n",
    "new_str=my_str[:pos-1]+my_str[pos:]\n",
    "print(new_str)\n",
    "    "
   ]
  },
  {
   "cell_type": "markdown",
   "metadata": {},
   "source": [
    "### 3. Write a Python program to split and join a string?"
   ]
  },
  {
   "cell_type": "code",
   "execution_count": 10,
   "metadata": {},
   "outputs": [
    {
     "name": "stdout",
     "output_type": "stream",
     "text": [
      "['Hi', 'My', 'name', 'is', 'Abeg', 'Patel']\n",
      "Hi-My-name-is-Abeg-Patel\n"
     ]
    }
   ],
   "source": [
    "my_str=\"Hi My name is Abeg Patel\"\n",
    "split_str=my_str.split(\" \")\n",
    "print(split_str)\n",
    "join_str='-'.join(split_str)\n",
    "print(join_str)"
   ]
  },
  {
   "cell_type": "markdown",
   "metadata": {},
   "source": [
    "### 4. Write a Python to check if a given string is binary string or not?"
   ]
  },
  {
   "cell_type": "code",
   "execution_count": 17,
   "metadata": {},
   "outputs": [
    {
     "name": "stdout",
     "output_type": "stream",
     "text": [
      "101010101 Yes,String is Binary String\n",
      "101012331 No,String is not a Binary String\n"
     ]
    }
   ],
   "source": [
    "def BinaryStr(string):\n",
    "    set_String=set(string)\n",
    "    bin_string={'0','1'}\n",
    "    if(set_String==bin_string or set_String=={'0'} or set_String=={'1'}):\n",
    "        return \"Yes,String is Binary String\"\n",
    "    else:\n",
    "        return \"No,String is not a Binary String\"\n",
    "string1=\"101010101\"\n",
    "string2=\"101012331\"\n",
    "print(string1 +\" \"+ BinaryStr(string1))\n",
    "print(string2 +\" \"+ BinaryStr(string2))"
   ]
  },
  {
   "cell_type": "markdown",
   "metadata": {},
   "source": [
    "### 5. Write a Python program to find uncommon words from two Strings?"
   ]
  },
  {
   "cell_type": "code",
   "execution_count": 29,
   "metadata": {},
   "outputs": [
    {
     "name": "stdout",
     "output_type": "stream",
     "text": [
      "everyone evrybody \n"
     ]
    }
   ],
   "source": [
    "string1=\"hi hello everyone\"#\"rat cat mat pat bat cat\"#\"hi hello everyone\"\n",
    "string2=\"hi hello evrybody\"#\"rat mat dog snake pat cow\"#\"hi hello evrybody\"\n",
    "\n",
    "set_string1=set(string1.split())\n",
    "set_string2=set(string2.split())\n",
    "common=set_string1.intersection(set_string2)\n",
    "result_str=\"\"\n",
    "for i in set_string1:\n",
    "    if i not in common:\n",
    "        result_str+=i + \" \"\n",
    "for j in set_string2:\n",
    "    if j not in common:\n",
    "        result_str+=j + \" \"\n",
    "\n",
    "print(result_str)        \n",
    "    "
   ]
  },
  {
   "cell_type": "markdown",
   "metadata": {},
   "source": [
    "### 6. Write a Python to find all duplicate characters in string?"
   ]
  },
  {
   "cell_type": "code",
   "execution_count": 34,
   "metadata": {},
   "outputs": [
    {
     "name": "stdout",
     "output_type": "stream",
     "text": [
      "['a', 'e']\n"
     ]
    }
   ],
   "source": [
    "my_str=\"AbegPatel\"\n",
    "string=my_str.lower()\n",
    "duplicate_list=[]\n",
    "for i in string:\n",
    "    if(string.count(i)>1):\n",
    "        if i not in duplicate_list:\n",
    "            duplicate_list.append(i)\n",
    "print(duplicate_list)"
   ]
  },
  {
   "cell_type": "markdown",
   "metadata": {},
   "source": [
    "### 7. Write a Python Program to check if a string contains any special character?"
   ]
  },
  {
   "cell_type": "code",
   "execution_count": 38,
   "metadata": {},
   "outputs": [
    {
     "name": "stdout",
     "output_type": "stream",
     "text": [
      "string contains special character \n"
     ]
    }
   ],
   "source": [
    "import re\n",
    "string=\"Hi!My email is abegpatel@gmail.com\"\n",
    "string1=\"hello world\"\n",
    "regex=re.compile('[~!@#$%^&*()_/\\|}{<>:}]')\n",
    "if(regex.search(string)==None):\n",
    "    print(\"String does not contains special Character\")\n",
    "else:\n",
    "    print(\"string contains special character \")\n",
    "    "
   ]
  },
  {
   "cell_type": "code",
   "execution_count": null,
   "metadata": {},
   "outputs": [],
   "source": []
  }
 ],
 "metadata": {
  "kernelspec": {
   "display_name": "Python 3",
   "language": "python",
   "name": "python3"
  },
  "language_info": {
   "codemirror_mode": {
    "name": "ipython",
    "version": 3
   },
   "file_extension": ".py",
   "mimetype": "text/x-python",
   "name": "python",
   "nbconvert_exporter": "python",
   "pygments_lexer": "ipython3",
   "version": "3.8.3"
  }
 },
 "nbformat": 4,
 "nbformat_minor": 5
}
