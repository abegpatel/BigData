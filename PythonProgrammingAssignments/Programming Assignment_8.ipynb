{
 "cells": [
  {
   "cell_type": "markdown",
   "metadata": {},
   "source": [
    "# Python Basic Programming Assignment 8"
   ]
  },
  {
   "cell_type": "markdown",
   "metadata": {},
   "source": [
    "-------------\n",
    "### 1. Write a Python Program to Add Two Matrices?\n"
   ]
  },
  {
   "cell_type": "code",
   "execution_count": 30,
   "metadata": {},
   "outputs": [
    {
     "name": "stdout",
     "output_type": "stream",
     "text": [
      "Enter the size of ROWS: 3\n",
      "Enter the size of COLUMNS: 3\n",
      "1\n",
      "2\n",
      "3\n",
      "4\n",
      "5\n",
      "6\n",
      "7\n",
      "8\n",
      "9\n",
      "[[1, 2, 3], [4, 5, 6], [7, 8, 9]]\n",
      "Enter the size of ROWS: 3\n",
      "Enter the size of COLUMNS: 3\n",
      "9\n",
      "8\n",
      "7\n",
      "6\n",
      "5\n",
      "4\n",
      "3\n",
      "2\n",
      "1\n",
      "[[9, 8, 7], [6, 5, 4], [3, 2, 1]]\n",
      "Addtion Result is :  [[10, 10, 10], [10, 10, 10], [10, 10, 10]]\n"
     ]
    }
   ],
   "source": [
    "def AddMatrices(X,Y):\n",
    "    result = [[X[i][j] + Y[i][j]  for j in range(len(X[0]))] for i in range(len(X))]\n",
    "    return result\n",
    "m=int(input(\"Enter the size of ROWS: \"))\n",
    "n=int(input(\"Enter the size of COLUMNS: \"))\n",
    "mat1=[[int(input()) for i in range(m)]for j in range(n)]\n",
    "print(mat1)\n",
    "m1=int(input(\"Enter the size of ROWS: \"))\n",
    "n1=int(input(\"Enter the size of COLUMNS: \"))\n",
    "mat2=[[int(input()) for i in range(m1)]for j in range(n1)]\n",
    "print(mat2)\n",
    "print(\"Addtion Result is : \",AddMatrices(mat1,mat2))"
   ]
  },
  {
   "cell_type": "markdown",
   "metadata": {},
   "source": [
    "-------------\n",
    "### 2. Write a Python Program to Multiply Two Matrices?"
   ]
  },
  {
   "cell_type": "code",
   "execution_count": 32,
   "metadata": {},
   "outputs": [
    {
     "name": "stdout",
     "output_type": "stream",
     "text": [
      "Enter the size of ROWS: 3\n",
      "Enter the size of COLUMNS: 3\n",
      "1\n",
      "2\n",
      "3\n",
      "4\n",
      "5\n",
      "6\n",
      "7\n",
      "8\n",
      "9\n",
      "[[1, 2, 3], [4, 5, 6], [7, 8, 9]]\n",
      "Enter the size of ROWS: 3\n",
      "Enter the size of COLUMNS: 3\n",
      "9\n",
      "8\n",
      "7\n",
      "6\n",
      "5\n",
      "4\n",
      "3\n",
      "2\n",
      "1\n",
      "[[9, 8, 7], [6, 5, 4], [3, 2, 1]]\n",
      "Multiplication Result is :  [[9, 16, 21], [24, 25, 24], [21, 16, 9]]\n"
     ]
    }
   ],
   "source": [
    "def MultiplyMatrices(X,Y):\n",
    "    result = [[X[i][j] * Y[i][j]  for j in range(len(X[0]))] for i in range(len(X))]\n",
    "    return result\n",
    "m=int(input(\"Enter the size of ROWS: \"))\n",
    "n=int(input(\"Enter the size of COLUMNS: \"))\n",
    "mat1=[[int(input()) for i in range(m)]for j in range(n)]\n",
    "print(mat1)\n",
    "m1=int(input(\"Enter the size of ROWS: \"))\n",
    "n1=int(input(\"Enter the size of COLUMNS: \"))\n",
    "mat2=[[int(input()) for i in range(m1)]for j in range(n1)]\n",
    "print(mat2)\n",
    "print(\"Multiplication Result is : \",MultiplyMatrices(mat1,mat2))"
   ]
  },
  {
   "cell_type": "markdown",
   "metadata": {},
   "source": [
    "-------------\n",
    "### 3. Write a Python Program to Transpose a Matrix?"
   ]
  },
  {
   "cell_type": "code",
   "execution_count": 34,
   "metadata": {},
   "outputs": [
    {
     "name": "stdout",
     "output_type": "stream",
     "text": [
      "Enter the size of ROWS: 3\n",
      "Enter the size of COLUMNS: 3\n",
      "1\n",
      "2\n",
      "3\n",
      "4\n",
      "5\n",
      "6\n",
      "7\n",
      "8\n",
      "9\n",
      "[[1, 2, 3], [4, 5, 6], [7, 8, 9]]\n",
      "Transpose Result is :  [[1, 4, 7], [2, 5, 8], [3, 6, 9]]\n"
     ]
    }
   ],
   "source": [
    "def TransposeMatrices(X):\n",
    "    result = [[X[j][i]  for j in range(len(X[0]))] for i in range(len(X))]\n",
    "    return result\n",
    "m=int(input(\"Enter the size of ROWS: \"))\n",
    "n=int(input(\"Enter the size of COLUMNS: \"))\n",
    "mat=[[int(input()) for i in range(m)]for j in range(n)]\n",
    "print(mat)\n",
    "print(\"Transpose Result is : \",TransposeMatrices(mat))\n"
   ]
  },
  {
   "cell_type": "markdown",
   "metadata": {},
   "source": [
    "------------------\n",
    "### 4. Write a Python Program to Sort Words in Alphabetic Order?\n"
   ]
  },
  {
   "cell_type": "code",
   "execution_count": 47,
   "metadata": {},
   "outputs": [
    {
     "name": "stdout",
     "output_type": "stream",
     "text": [
      "Sorted words are : \n",
      "are\n",
      "doing\n",
      "hi!\n",
      "how\n",
      "you\n"
     ]
    }
   ],
   "source": [
    "def SortAlpha(string):\n",
    "    words=[word.lower() for word in string.split()]\n",
    "    words.sort()\n",
    "    return words\n",
    "    \n",
    "string=\"Hi! How are you doing\"\n",
    "print(\"Sorted words are : \")\n",
    "for i in SortAlpha(string):\n",
    "    print(i)\n"
   ]
  },
  {
   "cell_type": "markdown",
   "metadata": {},
   "source": [
    "-----------------\n",
    "### 5. Write a Python Program to Remove Punctuation From a String?"
   ]
  },
  {
   "cell_type": "code",
   "execution_count": 2,
   "metadata": {},
   "outputs": [
    {
     "name": "stdout",
     "output_type": "stream",
     "text": [
      "hi good morning Have a nice day \n"
     ]
    }
   ],
   "source": [
    "import re\n",
    "string='hi! good morning, H@ave a ni[c]e day '\n",
    "new_str=re.sub(r'[^\\w\\s]','',string)\n",
    "print(new_str)"
   ]
  },
  {
   "cell_type": "code",
   "execution_count": null,
   "metadata": {},
   "outputs": [],
   "source": []
  },
  {
   "cell_type": "code",
   "execution_count": null,
   "metadata": {},
   "outputs": [],
   "source": []
  }
 ],
 "metadata": {
  "kernelspec": {
   "display_name": "Python 3",
   "language": "python",
   "name": "python3"
  },
  "language_info": {
   "codemirror_mode": {
    "name": "ipython",
    "version": 3
   },
   "file_extension": ".py",
   "mimetype": "text/x-python",
   "name": "python",
   "nbconvert_exporter": "python",
   "pygments_lexer": "ipython3",
   "version": "3.8.3"
  }
 },
 "nbformat": 4,
 "nbformat_minor": 5
}
