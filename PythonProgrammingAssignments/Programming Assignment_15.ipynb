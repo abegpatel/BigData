{
 "cells": [
  {
   "cell_type": "markdown",
   "metadata": {},
   "source": [
    "## Python Basic Programming Assignment - 15\n",
    "-------------------"
   ]
  },
  {
   "cell_type": "markdown",
   "metadata": {},
   "source": [
    "### 1. Please write a program using generator to print the numbers which can be divisible by 5 and 7 between 0 and n in comma separated form while n is input by console."
   ]
  },
  {
   "cell_type": "code",
   "execution_count": 12,
   "metadata": {},
   "outputs": [
    {
     "name": "stdout",
     "output_type": "stream",
     "text": [
      "Enter the upper bound Number : 100\n",
      "0,35,70,"
     ]
    }
   ],
   "source": [
    "class Generator:\n",
    "    def __init__(self,num):\n",
    "        self.num=num\n",
    "    def Numdiv7(self):\n",
    "        for i in range(self.num):\n",
    "            if(i%7==0 and i%5==0):\n",
    "                yield i\n",
    "num=int(input(\"Enter the upper bound Number : \"))\n",
    "obj=Generator(num)\n",
    "for i in obj.Numdiv7():\n",
    "    print(i,end=\",\")\n",
    "            "
   ]
  },
  {
   "cell_type": "markdown",
   "metadata": {},
   "source": [
    "--------------\n",
    "### 2. Please write a program using generator to print the even numbers between 0 and n in comma separated form while n is input by console."
   ]
  },
  {
   "cell_type": "code",
   "execution_count": 11,
   "metadata": {},
   "outputs": [
    {
     "name": "stdout",
     "output_type": "stream",
     "text": [
      "Enter the upper bound Number : 100\n",
      "0,2,4,6,8,10,12,14,16,18,20,22,24,26,28,30,32,34,36,38,40,42,44,46,48,50,52,54,56,58,60,62,64,66,68,70,72,74,76,78,80,82,84,86,88,90,92,94,96,98,"
     ]
    }
   ],
   "source": [
    "class Generator:\n",
    "    def __init__(self,num):\n",
    "        self.num=num\n",
    "    def even(self):\n",
    "        for i in range(self.num):\n",
    "            if(i%2==0):\n",
    "                yield i\n",
    "num=int(input(\"Enter the upper bound Number : \"))\n",
    "obj=Generator(num)\n",
    "for i in obj.even():\n",
    "    print(str(i),end=\",\")"
   ]
  },
  {
   "cell_type": "markdown",
   "metadata": {},
   "source": [
    "---------------\n",
    "### 3. Please write a program using list comprehension to print the Fibonacci Sequence in comma separated form with a given n input by console."
   ]
  },
  {
   "cell_type": "code",
   "execution_count": 16,
   "metadata": {},
   "outputs": [
    {
     "name": "stdout",
     "output_type": "stream",
     "text": [
      "Enter the fibo seqence5\n",
      "[0, 1, 1, 2, 3]\n"
     ]
    }
   ],
   "source": [
    "n=int(input(\"Enter the fibo seqence\"))\n",
    "lis = [0,1]\n",
    "[lis.append(lis[i-2] + lis[i-1]) for i in range(2,n)]\n",
    "print(lis)\n",
    "        \n",
    "     \n"
   ]
  },
  {
   "cell_type": "markdown",
   "metadata": {},
   "source": [
    "----------------\n",
    "### 4. Assuming that we have some email addresses in the \"username@companyname.com\" format, please write program to print the user name of a given email address. Both user names and company names are composed of letters only."
   ]
  },
  {
   "cell_type": "code",
   "execution_count": 28,
   "metadata": {},
   "outputs": [
    {
     "name": "stdout",
     "output_type": "stream",
     "text": [
      "Username is :  abegpatel\n"
     ]
    }
   ],
   "source": [
    "email=\"abegpatel@gmail.com\"\n",
    "print(\"Username is : \",email[:email.find('@')])\n"
   ]
  },
  {
   "cell_type": "markdown",
   "metadata": {},
   "source": [
    "--------------------\n",
    "### 5. Define a class named Shape and its subclass Square. The Square class has an init function which takes a length as argument. Both classes have a area function which can print the area of the shape where Shape's area is 0 by default."
   ]
  },
  {
   "cell_type": "code",
   "execution_count": 39,
   "metadata": {},
   "outputs": [
    {
     "name": "stdout",
     "output_type": "stream",
     "text": [
      "The Square class Area :  16\n",
      "The super class Area :  16\n"
     ]
    }
   ],
   "source": [
    "class Shape:\n",
    "    area=0\n",
    "    def Area(self):\n",
    "        print(\"The super class Area : \" ,Shape.area)\n",
    "    \n",
    "class Square(Shape):\n",
    "    def __init__(self,length):\n",
    "        self.length=length\n",
    "    def Area(self,):\n",
    "        Shape.area=(self.length*self.length)\n",
    "        print(\"The Square class Area : \" ,Shape.area)\n",
    "        super().Area()\n",
    "        \n",
    "obj=Square(4) \n",
    "obj.Area()"
   ]
  }
 ],
 "metadata": {
  "kernelspec": {
   "display_name": "Python 3",
   "language": "python",
   "name": "python3"
  },
  "language_info": {
   "codemirror_mode": {
    "name": "ipython",
    "version": 3
   },
   "file_extension": ".py",
   "mimetype": "text/x-python",
   "name": "python",
   "nbconvert_exporter": "python",
   "pygments_lexer": "ipython3",
   "version": "3.8.3"
  }
 },
 "nbformat": 4,
 "nbformat_minor": 5
}
