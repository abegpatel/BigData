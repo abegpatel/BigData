{
 "cells": [
  {
   "cell_type": "markdown",
   "metadata": {},
   "source": [
    "## Python Basic Programming Assignment 10"
   ]
  },
  {
   "cell_type": "markdown",
   "metadata": {},
   "source": [
    "### 1. Write a Python program to find sum of elements in list?"
   ]
  },
  {
   "cell_type": "code",
   "execution_count": 5,
   "metadata": {},
   "outputs": [
    {
     "name": "stdout",
     "output_type": "stream",
     "text": [
      "Please Input the list size : 5\n",
      "1,2,3,4,5\n",
      "The sum of elements in a list is  15\n"
     ]
    }
   ],
   "source": [
    "def SumList(arr):\n",
    "    sum=0\n",
    "    for i in arr:\n",
    "        sum=sum+i\n",
    "    return sum\n",
    "    \n",
    "n=int(input(\"Please Input the list size : \"))\n",
    "arr=[int(i) for i in input().split(',')]\n",
    "print(\"The sum of elements in a list is \",SumList(arr))"
   ]
  },
  {
   "cell_type": "markdown",
   "metadata": {},
   "source": [
    "### 2. Write a Python program to  Multiply all numbers in the list?"
   ]
  },
  {
   "cell_type": "code",
   "execution_count": 6,
   "metadata": {},
   "outputs": [
    {
     "name": "stdout",
     "output_type": "stream",
     "text": [
      "Please Input the list size : 5\n",
      "1,2,3,4,5\n",
      "The Multiplication of elements in a list is  120\n"
     ]
    }
   ],
   "source": [
    "def MultiplyList(arr):\n",
    "    sum=1\n",
    "    for i in arr:\n",
    "        sum=sum*i\n",
    "    return sum\n",
    "    \n",
    "n=int(input(\"Please Input the list size : \"))\n",
    "arr=[int(i) for i in input().split(',')]\n",
    "print(\"The Multiplication of elements in a list is \",MultiplyList(arr))"
   ]
  },
  {
   "cell_type": "markdown",
   "metadata": {},
   "source": [
    "### 3. Write a Python program to find smallest number in a list?"
   ]
  },
  {
   "cell_type": "code",
   "execution_count": 7,
   "metadata": {},
   "outputs": [
    {
     "name": "stdout",
     "output_type": "stream",
     "text": [
      "Please Input the list size : 5\n",
      "1,2,3,4,5\n",
      "The small element in the list is  1\n"
     ]
    }
   ],
   "source": [
    "def SmallEleList(arr):\n",
    "    min=arr[0]\n",
    "    for i in arr:\n",
    "        if(min>i):\n",
    "            min=i\n",
    "    return min\n",
    "    \n",
    "n=int(input(\"Please Input the list size : \"))\n",
    "arr=[int(i) for i in input().split(',')]\n",
    "print(\"The small element in the list is \",SmallEleList(arr))"
   ]
  },
  {
   "cell_type": "markdown",
   "metadata": {},
   "source": [
    "### 4. Write a Python program to find largest number in a list?"
   ]
  },
  {
   "cell_type": "code",
   "execution_count": 8,
   "metadata": {},
   "outputs": [
    {
     "name": "stdout",
     "output_type": "stream",
     "text": [
      "Please Input the list size : 5\n",
      "1,2,3,4,5\n",
      "The Large element in the list is  5\n"
     ]
    }
   ],
   "source": [
    "def LargeEleList(arr):\n",
    "    max=arr[0]\n",
    "    for i in arr:\n",
    "        if(max<i):\n",
    "            max=i\n",
    "    return max\n",
    "    \n",
    "n=int(input(\"Please Input the list size : \"))\n",
    "arr=[int(i) for i in input().split(',')]\n",
    "print(\"The Large element in the list is \",LargeEleList(arr))"
   ]
  },
  {
   "cell_type": "markdown",
   "metadata": {},
   "source": [
    "### 5. Write a Python program to find second largest number in a list?"
   ]
  },
  {
   "cell_type": "code",
   "execution_count": 9,
   "metadata": {},
   "outputs": [
    {
     "name": "stdout",
     "output_type": "stream",
     "text": [
      "Please Input the list size : 5\n",
      "1,2,3,4,5\n",
      "The Second Large element in the list is  4\n"
     ]
    }
   ],
   "source": [
    "def SecLargeEleList(arr):\n",
    "    arr.sort()\n",
    "    return arr[len(arr)-2]\n",
    "    \n",
    "    \n",
    "n=int(input(\"Please Input the list size : \"))\n",
    "arr=[int(i) for i in input().split(',')]\n",
    "print(\"The Second Large element in the list is \",SecLargeEleList(arr))"
   ]
  },
  {
   "cell_type": "markdown",
   "metadata": {},
   "source": [
    "### 6. Write a Python program to find N largest elements from a list?"
   ]
  },
  {
   "cell_type": "code",
   "execution_count": 24,
   "metadata": {},
   "outputs": [
    {
     "name": "stdout",
     "output_type": "stream",
     "text": [
      "Please Input the list size : 7\n",
      "1,2,3,4,5,6,7\n",
      "Please Enter the N largest element : 4\n",
      "The Large element in the list is  [7, 6, 5, 4]\n"
     ]
    }
   ],
   "source": [
    "def NLarge(arr,N):\n",
    "    arr.sort(reverse=True)\n",
    "    return arr[:N]\n",
    "    \n",
    "n=int(input(\"Please Input the list size : \"))\n",
    "arr=[int(i) for i in input().split(',')]\n",
    "N=int(input(\"Please Enter the N largest element : \"))\n",
    "print(\"The Large element in the list is \",NLarge(arr,N))"
   ]
  },
  {
   "cell_type": "markdown",
   "metadata": {},
   "source": [
    "### 7. Write a Python program to print even numbers in a list?"
   ]
  },
  {
   "cell_type": "code",
   "execution_count": 33,
   "metadata": {},
   "outputs": [
    {
     "name": "stdout",
     "output_type": "stream",
     "text": [
      "Please Input the list size : 8\n",
      "1,2,3,4,5,6,7,8\n",
      "The Even Number in the list are : \n",
      "2\n",
      "4\n",
      "6\n",
      "8\n"
     ]
    }
   ],
   "source": [
    "def FindEven(arr):\n",
    "    for i in arr:\n",
    "        if(i%2==0):\n",
    "            print(i)\n",
    "    \n",
    "n=int(input(\"Please Input the list size : \"))\n",
    "arr=[int(i) for i in input().split(',')]\n",
    "print(\"The Even Number in the list are : \")\n",
    "FindEven(arr)"
   ]
  },
  {
   "cell_type": "markdown",
   "metadata": {},
   "source": [
    "### 8. Write a Python program to print odd numbers in a List?"
   ]
  },
  {
   "cell_type": "code",
   "execution_count": 34,
   "metadata": {},
   "outputs": [
    {
     "name": "stdout",
     "output_type": "stream",
     "text": [
      "Please Input the list size : 8\n",
      "1,2,3,4,5,6,7,8\n",
      "The Odd Number in the list are : \n",
      "1\n",
      "3\n",
      "5\n",
      "7\n"
     ]
    }
   ],
   "source": [
    "def FindOdd(arr):\n",
    "    for i in arr:\n",
    "        if(i%2==1):\n",
    "            print(i)\n",
    "    \n",
    "n=int(input(\"Please Input the list size : \"))\n",
    "arr=[int(i) for i in input().split(',')]\n",
    "print(\"The Odd Number in the list are : \")\n",
    "FindOdd(arr)"
   ]
  },
  {
   "cell_type": "markdown",
   "metadata": {},
   "source": [
    "### 9. Write a Python program to Remove empty List from List?"
   ]
  },
  {
   "cell_type": "code",
   "execution_count": 44,
   "metadata": {},
   "outputs": [
    {
     "name": "stdout",
     "output_type": "stream",
     "text": [
      "After removal list is  :  [['abeg', 'ashis', 'ashik'], [22, 24, 24]]\n"
     ]
    }
   ],
   "source": [
    "List_A=[[\"abeg\",\"ashis\",\"ashik\"],[22,24,24],[]]\n",
    "for i in List_A:\n",
    "    if i==[]:\n",
    "        List_A.remove(i)\n",
    "print(\"After removal list is  : \",List_A)\n",
    "        "
   ]
  },
  {
   "cell_type": "markdown",
   "metadata": {},
   "source": [
    "### 10. Write a Python program to Cloning or Copying a list?"
   ]
  },
  {
   "cell_type": "code",
   "execution_count": 47,
   "metadata": {},
   "outputs": [
    {
     "name": "stdout",
     "output_type": "stream",
     "text": [
      "List A elemnets are :  ['red', 'green', 'blue', 'yellow', 'white']\n",
      "After Copy List B elemnets are :  ['red', 'green', 'blue', 'yellow', 'white']\n"
     ]
    }
   ],
   "source": [
    "list_A=[\"red\",\"green\",\"blue\",\"yellow\",\"white\"]\n",
    "list_B=list_A.copy()\n",
    "print(\"List A elemnets are : \",list_A)\n",
    "print(\"After Copy List B elemnets are : \",list_B)\n"
   ]
  },
  {
   "cell_type": "markdown",
   "metadata": {},
   "source": [
    "### 11. Write a Python program to Count occurrences of an element in a list?"
   ]
  },
  {
   "cell_type": "code",
   "execution_count": 53,
   "metadata": {},
   "outputs": [
    {
     "name": "stdout",
     "output_type": "stream",
     "text": [
      "1 count in the list is 2\n",
      "2 count in the list is 3\n",
      "3 count in the list is 1\n",
      "4 count in the list is 4\n",
      "5 count in the list is 2\n",
      "6 count in the list is 3\n",
      "7 count in the list is 1\n",
      "8 count in the list is 2\n"
     ]
    }
   ],
   "source": [
    "List=[1,2,1,4,6,7,5,5,4,3,2,8,6,4,2,6,8,4]\n",
    "for i in set(List):\n",
    "    print(i,\"count in the list is\",List.count(i))"
   ]
  },
  {
   "cell_type": "code",
   "execution_count": null,
   "metadata": {},
   "outputs": [],
   "source": []
  }
 ],
 "metadata": {
  "kernelspec": {
   "display_name": "Python 3",
   "language": "python",
   "name": "python3"
  },
  "language_info": {
   "codemirror_mode": {
    "name": "ipython",
    "version": 3
   },
   "file_extension": ".py",
   "mimetype": "text/x-python",
   "name": "python",
   "nbconvert_exporter": "python",
   "pygments_lexer": "ipython3",
   "version": "3.8.3"
  }
 },
 "nbformat": 4,
 "nbformat_minor": 5
}
